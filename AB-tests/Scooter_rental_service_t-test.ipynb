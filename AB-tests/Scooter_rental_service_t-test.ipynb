{
 "cells": [
  {
   "cell_type": "markdown",
   "id": "2f48f343",
   "metadata": {},
   "source": [
    "# Сервис аренды самокатов GoFast "
   ]
  },
  {
   "cell_type": "markdown",
   "id": "60dc2206",
   "metadata": {},
   "source": [
    "<div style=\"border:solid blue 2px; padding: 20px\">\n",
    "\n",
    "**Цель проекта**: проверить гипотезы и помочь бизнесу вырасти \n",
    "    \n",
    "**Детали использования сервиса аренды самокатов**\n",
    "\n",
    "Сервисом можно пользоваться:\n",
    "\n",
    "*без подписки*\n",
    "- абонентская плата отсутствует;\n",
    "- стоимость одной минуты поездки 8 рублей;\n",
    "- стоимость старта (начала поездки) 50 рублей;\n",
    "  \n",
    "*с подпиской Ultra*\n",
    "- абонентская плата 199 руб. в месяц;\n",
    "- стоимость одной минуты поездки 6 рублей;\n",
    "- стоимость старта (начала поездки) - бесплатно\n",
    "\n",
    "\n",
    "</div>"
   ]
  },
  {
   "cell_type": "markdown",
   "id": "d3f447de",
   "metadata": {},
   "source": [
    "<div style=\"border:solid orange 2px; padding: 20px\">\n",
    "    \n",
    "## Описание данных\n",
    "Данные представлены тремя таблицами с информацией о пользователях, их поездках и подписках за 2021 год для сервиса проката самокатов GoFast\n",
    "\n",
    "**Пользователи — users_go.csv**\n",
    "* user_id - уникальный идентификатор пользователя\n",
    "* name - имя пользователя\n",
    "* age - возраcт\n",
    "* city - город\n",
    "* subscription_type - тип подписки (free, ultra)\n",
    "\n",
    "**Поездки — rides_go.csv**\n",
    "* user_id -\tуникальный идентификатор пользователя\n",
    "* distance - расстояние, которое пользователь проехал в текущей сессии (в метрах\n",
    "* duration - продолжительность сессии (в минутах) — время с того момента, как пользователь нажал кнопку «Начать поездку» до момента, как он нажал кнопку «Завершить поездку»\n",
    "* date - дата совершения поездки\n",
    "\n",
    "**Подписки — subscriptions_go.csv**\n",
    "* subscription_type - тип подписки\n",
    "* minute_price - стоимость одной минуты поездки по данной подпискe\n",
    "* start_ride_price - стоимость начала поездки\n",
    "* subscription_fee - ежемесячный платеж на пожписку"
   ]
  },
  {
   "cell_type": "code",
   "execution_count": 1,
   "id": "40272af7",
   "metadata": {},
   "outputs": [],
   "source": [
    "import pandas as pd\n",
    "import numpy as np\n",
    "import matplotlib.pyplot as plt\n",
    "import seaborn as sns\n",
    "import scipy.stats as st"
   ]
  },
  {
   "cell_type": "markdown",
   "id": "36385a33",
   "metadata": {},
   "source": [
    "## Загрузка данных"
   ]
  },
  {
   "cell_type": "code",
   "execution_count": 2,
   "id": "262f26bc",
   "metadata": {},
   "outputs": [],
   "source": [
    "# загружаем датасет с информацией о пользователях \n",
    "users = pd.read_csv('https://code.s3.yandex.net//datasets/users_go.csv')"
   ]
  },
  {
   "cell_type": "code",
   "execution_count": 3,
   "id": "970562fb",
   "metadata": {},
   "outputs": [
    {
     "data": {
      "text/html": [
       "<div>\n",
       "<style scoped>\n",
       "    .dataframe tbody tr th:only-of-type {\n",
       "        vertical-align: middle;\n",
       "    }\n",
       "\n",
       "    .dataframe tbody tr th {\n",
       "        vertical-align: top;\n",
       "    }\n",
       "\n",
       "    .dataframe thead th {\n",
       "        text-align: right;\n",
       "    }\n",
       "</style>\n",
       "<table border=\"1\" class=\"dataframe\">\n",
       "  <thead>\n",
       "    <tr style=\"text-align: right;\">\n",
       "      <th></th>\n",
       "      <th>user_id</th>\n",
       "      <th>name</th>\n",
       "      <th>age</th>\n",
       "      <th>city</th>\n",
       "      <th>subscription_type</th>\n",
       "    </tr>\n",
       "  </thead>\n",
       "  <tbody>\n",
       "    <tr>\n",
       "      <th>0</th>\n",
       "      <td>1</td>\n",
       "      <td>Кира</td>\n",
       "      <td>22</td>\n",
       "      <td>Тюмень</td>\n",
       "      <td>ultra</td>\n",
       "    </tr>\n",
       "    <tr>\n",
       "      <th>1</th>\n",
       "      <td>2</td>\n",
       "      <td>Станислав</td>\n",
       "      <td>31</td>\n",
       "      <td>Омск</td>\n",
       "      <td>ultra</td>\n",
       "    </tr>\n",
       "    <tr>\n",
       "      <th>2</th>\n",
       "      <td>3</td>\n",
       "      <td>Алексей</td>\n",
       "      <td>20</td>\n",
       "      <td>Москва</td>\n",
       "      <td>ultra</td>\n",
       "    </tr>\n",
       "    <tr>\n",
       "      <th>3</th>\n",
       "      <td>4</td>\n",
       "      <td>Константин</td>\n",
       "      <td>26</td>\n",
       "      <td>Ростов-на-Дону</td>\n",
       "      <td>ultra</td>\n",
       "    </tr>\n",
       "    <tr>\n",
       "      <th>4</th>\n",
       "      <td>5</td>\n",
       "      <td>Адель</td>\n",
       "      <td>28</td>\n",
       "      <td>Омск</td>\n",
       "      <td>ultra</td>\n",
       "    </tr>\n",
       "  </tbody>\n",
       "</table>\n",
       "</div>"
      ],
      "text/plain": [
       "   user_id        name  age            city subscription_type\n",
       "0        1        Кира   22          Тюмень             ultra\n",
       "1        2   Станислав   31            Омск             ultra\n",
       "2        3     Алексей   20          Москва             ultra\n",
       "3        4  Константин   26  Ростов-на-Дону             ultra\n",
       "4        5       Адель   28            Омск             ultra"
      ]
     },
     "execution_count": 3,
     "metadata": {},
     "output_type": "execute_result"
    }
   ],
   "source": [
    "users.head(5)"
   ]
  },
  {
   "cell_type": "code",
   "execution_count": 4,
   "id": "f5e652ee",
   "metadata": {},
   "outputs": [
    {
     "data": {
      "text/plain": [
       "(1565, 5)"
      ]
     },
     "execution_count": 4,
     "metadata": {},
     "output_type": "execute_result"
    }
   ],
   "source": [
    "users.shape"
   ]
  },
  {
   "cell_type": "code",
   "execution_count": 5,
   "id": "c1a8808b",
   "metadata": {},
   "outputs": [
    {
     "name": "stdout",
     "output_type": "stream",
     "text": [
      "<class 'pandas.core.frame.DataFrame'>\n",
      "RangeIndex: 1565 entries, 0 to 1564\n",
      "Data columns (total 5 columns):\n",
      " #   Column             Non-Null Count  Dtype \n",
      "---  ------             --------------  ----- \n",
      " 0   user_id            1565 non-null   int64 \n",
      " 1   name               1565 non-null   object\n",
      " 2   age                1565 non-null   int64 \n",
      " 3   city               1565 non-null   object\n",
      " 4   subscription_type  1565 non-null   object\n",
      "dtypes: int64(2), object(3)\n",
      "memory usage: 61.3+ KB\n"
     ]
    }
   ],
   "source": [
    "users.info()"
   ]
  },
  {
   "cell_type": "code",
   "execution_count": 6,
   "id": "261dd4fc",
   "metadata": {},
   "outputs": [
    {
     "data": {
      "text/html": [
       "<div>\n",
       "<style scoped>\n",
       "    .dataframe tbody tr th:only-of-type {\n",
       "        vertical-align: middle;\n",
       "    }\n",
       "\n",
       "    .dataframe tbody tr th {\n",
       "        vertical-align: top;\n",
       "    }\n",
       "\n",
       "    .dataframe thead th {\n",
       "        text-align: right;\n",
       "    }\n",
       "</style>\n",
       "<table border=\"1\" class=\"dataframe\">\n",
       "  <thead>\n",
       "    <tr style=\"text-align: right;\">\n",
       "      <th></th>\n",
       "      <th>user_id</th>\n",
       "      <th>name</th>\n",
       "      <th>age</th>\n",
       "      <th>city</th>\n",
       "      <th>subscription_type</th>\n",
       "    </tr>\n",
       "  </thead>\n",
       "  <tbody>\n",
       "    <tr>\n",
       "      <th>count</th>\n",
       "      <td>1565.000000</td>\n",
       "      <td>1565</td>\n",
       "      <td>1565.000000</td>\n",
       "      <td>1565</td>\n",
       "      <td>1565</td>\n",
       "    </tr>\n",
       "    <tr>\n",
       "      <th>unique</th>\n",
       "      <td>NaN</td>\n",
       "      <td>194</td>\n",
       "      <td>NaN</td>\n",
       "      <td>8</td>\n",
       "      <td>2</td>\n",
       "    </tr>\n",
       "    <tr>\n",
       "      <th>top</th>\n",
       "      <td>NaN</td>\n",
       "      <td>Мария</td>\n",
       "      <td>NaN</td>\n",
       "      <td>Пятигорск</td>\n",
       "      <td>free</td>\n",
       "    </tr>\n",
       "    <tr>\n",
       "      <th>freq</th>\n",
       "      <td>NaN</td>\n",
       "      <td>23</td>\n",
       "      <td>NaN</td>\n",
       "      <td>226</td>\n",
       "      <td>846</td>\n",
       "    </tr>\n",
       "    <tr>\n",
       "      <th>mean</th>\n",
       "      <td>762.633866</td>\n",
       "      <td>NaN</td>\n",
       "      <td>24.922045</td>\n",
       "      <td>NaN</td>\n",
       "      <td>NaN</td>\n",
       "    </tr>\n",
       "    <tr>\n",
       "      <th>std</th>\n",
       "      <td>443.260155</td>\n",
       "      <td>NaN</td>\n",
       "      <td>4.553496</td>\n",
       "      <td>NaN</td>\n",
       "      <td>NaN</td>\n",
       "    </tr>\n",
       "    <tr>\n",
       "      <th>min</th>\n",
       "      <td>1.000000</td>\n",
       "      <td>NaN</td>\n",
       "      <td>12.000000</td>\n",
       "      <td>NaN</td>\n",
       "      <td>NaN</td>\n",
       "    </tr>\n",
       "    <tr>\n",
       "      <th>25%</th>\n",
       "      <td>378.000000</td>\n",
       "      <td>NaN</td>\n",
       "      <td>22.000000</td>\n",
       "      <td>NaN</td>\n",
       "      <td>NaN</td>\n",
       "    </tr>\n",
       "    <tr>\n",
       "      <th>50%</th>\n",
       "      <td>762.000000</td>\n",
       "      <td>NaN</td>\n",
       "      <td>25.000000</td>\n",
       "      <td>NaN</td>\n",
       "      <td>NaN</td>\n",
       "    </tr>\n",
       "    <tr>\n",
       "      <th>75%</th>\n",
       "      <td>1146.000000</td>\n",
       "      <td>NaN</td>\n",
       "      <td>28.000000</td>\n",
       "      <td>NaN</td>\n",
       "      <td>NaN</td>\n",
       "    </tr>\n",
       "    <tr>\n",
       "      <th>max</th>\n",
       "      <td>1534.000000</td>\n",
       "      <td>NaN</td>\n",
       "      <td>43.000000</td>\n",
       "      <td>NaN</td>\n",
       "      <td>NaN</td>\n",
       "    </tr>\n",
       "  </tbody>\n",
       "</table>\n",
       "</div>"
      ],
      "text/plain": [
       "            user_id   name          age       city subscription_type\n",
       "count   1565.000000   1565  1565.000000       1565              1565\n",
       "unique          NaN    194          NaN          8                 2\n",
       "top             NaN  Мария          NaN  Пятигорск              free\n",
       "freq            NaN     23          NaN        226               846\n",
       "mean     762.633866    NaN    24.922045        NaN               NaN\n",
       "std      443.260155    NaN     4.553496        NaN               NaN\n",
       "min        1.000000    NaN    12.000000        NaN               NaN\n",
       "25%      378.000000    NaN    22.000000        NaN               NaN\n",
       "50%      762.000000    NaN    25.000000        NaN               NaN\n",
       "75%     1146.000000    NaN    28.000000        NaN               NaN\n",
       "max     1534.000000    NaN    43.000000        NaN               NaN"
      ]
     },
     "execution_count": 6,
     "metadata": {},
     "output_type": "execute_result"
    }
   ],
   "source": [
    "users.describe(include='all')"
   ]
  },
  {
   "cell_type": "code",
   "execution_count": 7,
   "id": "a81ebfd0",
   "metadata": {},
   "outputs": [],
   "source": [
    "# загружаем датасет с информацией о поездках \n",
    "rides = pd.read_csv('https://code.s3.yandex.net//datasets/rides_go.csv')"
   ]
  },
  {
   "cell_type": "code",
   "execution_count": 8,
   "id": "1ed8cebe",
   "metadata": {},
   "outputs": [
    {
     "data": {
      "text/html": [
       "<div>\n",
       "<style scoped>\n",
       "    .dataframe tbody tr th:only-of-type {\n",
       "        vertical-align: middle;\n",
       "    }\n",
       "\n",
       "    .dataframe tbody tr th {\n",
       "        vertical-align: top;\n",
       "    }\n",
       "\n",
       "    .dataframe thead th {\n",
       "        text-align: right;\n",
       "    }\n",
       "</style>\n",
       "<table border=\"1\" class=\"dataframe\">\n",
       "  <thead>\n",
       "    <tr style=\"text-align: right;\">\n",
       "      <th></th>\n",
       "      <th>user_id</th>\n",
       "      <th>distance</th>\n",
       "      <th>duration</th>\n",
       "      <th>date</th>\n",
       "    </tr>\n",
       "  </thead>\n",
       "  <tbody>\n",
       "    <tr>\n",
       "      <th>0</th>\n",
       "      <td>1</td>\n",
       "      <td>4409.919140</td>\n",
       "      <td>25.599769</td>\n",
       "      <td>2021-01-01</td>\n",
       "    </tr>\n",
       "    <tr>\n",
       "      <th>1</th>\n",
       "      <td>1</td>\n",
       "      <td>2617.592153</td>\n",
       "      <td>15.816871</td>\n",
       "      <td>2021-01-18</td>\n",
       "    </tr>\n",
       "    <tr>\n",
       "      <th>2</th>\n",
       "      <td>1</td>\n",
       "      <td>754.159807</td>\n",
       "      <td>6.232113</td>\n",
       "      <td>2021-04-20</td>\n",
       "    </tr>\n",
       "    <tr>\n",
       "      <th>3</th>\n",
       "      <td>1</td>\n",
       "      <td>2694.783254</td>\n",
       "      <td>18.511000</td>\n",
       "      <td>2021-08-11</td>\n",
       "    </tr>\n",
       "    <tr>\n",
       "      <th>4</th>\n",
       "      <td>1</td>\n",
       "      <td>4028.687306</td>\n",
       "      <td>26.265803</td>\n",
       "      <td>2021-08-28</td>\n",
       "    </tr>\n",
       "  </tbody>\n",
       "</table>\n",
       "</div>"
      ],
      "text/plain": [
       "   user_id     distance   duration        date\n",
       "0        1  4409.919140  25.599769  2021-01-01\n",
       "1        1  2617.592153  15.816871  2021-01-18\n",
       "2        1   754.159807   6.232113  2021-04-20\n",
       "3        1  2694.783254  18.511000  2021-08-11\n",
       "4        1  4028.687306  26.265803  2021-08-28"
      ]
     },
     "execution_count": 8,
     "metadata": {},
     "output_type": "execute_result"
    }
   ],
   "source": [
    "rides.head(5)"
   ]
  },
  {
   "cell_type": "code",
   "execution_count": 9,
   "id": "59b80623",
   "metadata": {},
   "outputs": [
    {
     "data": {
      "text/plain": [
       "(18068, 4)"
      ]
     },
     "execution_count": 9,
     "metadata": {},
     "output_type": "execute_result"
    }
   ],
   "source": [
    "rides.shape"
   ]
  },
  {
   "cell_type": "code",
   "execution_count": 10,
   "id": "c68fa7d0",
   "metadata": {},
   "outputs": [
    {
     "name": "stdout",
     "output_type": "stream",
     "text": [
      "<class 'pandas.core.frame.DataFrame'>\n",
      "RangeIndex: 18068 entries, 0 to 18067\n",
      "Data columns (total 4 columns):\n",
      " #   Column    Non-Null Count  Dtype  \n",
      "---  ------    --------------  -----  \n",
      " 0   user_id   18068 non-null  int64  \n",
      " 1   distance  18068 non-null  float64\n",
      " 2   duration  18068 non-null  float64\n",
      " 3   date      18068 non-null  object \n",
      "dtypes: float64(2), int64(1), object(1)\n",
      "memory usage: 564.8+ KB\n"
     ]
    }
   ],
   "source": [
    "rides.info()"
   ]
  },
  {
   "cell_type": "code",
   "execution_count": 11,
   "id": "0f0da008",
   "metadata": {},
   "outputs": [
    {
     "data": {
      "text/html": [
       "<div>\n",
       "<style scoped>\n",
       "    .dataframe tbody tr th:only-of-type {\n",
       "        vertical-align: middle;\n",
       "    }\n",
       "\n",
       "    .dataframe tbody tr th {\n",
       "        vertical-align: top;\n",
       "    }\n",
       "\n",
       "    .dataframe thead th {\n",
       "        text-align: right;\n",
       "    }\n",
       "</style>\n",
       "<table border=\"1\" class=\"dataframe\">\n",
       "  <thead>\n",
       "    <tr style=\"text-align: right;\">\n",
       "      <th></th>\n",
       "      <th>user_id</th>\n",
       "      <th>distance</th>\n",
       "      <th>duration</th>\n",
       "    </tr>\n",
       "  </thead>\n",
       "  <tbody>\n",
       "    <tr>\n",
       "      <th>count</th>\n",
       "      <td>18068.000000</td>\n",
       "      <td>18068.000000</td>\n",
       "      <td>18068.000000</td>\n",
       "    </tr>\n",
       "    <tr>\n",
       "      <th>mean</th>\n",
       "      <td>842.869936</td>\n",
       "      <td>3070.659976</td>\n",
       "      <td>17.805011</td>\n",
       "    </tr>\n",
       "    <tr>\n",
       "      <th>std</th>\n",
       "      <td>434.734317</td>\n",
       "      <td>1116.831209</td>\n",
       "      <td>6.091051</td>\n",
       "    </tr>\n",
       "    <tr>\n",
       "      <th>min</th>\n",
       "      <td>1.000000</td>\n",
       "      <td>0.855683</td>\n",
       "      <td>0.500000</td>\n",
       "    </tr>\n",
       "    <tr>\n",
       "      <th>25%</th>\n",
       "      <td>487.000000</td>\n",
       "      <td>2543.226360</td>\n",
       "      <td>13.597563</td>\n",
       "    </tr>\n",
       "    <tr>\n",
       "      <th>50%</th>\n",
       "      <td>889.000000</td>\n",
       "      <td>3133.609994</td>\n",
       "      <td>17.678395</td>\n",
       "    </tr>\n",
       "    <tr>\n",
       "      <th>75%</th>\n",
       "      <td>1213.250000</td>\n",
       "      <td>3776.222735</td>\n",
       "      <td>21.724800</td>\n",
       "    </tr>\n",
       "    <tr>\n",
       "      <th>max</th>\n",
       "      <td>1534.000000</td>\n",
       "      <td>7211.007745</td>\n",
       "      <td>40.823963</td>\n",
       "    </tr>\n",
       "  </tbody>\n",
       "</table>\n",
       "</div>"
      ],
      "text/plain": [
       "            user_id      distance      duration\n",
       "count  18068.000000  18068.000000  18068.000000\n",
       "mean     842.869936   3070.659976     17.805011\n",
       "std      434.734317   1116.831209      6.091051\n",
       "min        1.000000      0.855683      0.500000\n",
       "25%      487.000000   2543.226360     13.597563\n",
       "50%      889.000000   3133.609994     17.678395\n",
       "75%     1213.250000   3776.222735     21.724800\n",
       "max     1534.000000   7211.007745     40.823963"
      ]
     },
     "execution_count": 11,
     "metadata": {},
     "output_type": "execute_result"
    }
   ],
   "source": [
    "rides.describe()"
   ]
  },
  {
   "cell_type": "code",
   "execution_count": 12,
   "id": "04be46ea",
   "metadata": {},
   "outputs": [],
   "source": [
    "# загружает датасет с информацией о подписках\n",
    "subscription = pd.read_csv('https://code.s3.yandex.net//datasets/subscriptions_go.csv')"
   ]
  },
  {
   "cell_type": "code",
   "execution_count": 13,
   "id": "a06b53d4",
   "metadata": {},
   "outputs": [
    {
     "data": {
      "text/html": [
       "<div>\n",
       "<style scoped>\n",
       "    .dataframe tbody tr th:only-of-type {\n",
       "        vertical-align: middle;\n",
       "    }\n",
       "\n",
       "    .dataframe tbody tr th {\n",
       "        vertical-align: top;\n",
       "    }\n",
       "\n",
       "    .dataframe thead th {\n",
       "        text-align: right;\n",
       "    }\n",
       "</style>\n",
       "<table border=\"1\" class=\"dataframe\">\n",
       "  <thead>\n",
       "    <tr style=\"text-align: right;\">\n",
       "      <th></th>\n",
       "      <th>subscription_type</th>\n",
       "      <th>minute_price</th>\n",
       "      <th>start_ride_price</th>\n",
       "      <th>subscription_fee</th>\n",
       "    </tr>\n",
       "  </thead>\n",
       "  <tbody>\n",
       "    <tr>\n",
       "      <th>0</th>\n",
       "      <td>free</td>\n",
       "      <td>8</td>\n",
       "      <td>50</td>\n",
       "      <td>0</td>\n",
       "    </tr>\n",
       "    <tr>\n",
       "      <th>1</th>\n",
       "      <td>ultra</td>\n",
       "      <td>6</td>\n",
       "      <td>0</td>\n",
       "      <td>199</td>\n",
       "    </tr>\n",
       "  </tbody>\n",
       "</table>\n",
       "</div>"
      ],
      "text/plain": [
       "  subscription_type  minute_price  start_ride_price  subscription_fee\n",
       "0              free             8                50                 0\n",
       "1             ultra             6                 0               199"
      ]
     },
     "execution_count": 13,
     "metadata": {},
     "output_type": "execute_result"
    }
   ],
   "source": [
    "subscription.head(5)"
   ]
  },
  {
   "cell_type": "code",
   "execution_count": 14,
   "id": "1f1f9515",
   "metadata": {},
   "outputs": [
    {
     "data": {
      "text/plain": [
       "(2, 4)"
      ]
     },
     "execution_count": 14,
     "metadata": {},
     "output_type": "execute_result"
    }
   ],
   "source": [
    "subscription.shape"
   ]
  },
  {
   "cell_type": "code",
   "execution_count": 15,
   "id": "a1477ab0",
   "metadata": {},
   "outputs": [
    {
     "name": "stdout",
     "output_type": "stream",
     "text": [
      "<class 'pandas.core.frame.DataFrame'>\n",
      "RangeIndex: 2 entries, 0 to 1\n",
      "Data columns (total 4 columns):\n",
      " #   Column             Non-Null Count  Dtype \n",
      "---  ------             --------------  ----- \n",
      " 0   subscription_type  2 non-null      object\n",
      " 1   minute_price       2 non-null      int64 \n",
      " 2   start_ride_price   2 non-null      int64 \n",
      " 3   subscription_fee   2 non-null      int64 \n",
      "dtypes: int64(3), object(1)\n",
      "memory usage: 192.0+ bytes\n"
     ]
    }
   ],
   "source": [
    "subscription.info()"
   ]
  },
  {
   "cell_type": "markdown",
   "id": "8519a718",
   "metadata": {},
   "source": [
    "***\n",
    "**Общая информация о данных**\n",
    "- все три датасета не содержат пропущенных значений\n",
    "- в датасете rides тип данных переменной date (дата поездки) стоит откорректировать object -> datetype\n",
    "- все остальные переменные имеют корректный тип данных\n",
    "*** "
   ]
  },
  {
   "cell_type": "markdown",
   "id": "2c6739ac",
   "metadata": {},
   "source": [
    "## Предобработка данных"
   ]
  },
  {
   "cell_type": "code",
   "execution_count": 16,
   "id": "1c665ed9",
   "metadata": {},
   "outputs": [],
   "source": [
    "# откоректируем тип данных переменной date в датасате rides \n",
    "rides['date'] = pd.to_datetime(rides['date'])"
   ]
  },
  {
   "cell_type": "code",
   "execution_count": 17,
   "id": "e53b2914",
   "metadata": {},
   "outputs": [
    {
     "name": "stdout",
     "output_type": "stream",
     "text": [
      "<class 'pandas.core.frame.DataFrame'>\n",
      "RangeIndex: 18068 entries, 0 to 18067\n",
      "Data columns (total 4 columns):\n",
      " #   Column    Non-Null Count  Dtype         \n",
      "---  ------    --------------  -----         \n",
      " 0   user_id   18068 non-null  int64         \n",
      " 1   distance  18068 non-null  float64       \n",
      " 2   duration  18068 non-null  float64       \n",
      " 3   date      18068 non-null  datetime64[ns]\n",
      "dtypes: datetime64[ns](1), float64(2), int64(1)\n",
      "memory usage: 564.8 KB\n"
     ]
    }
   ],
   "source": [
    "rides.info()"
   ]
  },
  {
   "cell_type": "code",
   "execution_count": 18,
   "id": "40432427",
   "metadata": {},
   "outputs": [
    {
     "name": "stderr",
     "output_type": "stream",
     "text": [
      "/tmp/ipykernel_48/3463909398.py:1: FutureWarning: Treating datetime data as categorical rather than numeric in `.describe` is deprecated and will be removed in a future version of pandas. Specify `datetime_is_numeric=True` to silence this warning and adopt the future behavior now.\n",
      "  rides.describe(include='all')\n"
     ]
    },
    {
     "data": {
      "text/html": [
       "<div>\n",
       "<style scoped>\n",
       "    .dataframe tbody tr th:only-of-type {\n",
       "        vertical-align: middle;\n",
       "    }\n",
       "\n",
       "    .dataframe tbody tr th {\n",
       "        vertical-align: top;\n",
       "    }\n",
       "\n",
       "    .dataframe thead th {\n",
       "        text-align: right;\n",
       "    }\n",
       "</style>\n",
       "<table border=\"1\" class=\"dataframe\">\n",
       "  <thead>\n",
       "    <tr style=\"text-align: right;\">\n",
       "      <th></th>\n",
       "      <th>user_id</th>\n",
       "      <th>distance</th>\n",
       "      <th>duration</th>\n",
       "      <th>date</th>\n",
       "    </tr>\n",
       "  </thead>\n",
       "  <tbody>\n",
       "    <tr>\n",
       "      <th>count</th>\n",
       "      <td>18068.000000</td>\n",
       "      <td>18068.000000</td>\n",
       "      <td>18068.000000</td>\n",
       "      <td>18068</td>\n",
       "    </tr>\n",
       "    <tr>\n",
       "      <th>unique</th>\n",
       "      <td>NaN</td>\n",
       "      <td>NaN</td>\n",
       "      <td>NaN</td>\n",
       "      <td>364</td>\n",
       "    </tr>\n",
       "    <tr>\n",
       "      <th>top</th>\n",
       "      <td>NaN</td>\n",
       "      <td>NaN</td>\n",
       "      <td>NaN</td>\n",
       "      <td>2021-12-22 00:00:00</td>\n",
       "    </tr>\n",
       "    <tr>\n",
       "      <th>freq</th>\n",
       "      <td>NaN</td>\n",
       "      <td>NaN</td>\n",
       "      <td>NaN</td>\n",
       "      <td>72</td>\n",
       "    </tr>\n",
       "    <tr>\n",
       "      <th>first</th>\n",
       "      <td>NaN</td>\n",
       "      <td>NaN</td>\n",
       "      <td>NaN</td>\n",
       "      <td>2021-01-01 00:00:00</td>\n",
       "    </tr>\n",
       "    <tr>\n",
       "      <th>last</th>\n",
       "      <td>NaN</td>\n",
       "      <td>NaN</td>\n",
       "      <td>NaN</td>\n",
       "      <td>2021-12-30 00:00:00</td>\n",
       "    </tr>\n",
       "    <tr>\n",
       "      <th>mean</th>\n",
       "      <td>842.869936</td>\n",
       "      <td>3070.659976</td>\n",
       "      <td>17.805011</td>\n",
       "      <td>NaN</td>\n",
       "    </tr>\n",
       "    <tr>\n",
       "      <th>std</th>\n",
       "      <td>434.734317</td>\n",
       "      <td>1116.831209</td>\n",
       "      <td>6.091051</td>\n",
       "      <td>NaN</td>\n",
       "    </tr>\n",
       "    <tr>\n",
       "      <th>min</th>\n",
       "      <td>1.000000</td>\n",
       "      <td>0.855683</td>\n",
       "      <td>0.500000</td>\n",
       "      <td>NaN</td>\n",
       "    </tr>\n",
       "    <tr>\n",
       "      <th>25%</th>\n",
       "      <td>487.000000</td>\n",
       "      <td>2543.226360</td>\n",
       "      <td>13.597563</td>\n",
       "      <td>NaN</td>\n",
       "    </tr>\n",
       "    <tr>\n",
       "      <th>50%</th>\n",
       "      <td>889.000000</td>\n",
       "      <td>3133.609994</td>\n",
       "      <td>17.678395</td>\n",
       "      <td>NaN</td>\n",
       "    </tr>\n",
       "    <tr>\n",
       "      <th>75%</th>\n",
       "      <td>1213.250000</td>\n",
       "      <td>3776.222735</td>\n",
       "      <td>21.724800</td>\n",
       "      <td>NaN</td>\n",
       "    </tr>\n",
       "    <tr>\n",
       "      <th>max</th>\n",
       "      <td>1534.000000</td>\n",
       "      <td>7211.007745</td>\n",
       "      <td>40.823963</td>\n",
       "      <td>NaN</td>\n",
       "    </tr>\n",
       "  </tbody>\n",
       "</table>\n",
       "</div>"
      ],
      "text/plain": [
       "             user_id      distance      duration                 date\n",
       "count   18068.000000  18068.000000  18068.000000                18068\n",
       "unique           NaN           NaN           NaN                  364\n",
       "top              NaN           NaN           NaN  2021-12-22 00:00:00\n",
       "freq             NaN           NaN           NaN                   72\n",
       "first            NaN           NaN           NaN  2021-01-01 00:00:00\n",
       "last             NaN           NaN           NaN  2021-12-30 00:00:00\n",
       "mean      842.869936   3070.659976     17.805011                  NaN\n",
       "std       434.734317   1116.831209      6.091051                  NaN\n",
       "min         1.000000      0.855683      0.500000                  NaN\n",
       "25%       487.000000   2543.226360     13.597563                  NaN\n",
       "50%       889.000000   3133.609994     17.678395                  NaN\n",
       "75%      1213.250000   3776.222735     21.724800                  NaN\n",
       "max      1534.000000   7211.007745     40.823963                  NaN"
      ]
     },
     "execution_count": 18,
     "metadata": {},
     "output_type": "execute_result"
    }
   ],
   "source": [
    "rides.describe(include='all')"
   ]
  },
  {
   "cell_type": "code",
   "execution_count": 19,
   "id": "467c8c82",
   "metadata": {},
   "outputs": [],
   "source": [
    "# создадим столбец с номером месяца на основе переменной date \n",
    "rides['date_month'] = rides['date'].dt.month"
   ]
  },
  {
   "cell_type": "code",
   "execution_count": 20,
   "id": "3e9d122b",
   "metadata": {},
   "outputs": [
    {
     "data": {
      "text/html": [
       "<div>\n",
       "<style scoped>\n",
       "    .dataframe tbody tr th:only-of-type {\n",
       "        vertical-align: middle;\n",
       "    }\n",
       "\n",
       "    .dataframe tbody tr th {\n",
       "        vertical-align: top;\n",
       "    }\n",
       "\n",
       "    .dataframe thead th {\n",
       "        text-align: right;\n",
       "    }\n",
       "</style>\n",
       "<table border=\"1\" class=\"dataframe\">\n",
       "  <thead>\n",
       "    <tr style=\"text-align: right;\">\n",
       "      <th></th>\n",
       "      <th>user_id</th>\n",
       "      <th>distance</th>\n",
       "      <th>duration</th>\n",
       "      <th>date</th>\n",
       "      <th>date_month</th>\n",
       "    </tr>\n",
       "  </thead>\n",
       "  <tbody>\n",
       "    <tr>\n",
       "      <th>0</th>\n",
       "      <td>1</td>\n",
       "      <td>4409.919140</td>\n",
       "      <td>25.599769</td>\n",
       "      <td>2021-01-01</td>\n",
       "      <td>1</td>\n",
       "    </tr>\n",
       "    <tr>\n",
       "      <th>1</th>\n",
       "      <td>1</td>\n",
       "      <td>2617.592153</td>\n",
       "      <td>15.816871</td>\n",
       "      <td>2021-01-18</td>\n",
       "      <td>1</td>\n",
       "    </tr>\n",
       "    <tr>\n",
       "      <th>2</th>\n",
       "      <td>1</td>\n",
       "      <td>754.159807</td>\n",
       "      <td>6.232113</td>\n",
       "      <td>2021-04-20</td>\n",
       "      <td>4</td>\n",
       "    </tr>\n",
       "    <tr>\n",
       "      <th>3</th>\n",
       "      <td>1</td>\n",
       "      <td>2694.783254</td>\n",
       "      <td>18.511000</td>\n",
       "      <td>2021-08-11</td>\n",
       "      <td>8</td>\n",
       "    </tr>\n",
       "    <tr>\n",
       "      <th>4</th>\n",
       "      <td>1</td>\n",
       "      <td>4028.687306</td>\n",
       "      <td>26.265803</td>\n",
       "      <td>2021-08-28</td>\n",
       "      <td>8</td>\n",
       "    </tr>\n",
       "  </tbody>\n",
       "</table>\n",
       "</div>"
      ],
      "text/plain": [
       "   user_id     distance   duration       date  date_month\n",
       "0        1  4409.919140  25.599769 2021-01-01           1\n",
       "1        1  2617.592153  15.816871 2021-01-18           1\n",
       "2        1   754.159807   6.232113 2021-04-20           4\n",
       "3        1  2694.783254  18.511000 2021-08-11           8\n",
       "4        1  4028.687306  26.265803 2021-08-28           8"
      ]
     },
     "execution_count": 20,
     "metadata": {},
     "output_type": "execute_result"
    }
   ],
   "source": [
    "rides.head(5)"
   ]
  },
  {
   "cell_type": "code",
   "execution_count": 21,
   "id": "9e0e54e9",
   "metadata": {},
   "outputs": [
    {
     "name": "stdout",
     "output_type": "stream",
     "text": [
      "<class 'pandas.core.frame.DataFrame'>\n",
      "RangeIndex: 18068 entries, 0 to 18067\n",
      "Data columns (total 5 columns):\n",
      " #   Column      Non-Null Count  Dtype         \n",
      "---  ------      --------------  -----         \n",
      " 0   user_id     18068 non-null  int64         \n",
      " 1   distance    18068 non-null  float64       \n",
      " 2   duration    18068 non-null  float64       \n",
      " 3   date        18068 non-null  datetime64[ns]\n",
      " 4   date_month  18068 non-null  int64         \n",
      "dtypes: datetime64[ns](1), float64(2), int64(2)\n",
      "memory usage: 705.9 KB\n"
     ]
    }
   ],
   "source": [
    "rides.info()"
   ]
  },
  {
   "cell_type": "code",
   "execution_count": 22,
   "id": "004a1fc5",
   "metadata": {},
   "outputs": [
    {
     "data": {
      "text/plain": [
       "31"
      ]
     },
     "execution_count": 22,
     "metadata": {},
     "output_type": "execute_result"
    }
   ],
   "source": [
    "users.duplicated().sum()"
   ]
  },
  {
   "cell_type": "code",
   "execution_count": 23,
   "id": "d0cb0cbc",
   "metadata": {},
   "outputs": [
    {
     "data": {
      "text/plain": [
       "(1534, 5)"
      ]
     },
     "execution_count": 23,
     "metadata": {},
     "output_type": "execute_result"
    }
   ],
   "source": [
    "# на этапе знакомства с данными пропущенных значений выявлено не было. Проведем работы с явными дубликатами \n",
    "users = users.drop_duplicates()\n",
    "users.shape"
   ]
  },
  {
   "cell_type": "code",
   "execution_count": 24,
   "id": "47c8ff8e",
   "metadata": {},
   "outputs": [
    {
     "data": {
      "text/plain": [
       "0"
      ]
     },
     "execution_count": 24,
     "metadata": {},
     "output_type": "execute_result"
    }
   ],
   "source": [
    "rides.duplicated().sum()"
   ]
  },
  {
   "cell_type": "code",
   "execution_count": 25,
   "id": "d739711c",
   "metadata": {},
   "outputs": [
    {
     "data": {
      "text/plain": [
       "0"
      ]
     },
     "execution_count": 25,
     "metadata": {},
     "output_type": "execute_result"
    }
   ],
   "source": [
    "subscription.duplicated().sum()"
   ]
  },
  {
   "cell_type": "code",
   "execution_count": 26,
   "id": "f1872cf3",
   "metadata": {},
   "outputs": [
    {
     "data": {
      "text/plain": [
       "array(['Кира', 'Станислав', 'Алексей', 'Константин', 'Адель', 'Регина',\n",
       "       'Игорь', 'Юрий', 'Ян', 'Валерий', 'Агата', 'Марк', 'Ева',\n",
       "       'Антонина', 'Валерия', 'Амалия', 'Даниил', 'Аделина', 'Святогор',\n",
       "       'Борис', 'Вероника', 'Ростислав', 'Назар', 'Эдуард', 'Василий',\n",
       "       'Денис', 'Тамара', 'Николай', 'Эвелина', 'Федор', 'Руслан', 'Иван',\n",
       "       'Любовь', 'Ярослава', 'Майя', 'Ильдар', 'Данила', 'Нина',\n",
       "       'Стефания', 'Ясмина', 'Дмитрий', 'Александр', 'Одиссей', 'Арсений',\n",
       "       'Алла', 'Таисия', 'Максим', 'Юлиана', 'Павел', 'Карина', 'Алиса',\n",
       "       'Лидия', 'Рамиль', 'Родион', 'Ника', 'Оксана', 'Анастасия',\n",
       "       'Маргарита', 'Вера', 'Тимур', 'Никита', 'Лев', 'Влад', 'Артур',\n",
       "       'Анна', 'Ольга', 'Вячеслав', 'Ксения', 'Виталина', 'Владислав',\n",
       "       'Тамерлан', 'Амина', 'Вадим', 'Олеся', 'Зарина', 'Егор', 'Гордей',\n",
       "       'Лилия', 'Святослав', 'Роберт', 'Амир', 'Влада', 'Богдан',\n",
       "       'Полина', 'Марат', 'Елисей', 'Макар', 'Алина', 'Глеб', 'Андрей',\n",
       "       'Альбина', 'Людмила', 'Марсель', 'Милена', 'Диана', 'Дарина',\n",
       "       'Данил', 'Артемий', 'Лиана', 'Альберт', 'Герман', 'Жанна', 'Нелли',\n",
       "       'Евгения', 'Ариана', 'Самира', 'Захар', 'Эльвира', 'Екатерина',\n",
       "       'Инна', 'Демид', 'Яна', 'Михаил', 'Татьяна', 'Степан', 'Мелания',\n",
       "       'Тимофей', 'Ирина', 'Анжелика', 'Владислава', 'Елизавета',\n",
       "       'Мадина', 'Снежана', 'Даниэль', 'Рустам', 'Каролина', 'Ангелина',\n",
       "       'Владимир', 'Виктория', 'Валентина', 'Семен', 'Арина', 'Лариса',\n",
       "       'Есения', 'Галина', 'Кирилл', 'Игнат', 'Виталий', 'Эмилия',\n",
       "       'Виолетта', 'Яромир', 'Софья', 'Мирослава', 'Евгений', 'Варвара',\n",
       "       'Платон', 'Наталия', 'Анатолий', 'Кристина', 'Всеволод', 'Дарья',\n",
       "       'Наташа', 'Мария', 'Марина', 'Василиса', 'Юлия', 'Илья', 'Злата',\n",
       "       'Роман', 'Наталья', 'Элина', 'Арсен', 'Айдар', 'Алия', 'Виктор',\n",
       "       'Мирон', 'Ульяна', 'Георгий', 'Петр', 'Эльмира', 'Олег', 'Дамир',\n",
       "       'Самир', 'Ярослав', 'Камилла', 'Сергей', 'Эмиль', 'Радмир',\n",
       "       'Савелий', 'Елена', 'Антон', 'Мирослав', 'София', 'Тихон', 'Артём',\n",
       "       'Давид', 'Григорий', 'Алёна', 'Светлана', 'Леонид', 'Александра',\n",
       "       'Василина', 'Милана', 'Матвей'], dtype=object)"
      ]
     },
     "execution_count": 26,
     "metadata": {},
     "output_type": "execute_result"
    }
   ],
   "source": [
    "# выявление неявных дубликатов. В основном неявные дубликаты могут содержаться в переменных типа object, поэтому проверим переменные с этим типом данных\n",
    "users['name'].unique()"
   ]
  },
  {
   "cell_type": "code",
   "execution_count": 27,
   "id": "caa3b4d0",
   "metadata": {},
   "outputs": [
    {
     "data": {
      "text/plain": [
       "Мария        22\n",
       "Анна         22\n",
       "Дмитрий      17\n",
       "Александр    17\n",
       "Никита       16\n",
       "             ..\n",
       "Илья          3\n",
       "Семен         2\n",
       "Радмир        1\n",
       "Милана        1\n",
       "Тихон         1\n",
       "Name: name, Length: 194, dtype: int64"
      ]
     },
     "execution_count": 27,
     "metadata": {},
     "output_type": "execute_result"
    }
   ],
   "source": [
    "users['name'].value_counts()"
   ]
  },
  {
   "cell_type": "code",
   "execution_count": 28,
   "id": "16ec280d",
   "metadata": {},
   "outputs": [],
   "source": [
    "users['name'] = (\n",
    "    users['name']\n",
    "    .str.replace('ё', 'е')\n",
    ") "
   ]
  },
  {
   "cell_type": "code",
   "execution_count": 29,
   "id": "007f4921",
   "metadata": {},
   "outputs": [
    {
     "data": {
      "text/plain": [
       "array(['Тюмень', 'Омск', 'Москва', 'Ростов-на-Дону', 'Краснодар',\n",
       "       'Пятигорск', 'Екатеринбург', 'Сочи'], dtype=object)"
      ]
     },
     "execution_count": 29,
     "metadata": {},
     "output_type": "execute_result"
    }
   ],
   "source": [
    "users['city'].unique()"
   ]
  },
  {
   "cell_type": "code",
   "execution_count": 30,
   "id": "622edf8d",
   "metadata": {},
   "outputs": [
    {
     "data": {
      "text/plain": [
       "Пятигорск         219\n",
       "Екатеринбург      204\n",
       "Ростов-на-Дону    198\n",
       "Краснодар         193\n",
       "Сочи              189\n",
       "Омск              183\n",
       "Тюмень            180\n",
       "Москва            168\n",
       "Name: city, dtype: int64"
      ]
     },
     "execution_count": 30,
     "metadata": {},
     "output_type": "execute_result"
    }
   ],
   "source": [
    "users['city'].value_counts()"
   ]
  },
  {
   "cell_type": "code",
   "execution_count": 31,
   "id": "033c159f",
   "metadata": {},
   "outputs": [
    {
     "data": {
      "text/plain": [
       "array(['ultra', 'free'], dtype=object)"
      ]
     },
     "execution_count": 31,
     "metadata": {},
     "output_type": "execute_result"
    }
   ],
   "source": [
    "users['subscription_type'].unique()"
   ]
  },
  {
   "cell_type": "code",
   "execution_count": 32,
   "id": "3e7b1550",
   "metadata": {},
   "outputs": [
    {
     "data": {
      "text/plain": [
       "free     835\n",
       "ultra    699\n",
       "Name: subscription_type, dtype: int64"
      ]
     },
     "execution_count": 32,
     "metadata": {},
     "output_type": "execute_result"
    }
   ],
   "source": [
    "users['subscription_type'].value_counts()"
   ]
  },
  {
   "cell_type": "markdown",
   "id": "dec18bf3",
   "metadata": {},
   "source": [
    "***\n",
    "**Вывод**\n",
    "- На этапе предобработки данных был добавлен столбец date_month в датаврэйм ridesс информацией о номере месяца поездки\n",
    "- Были удалены явные дубликаты в таблице users в остальных датафрэймах явных дубликатов обнаружено не было\n",
    "- Данные были проверены на неявные дубликаты, их не было обнаружено\n",
    "***"
   ]
  },
  {
   "cell_type": "markdown",
   "id": "a1d736ef",
   "metadata": {},
   "source": [
    "## Исследовательский анализ данных"
   ]
  },
  {
   "cell_type": "markdown",
   "id": "1f800af9",
   "metadata": {},
   "source": [
    "изучим распределение ключевых переменных проекта "
   ]
  },
  {
   "cell_type": "markdown",
   "id": "2faba016",
   "metadata": {},
   "source": [
    "**Частота встречаемости городов**"
   ]
  },
  {
   "cell_type": "code",
   "execution_count": 33,
   "id": "ce60df94",
   "metadata": {},
   "outputs": [
    {
     "name": "stderr",
     "output_type": "stream",
     "text": [
      "/tmp/ipykernel_48/2835888710.py:4: UserWarning: FixedFormatter should only be used together with FixedLocator\n",
      "  ax.set_xticklabels(labels, rotation=45)\n"
     ]
    },
    {
     "data": {
      "text/plain": [
       "[Text(0, 0, 'Тюмень'),\n",
       " Text(1, 0, 'Омск'),\n",
       " Text(2, 0, 'Москва'),\n",
       " Text(3, 0, 'Ростов-на-Дону'),\n",
       " Text(4, 0, 'Краснодар'),\n",
       " Text(5, 0, 'Пятигорск'),\n",
       " Text(6, 0, 'Екатеринбург'),\n",
       " Text(7, 0, 'Сочи')]"
      ]
     },
     "execution_count": 33,
     "metadata": {},
     "output_type": "execute_result"
    },
    {
     "data": {
      "image/png": "[encoded data removed]",
      "text/plain": [
       "<Figure size 432x288 with 1 Axes>"
      ]
     },
     "metadata": {
      "needs_background": "light"
     },
     "output_type": "display_data"
    }
   ],
   "source": [
    "ax = sns.histplot(users['city'])\n",
    "labels = users['city'].unique()\n",
    "ax.set_xlabel('Cities', fontsize=10)\n",
    "ax.set_xticklabels(labels, rotation=45)"
   ]
  },
  {
   "cell_type": "code",
   "execution_count": 34,
   "id": "2fffb63b",
   "metadata": {},
   "outputs": [
    {
     "data": {
      "text/html": [
       "<div>\n",
       "<style scoped>\n",
       "    .dataframe tbody tr th:only-of-type {\n",
       "        vertical-align: middle;\n",
       "    }\n",
       "\n",
       "    .dataframe tbody tr th {\n",
       "        vertical-align: top;\n",
       "    }\n",
       "\n",
       "    .dataframe thead th {\n",
       "        text-align: right;\n",
       "    }\n",
       "</style>\n",
       "<table border=\"1\" class=\"dataframe\">\n",
       "  <thead>\n",
       "    <tr style=\"text-align: right;\">\n",
       "      <th></th>\n",
       "      <th>index</th>\n",
       "      <th>city</th>\n",
       "    </tr>\n",
       "  </thead>\n",
       "  <tbody>\n",
       "    <tr>\n",
       "      <th>0</th>\n",
       "      <td>Пятигорск</td>\n",
       "      <td>219</td>\n",
       "    </tr>\n",
       "    <tr>\n",
       "      <th>1</th>\n",
       "      <td>Екатеринбург</td>\n",
       "      <td>204</td>\n",
       "    </tr>\n",
       "    <tr>\n",
       "      <th>2</th>\n",
       "      <td>Ростов-на-Дону</td>\n",
       "      <td>198</td>\n",
       "    </tr>\n",
       "    <tr>\n",
       "      <th>3</th>\n",
       "      <td>Краснодар</td>\n",
       "      <td>193</td>\n",
       "    </tr>\n",
       "    <tr>\n",
       "      <th>4</th>\n",
       "      <td>Сочи</td>\n",
       "      <td>189</td>\n",
       "    </tr>\n",
       "    <tr>\n",
       "      <th>5</th>\n",
       "      <td>Омск</td>\n",
       "      <td>183</td>\n",
       "    </tr>\n",
       "    <tr>\n",
       "      <th>6</th>\n",
       "      <td>Тюмень</td>\n",
       "      <td>180</td>\n",
       "    </tr>\n",
       "    <tr>\n",
       "      <th>7</th>\n",
       "      <td>Москва</td>\n",
       "      <td>168</td>\n",
       "    </tr>\n",
       "  </tbody>\n",
       "</table>\n",
       "</div>"
      ],
      "text/plain": [
       "            index  city\n",
       "0       Пятигорск   219\n",
       "1    Екатеринбург   204\n",
       "2  Ростов-на-Дону   198\n",
       "3       Краснодар   193\n",
       "4            Сочи   189\n",
       "5            Омск   183\n",
       "6          Тюмень   180\n",
       "7          Москва   168"
      ]
     },
     "execution_count": 34,
     "metadata": {},
     "output_type": "execute_result"
    }
   ],
   "source": [
    "cities = pd.DataFrame(users['city'].value_counts()).reset_index()\n",
    "cities"
   ]
  },
  {
   "cell_type": "code",
   "execution_count": 35,
   "id": "2b37da0a",
   "metadata": {},
   "outputs": [
    {
     "data": {
      "text/plain": [
       "[None,\n",
       " None,\n",
       " None,\n",
       " None,\n",
       " None,\n",
       " None,\n",
       " None,\n",
       " None,\n",
       " None,\n",
       " None,\n",
       " None,\n",
       " None,\n",
       " None,\n",
       " None,\n",
       " None,\n",
       " None]"
      ]
     },
     "execution_count": 35,
     "metadata": {},
     "output_type": "execute_result"
    },
    {
     "data": {
      "image/png": "[encoded data removed]",
      "text/plain": [
       "<Figure size 432x288 with 1 Axes>"
      ]
     },
     "metadata": {
      "needs_background": "light"
     },
     "output_type": "display_data"
    }
   ],
   "source": [
    "ax = sns.barplot(x = cities['index'], y=cities['city'])\n",
    "plt.title('Частота всречаемости городов, среди пользователей сервиса самокатов')\n",
    "plt.xlabel('Город', fontsize=10)\n",
    "plt.ylabel('Частота', fontsize=10)\n",
    "plt.setp(ax.get_xticklabels(), fontsize=10, rotation=45)"
   ]
  },
  {
   "cell_type": "markdown",
   "id": "7356d25b",
   "metadata": {},
   "source": [
    "**Вывод**\n",
    "- выборка является относительно взвешенной по географической представленности\n",
    "- наиболее частво встречающийся город - Пятигорск\n",
    "- наименее часто встречающийся город - Москва "
   ]
  },
  {
   "cell_type": "markdown",
   "id": "60a65010",
   "metadata": {},
   "source": [
    "***\n",
    "**Соотношение пользователей с подпиской и без подписки**"
   ]
  },
  {
   "cell_type": "code",
   "execution_count": 36,
   "id": "8b5fa4b7",
   "metadata": {},
   "outputs": [
    {
     "data": {
      "text/html": [
       "<div>\n",
       "<style scoped>\n",
       "    .dataframe tbody tr th:only-of-type {\n",
       "        vertical-align: middle;\n",
       "    }\n",
       "\n",
       "    .dataframe tbody tr th {\n",
       "        vertical-align: top;\n",
       "    }\n",
       "\n",
       "    .dataframe thead th {\n",
       "        text-align: right;\n",
       "    }\n",
       "</style>\n",
       "<table border=\"1\" class=\"dataframe\">\n",
       "  <thead>\n",
       "    <tr style=\"text-align: right;\">\n",
       "      <th></th>\n",
       "      <th>user_id</th>\n",
       "      <th>name</th>\n",
       "      <th>age</th>\n",
       "      <th>city</th>\n",
       "      <th>subscription_type</th>\n",
       "    </tr>\n",
       "  </thead>\n",
       "  <tbody>\n",
       "    <tr>\n",
       "      <th>0</th>\n",
       "      <td>1</td>\n",
       "      <td>Кира</td>\n",
       "      <td>22</td>\n",
       "      <td>Тюмень</td>\n",
       "      <td>ultra</td>\n",
       "    </tr>\n",
       "    <tr>\n",
       "      <th>1</th>\n",
       "      <td>2</td>\n",
       "      <td>Станислав</td>\n",
       "      <td>31</td>\n",
       "      <td>Омск</td>\n",
       "      <td>ultra</td>\n",
       "    </tr>\n",
       "    <tr>\n",
       "      <th>2</th>\n",
       "      <td>3</td>\n",
       "      <td>Алексей</td>\n",
       "      <td>20</td>\n",
       "      <td>Москва</td>\n",
       "      <td>ultra</td>\n",
       "    </tr>\n",
       "    <tr>\n",
       "      <th>3</th>\n",
       "      <td>4</td>\n",
       "      <td>Константин</td>\n",
       "      <td>26</td>\n",
       "      <td>Ростов-на-Дону</td>\n",
       "      <td>ultra</td>\n",
       "    </tr>\n",
       "    <tr>\n",
       "      <th>4</th>\n",
       "      <td>5</td>\n",
       "      <td>Адель</td>\n",
       "      <td>28</td>\n",
       "      <td>Омск</td>\n",
       "      <td>ultra</td>\n",
       "    </tr>\n",
       "  </tbody>\n",
       "</table>\n",
       "</div>"
      ],
      "text/plain": [
       "   user_id        name  age            city subscription_type\n",
       "0        1        Кира   22          Тюмень             ultra\n",
       "1        2   Станислав   31            Омск             ultra\n",
       "2        3     Алексей   20          Москва             ultra\n",
       "3        4  Константин   26  Ростов-на-Дону             ultra\n",
       "4        5       Адель   28            Омск             ultra"
      ]
     },
     "execution_count": 36,
     "metadata": {},
     "output_type": "execute_result"
    }
   ],
   "source": [
    "users.head(5)"
   ]
  },
  {
   "cell_type": "code",
   "execution_count": 37,
   "id": "262df095",
   "metadata": {},
   "outputs": [
    {
     "data": {
      "text/html": [
       "<div>\n",
       "<style scoped>\n",
       "    .dataframe tbody tr th:only-of-type {\n",
       "        vertical-align: middle;\n",
       "    }\n",
       "\n",
       "    .dataframe tbody tr th {\n",
       "        vertical-align: top;\n",
       "    }\n",
       "\n",
       "    .dataframe thead th {\n",
       "        text-align: right;\n",
       "    }\n",
       "</style>\n",
       "<table border=\"1\" class=\"dataframe\">\n",
       "  <thead>\n",
       "    <tr style=\"text-align: right;\">\n",
       "      <th></th>\n",
       "      <th>subscription_type</th>\n",
       "      <th>ratio</th>\n",
       "    </tr>\n",
       "  </thead>\n",
       "  <tbody>\n",
       "    <tr>\n",
       "      <th>0</th>\n",
       "      <td>free</td>\n",
       "      <td>54.432855</td>\n",
       "    </tr>\n",
       "    <tr>\n",
       "      <th>1</th>\n",
       "      <td>ultra</td>\n",
       "      <td>45.567145</td>\n",
       "    </tr>\n",
       "  </tbody>\n",
       "</table>\n",
       "</div>"
      ],
      "text/plain": [
       "  subscription_type      ratio\n",
       "0              free  54.432855\n",
       "1             ultra  45.567145"
      ]
     },
     "execution_count": 37,
     "metadata": {},
     "output_type": "execute_result"
    }
   ],
   "source": [
    "ax = users.groupby('subscription_type').agg(ratio=('user_id', 'count')).transform(lambda x: 100 * x / x.sum()).reset_index()\n",
    "ax"
   ]
  },
  {
   "cell_type": "code",
   "execution_count": 38,
   "id": "ae99b4e4",
   "metadata": {},
   "outputs": [
    {
     "data": {
      "text/plain": [
       "Text(0, 0.5, 'Процент')"
      ]
     },
     "execution_count": 38,
     "metadata": {},
     "output_type": "execute_result"
    },
    {
     "data": {
      "image/png": "[encoded data removed]",
      "text/plain": [
       "<Figure size 432x288 with 1 Axes>"
      ]
     },
     "metadata": {
      "needs_background": "light"
     },
     "output_type": "display_data"
    }
   ],
   "source": [
    "plt.bar(ax['subscription_type'], ax['ratio'])\n",
    "plt.title('Соотношение пользователей с подпиской (ultra) и без подписки (free)')\n",
    "plt.xlabel('Название тарифа')\n",
    "plt.ylabel('Процент')"
   ]
  },
  {
   "cell_type": "code",
   "execution_count": 39,
   "id": "03738c0a",
   "metadata": {},
   "outputs": [
    {
     "data": {
      "text/plain": [
       "Text(0.5, 1.0, 'Соотношение пользователей с подпиской (ultra) и без подписки (free)')"
      ]
     },
     "execution_count": 39,
     "metadata": {},
     "output_type": "execute_result"
    },
    {
     "data": {
      "image/png": "[encoded data removed]",
      "text/plain": [
       "<Figure size 432x288 with 1 Axes>"
      ]
     },
     "metadata": {},
     "output_type": "display_data"
    }
   ],
   "source": [
    "plt.pie(ax['ratio'], labels=ax['subscription_type'], autopct=lambda pct: pct.round(0))\n",
    "plt.title('Соотношение пользователей с подпиской (ultra) и без подписки (free)')"
   ]
  },
  {
   "cell_type": "markdown",
   "id": "ab1f78d2",
   "metadata": {},
   "source": [
    "**Вывод**\n",
    "- Доля пользователей с подпиской и без подписки примерно одинакова, однако доля пользователей без подписки немного превышает долю пользователей с подпиской "
   ]
  },
  {
   "cell_type": "markdown",
   "id": "40d3ba8c",
   "metadata": {},
   "source": [
    "***\n",
    "**Возраст пользователей**"
   ]
  },
  {
   "cell_type": "code",
   "execution_count": 40,
   "id": "02056df9",
   "metadata": {},
   "outputs": [
    {
     "data": {
      "text/plain": [
       "Text(0, 0.5, 'Количество пользователей')"
      ]
     },
     "execution_count": 40,
     "metadata": {},
     "output_type": "execute_result"
    },
    {
     "data": {
      "image/png": "[encoded data removed]",
      "text/plain": [
       "<Figure size 432x288 with 1 Axes>"
      ]
     },
     "metadata": {
      "needs_background": "light"
     },
     "output_type": "display_data"
    }
   ],
   "source": [
    "sns.histplot(users['age'])\n",
    "plt.title('Распределение возраста пользователей сервиса')\n",
    "plt.xlabel('Возраст')\n",
    "plt.ylabel('Количество пользователей')"
   ]
  },
  {
   "cell_type": "markdown",
   "id": "76880c27",
   "metadata": {},
   "source": [
    "**Вывод**\n",
    "- Распределение пользователей по возрасту стремится к нормальному\n",
    "- Больше всего пользователей в возрасте от 20 до 30 лет (молодежь) "
   ]
  },
  {
   "cell_type": "markdown",
   "id": "17c37ff6",
   "metadata": {},
   "source": [
    "***\n",
    "**Расстояние, которое пользователь перодолел за одну поездку**"
   ]
  },
  {
   "cell_type": "code",
   "execution_count": 41,
   "id": "1c2654a9",
   "metadata": {},
   "outputs": [
    {
     "data": {
      "text/html": [
       "<div>\n",
       "<style scoped>\n",
       "    .dataframe tbody tr th:only-of-type {\n",
       "        vertical-align: middle;\n",
       "    }\n",
       "\n",
       "    .dataframe tbody tr th {\n",
       "        vertical-align: top;\n",
       "    }\n",
       "\n",
       "    .dataframe thead th {\n",
       "        text-align: right;\n",
       "    }\n",
       "</style>\n",
       "<table border=\"1\" class=\"dataframe\">\n",
       "  <thead>\n",
       "    <tr style=\"text-align: right;\">\n",
       "      <th></th>\n",
       "      <th>user_id</th>\n",
       "      <th>distance</th>\n",
       "      <th>duration</th>\n",
       "      <th>date</th>\n",
       "      <th>date_month</th>\n",
       "    </tr>\n",
       "  </thead>\n",
       "  <tbody>\n",
       "    <tr>\n",
       "      <th>0</th>\n",
       "      <td>1</td>\n",
       "      <td>4409.919140</td>\n",
       "      <td>25.599769</td>\n",
       "      <td>2021-01-01</td>\n",
       "      <td>1</td>\n",
       "    </tr>\n",
       "    <tr>\n",
       "      <th>1</th>\n",
       "      <td>1</td>\n",
       "      <td>2617.592153</td>\n",
       "      <td>15.816871</td>\n",
       "      <td>2021-01-18</td>\n",
       "      <td>1</td>\n",
       "    </tr>\n",
       "    <tr>\n",
       "      <th>2</th>\n",
       "      <td>1</td>\n",
       "      <td>754.159807</td>\n",
       "      <td>6.232113</td>\n",
       "      <td>2021-04-20</td>\n",
       "      <td>4</td>\n",
       "    </tr>\n",
       "    <tr>\n",
       "      <th>3</th>\n",
       "      <td>1</td>\n",
       "      <td>2694.783254</td>\n",
       "      <td>18.511000</td>\n",
       "      <td>2021-08-11</td>\n",
       "      <td>8</td>\n",
       "    </tr>\n",
       "    <tr>\n",
       "      <th>4</th>\n",
       "      <td>1</td>\n",
       "      <td>4028.687306</td>\n",
       "      <td>26.265803</td>\n",
       "      <td>2021-08-28</td>\n",
       "      <td>8</td>\n",
       "    </tr>\n",
       "  </tbody>\n",
       "</table>\n",
       "</div>"
      ],
      "text/plain": [
       "   user_id     distance   duration       date  date_month\n",
       "0        1  4409.919140  25.599769 2021-01-01           1\n",
       "1        1  2617.592153  15.816871 2021-01-18           1\n",
       "2        1   754.159807   6.232113 2021-04-20           4\n",
       "3        1  2694.783254  18.511000 2021-08-11           8\n",
       "4        1  4028.687306  26.265803 2021-08-28           8"
      ]
     },
     "execution_count": 41,
     "metadata": {},
     "output_type": "execute_result"
    }
   ],
   "source": [
    "rides.head()"
   ]
  },
  {
   "cell_type": "code",
   "execution_count": 42,
   "id": "10455fde",
   "metadata": {},
   "outputs": [
    {
     "data": {
      "text/html": [
       "<div>\n",
       "<style scoped>\n",
       "    .dataframe tbody tr th:only-of-type {\n",
       "        vertical-align: middle;\n",
       "    }\n",
       "\n",
       "    .dataframe tbody tr th {\n",
       "        vertical-align: top;\n",
       "    }\n",
       "\n",
       "    .dataframe thead th {\n",
       "        text-align: right;\n",
       "    }\n",
       "</style>\n",
       "<table border=\"1\" class=\"dataframe\">\n",
       "  <thead>\n",
       "    <tr style=\"text-align: right;\">\n",
       "      <th></th>\n",
       "      <th>date_month</th>\n",
       "      <th>avg_distance</th>\n",
       "    </tr>\n",
       "  </thead>\n",
       "  <tbody>\n",
       "    <tr>\n",
       "      <th>0</th>\n",
       "      <td>1</td>\n",
       "      <td>3089.838538</td>\n",
       "    </tr>\n",
       "    <tr>\n",
       "      <th>1</th>\n",
       "      <td>2</td>\n",
       "      <td>3051.065290</td>\n",
       "    </tr>\n",
       "    <tr>\n",
       "      <th>2</th>\n",
       "      <td>3</td>\n",
       "      <td>3043.404928</td>\n",
       "    </tr>\n",
       "    <tr>\n",
       "      <th>3</th>\n",
       "      <td>4</td>\n",
       "      <td>3044.430588</td>\n",
       "    </tr>\n",
       "    <tr>\n",
       "      <th>4</th>\n",
       "      <td>5</td>\n",
       "      <td>3116.592061</td>\n",
       "    </tr>\n",
       "    <tr>\n",
       "      <th>5</th>\n",
       "      <td>6</td>\n",
       "      <td>3090.768949</td>\n",
       "    </tr>\n",
       "    <tr>\n",
       "      <th>6</th>\n",
       "      <td>7</td>\n",
       "      <td>3094.944074</td>\n",
       "    </tr>\n",
       "    <tr>\n",
       "      <th>7</th>\n",
       "      <td>8</td>\n",
       "      <td>3036.645055</td>\n",
       "    </tr>\n",
       "    <tr>\n",
       "      <th>8</th>\n",
       "      <td>9</td>\n",
       "      <td>3060.270343</td>\n",
       "    </tr>\n",
       "    <tr>\n",
       "      <th>9</th>\n",
       "      <td>10</td>\n",
       "      <td>3035.058792</td>\n",
       "    </tr>\n",
       "    <tr>\n",
       "      <th>10</th>\n",
       "      <td>11</td>\n",
       "      <td>3067.756583</td>\n",
       "    </tr>\n",
       "    <tr>\n",
       "      <th>11</th>\n",
       "      <td>12</td>\n",
       "      <td>3110.852860</td>\n",
       "    </tr>\n",
       "  </tbody>\n",
       "</table>\n",
       "</div>"
      ],
      "text/plain": [
       "    date_month  avg_distance\n",
       "0            1   3089.838538\n",
       "1            2   3051.065290\n",
       "2            3   3043.404928\n",
       "3            4   3044.430588\n",
       "4            5   3116.592061\n",
       "5            6   3090.768949\n",
       "6            7   3094.944074\n",
       "7            8   3036.645055\n",
       "8            9   3060.270343\n",
       "9           10   3035.058792\n",
       "10          11   3067.756583\n",
       "11          12   3110.852860"
      ]
     },
     "execution_count": 42,
     "metadata": {},
     "output_type": "execute_result"
    }
   ],
   "source": [
    "ax = rides.groupby('date_month').agg(avg_distance = ('distance', 'mean')).reset_index()\n",
    "ax"
   ]
  },
  {
   "cell_type": "code",
   "execution_count": 43,
   "id": "bd1a80fa",
   "metadata": {},
   "outputs": [
    {
     "data": {
      "text/plain": [
       "(0.0, 3800.0)"
      ]
     },
     "execution_count": 43,
     "metadata": {},
     "output_type": "execute_result"
    },
    {
     "data": {
      "image/png": "[encoded data removed]",
      "text/plain": [
       "<Figure size 432x288 with 1 Axes>"
      ]
     },
     "metadata": {
      "needs_background": "light"
     },
     "output_type": "display_data"
    }
   ],
   "source": [
    "sns.lineplot(x=ax['date_month'],y=ax['avg_distance'])\n",
    "plt.title('Расстояние, которое в среднем пользователи сервиса проехали за месяц')\n",
    "plt.xlabel('Номер месяца')\n",
    "plt.ylabel('Расстояние, метров')\n",
    "plt.ylim(0,3800)"
   ]
  },
  {
   "cell_type": "code",
   "execution_count": 44,
   "id": "12520635",
   "metadata": {},
   "outputs": [
    {
     "data": {
      "text/plain": [
       "Text(0, 0.5, 'Расстояние, метров')"
      ]
     },
     "execution_count": 44,
     "metadata": {},
     "output_type": "execute_result"
    },
    {
     "data": {
      "image/png": "[encoded data removed]",
      "text/plain": [
       "<Figure size 432x288 with 1 Axes>"
      ]
     },
     "metadata": {
      "needs_background": "light"
     },
     "output_type": "display_data"
    }
   ],
   "source": [
    "sns.barplot(x=ax['date_month'], y=ax['avg_distance'])\n",
    "plt.title('Рассояние, которое в среднем пользователи сервиса проехали за месяц')\n",
    "plt.xlabel('Номер месяца')\n",
    "plt.ylabel('Расстояние, метров')"
   ]
  },
  {
   "cell_type": "code",
   "execution_count": 45,
   "id": "a7f36cbb",
   "metadata": {},
   "outputs": [
    {
     "data": {
      "text/plain": [
       "Text(0, 0.5, 'Частота')"
      ]
     },
     "execution_count": 45,
     "metadata": {},
     "output_type": "execute_result"
    },
    {
     "data": {
      "image/png": "[encoded data removed]",
      "text/plain": [
       "<Figure size 432x288 with 1 Axes>"
      ]
     },
     "metadata": {
      "needs_background": "light"
     },
     "output_type": "display_data"
    }
   ],
   "source": [
    "ax['avg_distance'].hist()\n",
    "plt.xlabel('Среднее растояние')\n",
    "plt.title('Рспределение среднего расстояния поездок')\n",
    "plt.ylabel('Частота')"
   ]
  },
  {
   "cell_type": "code",
   "execution_count": 46,
   "id": "35f6931e",
   "metadata": {},
   "outputs": [
    {
     "data": {
      "text/plain": [
       "Text(0, 0.5, 'Частота')"
      ]
     },
     "execution_count": 46,
     "metadata": {},
     "output_type": "execute_result"
    },
    {
     "data": {
      "image/png": "[encoded data removed]",
      "text/plain": [
       "<Figure size 432x288 with 1 Axes>"
      ]
     },
     "metadata": {
      "needs_background": "light"
     },
     "output_type": "display_data"
    }
   ],
   "source": [
    "rides['distance'].hist()\n",
    "plt.xlabel('Расстояние')\n",
    "plt.title('Переменной расстояния поездок')\n",
    "plt.ylabel('Частота')"
   ]
  },
  {
   "cell_type": "markdown",
   "id": "2e827f7a",
   "metadata": {},
   "source": [
    "**Вывод**\n",
    "- средняя дистанция изменяется в зависимости от месяца (может быть связано с фактором сезонности, однако изменение от месяца к месяцу незначительное)\n",
    "- больше всего расстояния преодолевают в мае и декабре\n",
    "- меньше всего расстояния преодолевают в августе и октябре  "
   ]
  },
  {
   "cell_type": "markdown",
   "id": "14455f79",
   "metadata": {},
   "source": [
    "***\n",
    "**Продолжительность поездок**"
   ]
  },
  {
   "cell_type": "code",
   "execution_count": 47,
   "id": "79e49ba9",
   "metadata": {},
   "outputs": [
    {
     "data": {
      "text/html": [
       "<div>\n",
       "<style scoped>\n",
       "    .dataframe tbody tr th:only-of-type {\n",
       "        vertical-align: middle;\n",
       "    }\n",
       "\n",
       "    .dataframe tbody tr th {\n",
       "        vertical-align: top;\n",
       "    }\n",
       "\n",
       "    .dataframe thead th {\n",
       "        text-align: right;\n",
       "    }\n",
       "</style>\n",
       "<table border=\"1\" class=\"dataframe\">\n",
       "  <thead>\n",
       "    <tr style=\"text-align: right;\">\n",
       "      <th></th>\n",
       "      <th>date_month</th>\n",
       "      <th>avg_duration</th>\n",
       "    </tr>\n",
       "  </thead>\n",
       "  <tbody>\n",
       "    <tr>\n",
       "      <th>0</th>\n",
       "      <td>1</td>\n",
       "      <td>17.840749</td>\n",
       "    </tr>\n",
       "    <tr>\n",
       "      <th>1</th>\n",
       "      <td>2</td>\n",
       "      <td>17.714452</td>\n",
       "    </tr>\n",
       "    <tr>\n",
       "      <th>2</th>\n",
       "      <td>3</td>\n",
       "      <td>17.569223</td>\n",
       "    </tr>\n",
       "    <tr>\n",
       "      <th>3</th>\n",
       "      <td>4</td>\n",
       "      <td>17.901385</td>\n",
       "    </tr>\n",
       "    <tr>\n",
       "      <th>4</th>\n",
       "      <td>5</td>\n",
       "      <td>18.035225</td>\n",
       "    </tr>\n",
       "    <tr>\n",
       "      <th>5</th>\n",
       "      <td>6</td>\n",
       "      <td>17.925246</td>\n",
       "    </tr>\n",
       "    <tr>\n",
       "      <th>6</th>\n",
       "      <td>7</td>\n",
       "      <td>17.910707</td>\n",
       "    </tr>\n",
       "    <tr>\n",
       "      <th>7</th>\n",
       "      <td>8</td>\n",
       "      <td>17.694381</td>\n",
       "    </tr>\n",
       "    <tr>\n",
       "      <th>8</th>\n",
       "      <td>9</td>\n",
       "      <td>17.783471</td>\n",
       "    </tr>\n",
       "    <tr>\n",
       "      <th>9</th>\n",
       "      <td>10</td>\n",
       "      <td>17.633158</td>\n",
       "    </tr>\n",
       "    <tr>\n",
       "      <th>10</th>\n",
       "      <td>11</td>\n",
       "      <td>17.803590</td>\n",
       "    </tr>\n",
       "    <tr>\n",
       "      <th>11</th>\n",
       "      <td>12</td>\n",
       "      <td>17.825905</td>\n",
       "    </tr>\n",
       "  </tbody>\n",
       "</table>\n",
       "</div>"
      ],
      "text/plain": [
       "    date_month  avg_duration\n",
       "0            1     17.840749\n",
       "1            2     17.714452\n",
       "2            3     17.569223\n",
       "3            4     17.901385\n",
       "4            5     18.035225\n",
       "5            6     17.925246\n",
       "6            7     17.910707\n",
       "7            8     17.694381\n",
       "8            9     17.783471\n",
       "9           10     17.633158\n",
       "10          11     17.803590\n",
       "11          12     17.825905"
      ]
     },
     "execution_count": 47,
     "metadata": {},
     "output_type": "execute_result"
    }
   ],
   "source": [
    "ax = rides.groupby('date_month').agg(avg_duration = ('duration', 'mean')).reset_index()\n",
    "ax"
   ]
  },
  {
   "cell_type": "code",
   "execution_count": 48,
   "id": "1217408f",
   "metadata": {
    "scrolled": true
   },
   "outputs": [
    {
     "data": {
      "text/plain": [
       "(7.0, 20.0)"
      ]
     },
     "execution_count": 48,
     "metadata": {},
     "output_type": "execute_result"
    },
    {
     "data": {
      "image/png": "[encoded data removed]",
      "text/plain": [
       "<Figure size 432x288 with 1 Axes>"
      ]
     },
     "metadata": {
      "needs_background": "light"
     },
     "output_type": "display_data"
    }
   ],
   "source": [
    "sns.lineplot(x=ax['date_month'], y=ax['avg_duration'])\n",
    "plt.title('Время, которое в среднем пользователи сервиса проехали за месяц')\n",
    "plt.xlabel('Номер месяца')\n",
    "plt.ylabel('Расстояние, метров')\n",
    "plt.ylim(7,20)"
   ]
  },
  {
   "cell_type": "code",
   "execution_count": 49,
   "id": "47a7b9e2",
   "metadata": {},
   "outputs": [
    {
     "data": {
      "text/plain": [
       "Text(0, 0.5, 'Расстояние, метров')"
      ]
     },
     "execution_count": 49,
     "metadata": {},
     "output_type": "execute_result"
    },
    {
     "data": {
      "image/png": "[encoded data removed]",
      "text/plain": [
       "<Figure size 432x288 with 1 Axes>"
      ]
     },
     "metadata": {
      "needs_background": "light"
     },
     "output_type": "display_data"
    }
   ],
   "source": [
    "sns.barplot(x=ax['date_month'], y=ax['avg_duration'])\n",
    "plt.title('Рассояние, которое в среднем пользователи сервиса проехали за месяц')\n",
    "plt.xlabel('Номер месяца')\n",
    "plt.ylabel('Расстояние, метров')"
   ]
  },
  {
   "cell_type": "code",
   "execution_count": 50,
   "id": "35b10f92",
   "metadata": {},
   "outputs": [
    {
     "data": {
      "text/plain": [
       "Text(0, 0.5, 'Частота')"
      ]
     },
     "execution_count": 50,
     "metadata": {},
     "output_type": "execute_result"
    },
    {
     "data": {
      "image/png": "[encoded data removed]",
      "text/plain": [
       "<Figure size 432x288 with 1 Axes>"
      ]
     },
     "metadata": {
      "needs_background": "light"
     },
     "output_type": "display_data"
    }
   ],
   "source": [
    "ax['avg_duration'].hist()\n",
    "plt.title('Распределение средней продолжительности поездок')\n",
    "plt.xlabel('Средняя продолжительность поездки')\n",
    "plt.ylabel('Частота')"
   ]
  },
  {
   "cell_type": "code",
   "execution_count": 51,
   "id": "b87fd76a",
   "metadata": {},
   "outputs": [
    {
     "data": {
      "text/plain": [
       "Text(0, 0.5, 'Частота')"
      ]
     },
     "execution_count": 51,
     "metadata": {},
     "output_type": "execute_result"
    },
    {
     "data": {
      "image/png": "[encoded data removed]",
      "text/plain": [
       "<Figure size 432x288 with 1 Axes>"
      ]
     },
     "metadata": {
      "needs_background": "light"
     },
     "output_type": "display_data"
    }
   ],
   "source": [
    "rides['duration'].hist()\n",
    "plt.title('Переменной продолжительности поездок')\n",
    "plt.xlabel('Продолжительность поездки')\n",
    "plt.ylabel('Частота')"
   ]
  },
  {
   "cell_type": "markdown",
   "id": "0e5d040f",
   "metadata": {},
   "source": [
    "**Вывод**\n",
    "- Средняя продолжительность поездок незначительно варьируется в зависимости от месяца (сезон несущественно влияет на продолжительность поездки)\n",
    "- Меньше всего по времени пользователи проезжают в марте\n",
    "- Больше всего по времени пользователи проезжают в мае\n",
    "- Динамика длительности поездок в зависимости от месяца схожа с динамикой средней дистанции в метрах преодоленной за месяц"
   ]
  },
  {
   "cell_type": "markdown",
   "id": "5feceb4d",
   "metadata": {},
   "source": [
    "## Объединение данных"
   ]
  },
  {
   "cell_type": "code",
   "execution_count": 52,
   "id": "8bef75d6",
   "metadata": {},
   "outputs": [],
   "source": [
    "#Объединим данные о пользователях, поездках и подписках в один датафрейм\n",
    "total = pd.merge(rides, users, on='user_id', how='left')"
   ]
  },
  {
   "cell_type": "code",
   "execution_count": 53,
   "id": "26c83a58",
   "metadata": {},
   "outputs": [
    {
     "data": {
      "text/html": [
       "<div>\n",
       "<style scoped>\n",
       "    .dataframe tbody tr th:only-of-type {\n",
       "        vertical-align: middle;\n",
       "    }\n",
       "\n",
       "    .dataframe tbody tr th {\n",
       "        vertical-align: top;\n",
       "    }\n",
       "\n",
       "    .dataframe thead th {\n",
       "        text-align: right;\n",
       "    }\n",
       "</style>\n",
       "<table border=\"1\" class=\"dataframe\">\n",
       "  <thead>\n",
       "    <tr style=\"text-align: right;\">\n",
       "      <th></th>\n",
       "      <th>user_id</th>\n",
       "      <th>distance</th>\n",
       "      <th>duration</th>\n",
       "      <th>date</th>\n",
       "      <th>date_month</th>\n",
       "      <th>name</th>\n",
       "      <th>age</th>\n",
       "      <th>city</th>\n",
       "      <th>subscription_type</th>\n",
       "      <th>minute_price</th>\n",
       "      <th>start_ride_price</th>\n",
       "      <th>subscription_fee</th>\n",
       "    </tr>\n",
       "  </thead>\n",
       "  <tbody>\n",
       "    <tr>\n",
       "      <th>0</th>\n",
       "      <td>1</td>\n",
       "      <td>4409.919140</td>\n",
       "      <td>25.599769</td>\n",
       "      <td>2021-01-01</td>\n",
       "      <td>1</td>\n",
       "      <td>Кира</td>\n",
       "      <td>22</td>\n",
       "      <td>Тюмень</td>\n",
       "      <td>ultra</td>\n",
       "      <td>6</td>\n",
       "      <td>0</td>\n",
       "      <td>199</td>\n",
       "    </tr>\n",
       "    <tr>\n",
       "      <th>1</th>\n",
       "      <td>1</td>\n",
       "      <td>2617.592153</td>\n",
       "      <td>15.816871</td>\n",
       "      <td>2021-01-18</td>\n",
       "      <td>1</td>\n",
       "      <td>Кира</td>\n",
       "      <td>22</td>\n",
       "      <td>Тюмень</td>\n",
       "      <td>ultra</td>\n",
       "      <td>6</td>\n",
       "      <td>0</td>\n",
       "      <td>199</td>\n",
       "    </tr>\n",
       "    <tr>\n",
       "      <th>2</th>\n",
       "      <td>1</td>\n",
       "      <td>754.159807</td>\n",
       "      <td>6.232113</td>\n",
       "      <td>2021-04-20</td>\n",
       "      <td>4</td>\n",
       "      <td>Кира</td>\n",
       "      <td>22</td>\n",
       "      <td>Тюмень</td>\n",
       "      <td>ultra</td>\n",
       "      <td>6</td>\n",
       "      <td>0</td>\n",
       "      <td>199</td>\n",
       "    </tr>\n",
       "    <tr>\n",
       "      <th>3</th>\n",
       "      <td>1</td>\n",
       "      <td>2694.783254</td>\n",
       "      <td>18.511000</td>\n",
       "      <td>2021-08-11</td>\n",
       "      <td>8</td>\n",
       "      <td>Кира</td>\n",
       "      <td>22</td>\n",
       "      <td>Тюмень</td>\n",
       "      <td>ultra</td>\n",
       "      <td>6</td>\n",
       "      <td>0</td>\n",
       "      <td>199</td>\n",
       "    </tr>\n",
       "    <tr>\n",
       "      <th>4</th>\n",
       "      <td>1</td>\n",
       "      <td>4028.687306</td>\n",
       "      <td>26.265803</td>\n",
       "      <td>2021-08-28</td>\n",
       "      <td>8</td>\n",
       "      <td>Кира</td>\n",
       "      <td>22</td>\n",
       "      <td>Тюмень</td>\n",
       "      <td>ultra</td>\n",
       "      <td>6</td>\n",
       "      <td>0</td>\n",
       "      <td>199</td>\n",
       "    </tr>\n",
       "  </tbody>\n",
       "</table>\n",
       "</div>"
      ],
      "text/plain": [
       "   user_id     distance   duration       date  date_month  name  age    city  \\\n",
       "0        1  4409.919140  25.599769 2021-01-01           1  Кира   22  Тюмень   \n",
       "1        1  2617.592153  15.816871 2021-01-18           1  Кира   22  Тюмень   \n",
       "2        1   754.159807   6.232113 2021-04-20           4  Кира   22  Тюмень   \n",
       "3        1  2694.783254  18.511000 2021-08-11           8  Кира   22  Тюмень   \n",
       "4        1  4028.687306  26.265803 2021-08-28           8  Кира   22  Тюмень   \n",
       "\n",
       "  subscription_type  minute_price  start_ride_price  subscription_fee  \n",
       "0             ultra             6                 0               199  \n",
       "1             ultra             6                 0               199  \n",
       "2             ultra             6                 0               199  \n",
       "3             ultra             6                 0               199  \n",
       "4             ultra             6                 0               199  "
      ]
     },
     "execution_count": 53,
     "metadata": {},
     "output_type": "execute_result"
    }
   ],
   "source": [
    "total = pd.merge(total, subscription, on='subscription_type', how='left')\n",
    "total.head(5)"
   ]
  },
  {
   "cell_type": "code",
   "execution_count": 54,
   "id": "d0b7d3a2",
   "metadata": {},
   "outputs": [
    {
     "data": {
      "text/plain": [
       "(18068, 12)"
      ]
     },
     "execution_count": 54,
     "metadata": {},
     "output_type": "execute_result"
    }
   ],
   "source": [
    "total.shape"
   ]
  },
  {
   "cell_type": "code",
   "execution_count": 55,
   "id": "5cf95351",
   "metadata": {},
   "outputs": [
    {
     "data": {
      "text/plain": [
       "(18068, 5)"
      ]
     },
     "execution_count": 55,
     "metadata": {},
     "output_type": "execute_result"
    }
   ],
   "source": [
    "rides.shape"
   ]
  },
  {
   "cell_type": "code",
   "execution_count": 56,
   "id": "c0a500f0",
   "metadata": {},
   "outputs": [
    {
     "name": "stdout",
     "output_type": "stream",
     "text": [
      "<class 'pandas.core.frame.DataFrame'>\n",
      "Int64Index: 18068 entries, 0 to 18067\n",
      "Data columns (total 12 columns):\n",
      " #   Column             Non-Null Count  Dtype         \n",
      "---  ------             --------------  -----         \n",
      " 0   user_id            18068 non-null  int64         \n",
      " 1   distance           18068 non-null  float64       \n",
      " 2   duration           18068 non-null  float64       \n",
      " 3   date               18068 non-null  datetime64[ns]\n",
      " 4   date_month         18068 non-null  int64         \n",
      " 5   name               18068 non-null  object        \n",
      " 6   age                18068 non-null  int64         \n",
      " 7   city               18068 non-null  object        \n",
      " 8   subscription_type  18068 non-null  object        \n",
      " 9   minute_price       18068 non-null  int64         \n",
      " 10  start_ride_price   18068 non-null  int64         \n",
      " 11  subscription_fee   18068 non-null  int64         \n",
      "dtypes: datetime64[ns](1), float64(2), int64(6), object(3)\n",
      "memory usage: 1.8+ MB\n"
     ]
    }
   ],
   "source": [
    "total.info()"
   ]
  },
  {
   "cell_type": "code",
   "execution_count": 57,
   "id": "9336407f",
   "metadata": {},
   "outputs": [
    {
     "data": {
      "text/html": [
       "<div>\n",
       "<style scoped>\n",
       "    .dataframe tbody tr th:only-of-type {\n",
       "        vertical-align: middle;\n",
       "    }\n",
       "\n",
       "    .dataframe tbody tr th {\n",
       "        vertical-align: top;\n",
       "    }\n",
       "\n",
       "    .dataframe thead th {\n",
       "        text-align: right;\n",
       "    }\n",
       "</style>\n",
       "<table border=\"1\" class=\"dataframe\">\n",
       "  <thead>\n",
       "    <tr style=\"text-align: right;\">\n",
       "      <th></th>\n",
       "      <th>user_id</th>\n",
       "      <th>distance</th>\n",
       "      <th>duration</th>\n",
       "      <th>date</th>\n",
       "      <th>date_month</th>\n",
       "      <th>name</th>\n",
       "      <th>age</th>\n",
       "      <th>city</th>\n",
       "      <th>subscription_type</th>\n",
       "      <th>minute_price</th>\n",
       "      <th>start_ride_price</th>\n",
       "      <th>subscription_fee</th>\n",
       "    </tr>\n",
       "  </thead>\n",
       "  <tbody>\n",
       "    <tr>\n",
       "      <th>6500</th>\n",
       "      <td>700</td>\n",
       "      <td>2515.690719</td>\n",
       "      <td>14.944286</td>\n",
       "      <td>2021-01-02</td>\n",
       "      <td>1</td>\n",
       "      <td>Айдар</td>\n",
       "      <td>22</td>\n",
       "      <td>Омск</td>\n",
       "      <td>free</td>\n",
       "      <td>8</td>\n",
       "      <td>50</td>\n",
       "      <td>0</td>\n",
       "    </tr>\n",
       "    <tr>\n",
       "      <th>6501</th>\n",
       "      <td>700</td>\n",
       "      <td>846.932642</td>\n",
       "      <td>16.234663</td>\n",
       "      <td>2021-02-01</td>\n",
       "      <td>2</td>\n",
       "      <td>Айдар</td>\n",
       "      <td>22</td>\n",
       "      <td>Омск</td>\n",
       "      <td>free</td>\n",
       "      <td>8</td>\n",
       "      <td>50</td>\n",
       "      <td>0</td>\n",
       "    </tr>\n",
       "    <tr>\n",
       "      <th>6502</th>\n",
       "      <td>700</td>\n",
       "      <td>4004.434142</td>\n",
       "      <td>20.016628</td>\n",
       "      <td>2021-02-04</td>\n",
       "      <td>2</td>\n",
       "      <td>Айдар</td>\n",
       "      <td>22</td>\n",
       "      <td>Омск</td>\n",
       "      <td>free</td>\n",
       "      <td>8</td>\n",
       "      <td>50</td>\n",
       "      <td>0</td>\n",
       "    </tr>\n",
       "    <tr>\n",
       "      <th>6503</th>\n",
       "      <td>700</td>\n",
       "      <td>1205.911290</td>\n",
       "      <td>9.782872</td>\n",
       "      <td>2021-02-10</td>\n",
       "      <td>2</td>\n",
       "      <td>Айдар</td>\n",
       "      <td>22</td>\n",
       "      <td>Омск</td>\n",
       "      <td>free</td>\n",
       "      <td>8</td>\n",
       "      <td>50</td>\n",
       "      <td>0</td>\n",
       "    </tr>\n",
       "    <tr>\n",
       "      <th>6504</th>\n",
       "      <td>700</td>\n",
       "      <td>3047.379435</td>\n",
       "      <td>17.427673</td>\n",
       "      <td>2021-02-14</td>\n",
       "      <td>2</td>\n",
       "      <td>Айдар</td>\n",
       "      <td>22</td>\n",
       "      <td>Омск</td>\n",
       "      <td>free</td>\n",
       "      <td>8</td>\n",
       "      <td>50</td>\n",
       "      <td>0</td>\n",
       "    </tr>\n",
       "  </tbody>\n",
       "</table>\n",
       "</div>"
      ],
      "text/plain": [
       "      user_id     distance   duration       date  date_month   name  age  \\\n",
       "6500      700  2515.690719  14.944286 2021-01-02           1  Айдар   22   \n",
       "6501      700   846.932642  16.234663 2021-02-01           2  Айдар   22   \n",
       "6502      700  4004.434142  20.016628 2021-02-04           2  Айдар   22   \n",
       "6503      700  1205.911290   9.782872 2021-02-10           2  Айдар   22   \n",
       "6504      700  3047.379435  17.427673 2021-02-14           2  Айдар   22   \n",
       "\n",
       "      city subscription_type  minute_price  start_ride_price  subscription_fee  \n",
       "6500  Омск              free             8                50                 0  \n",
       "6501  Омск              free             8                50                 0  \n",
       "6502  Омск              free             8                50                 0  \n",
       "6503  Омск              free             8                50                 0  \n",
       "6504  Омск              free             8                50                 0  "
      ]
     },
     "execution_count": 57,
     "metadata": {},
     "output_type": "execute_result"
    }
   ],
   "source": [
    "#создадим датафрэйм с информацией о пользователях без подписки\n",
    "total_free = total.loc[total['subscription_type']=='free',]\n",
    "total_free.head(5)"
   ]
  },
  {
   "cell_type": "code",
   "execution_count": 58,
   "id": "8d61b05f",
   "metadata": {},
   "outputs": [
    {
     "data": {
      "text/html": [
       "<div>\n",
       "<style scoped>\n",
       "    .dataframe tbody tr th:only-of-type {\n",
       "        vertical-align: middle;\n",
       "    }\n",
       "\n",
       "    .dataframe tbody tr th {\n",
       "        vertical-align: top;\n",
       "    }\n",
       "\n",
       "    .dataframe thead th {\n",
       "        text-align: right;\n",
       "    }\n",
       "</style>\n",
       "<table border=\"1\" class=\"dataframe\">\n",
       "  <thead>\n",
       "    <tr style=\"text-align: right;\">\n",
       "      <th></th>\n",
       "      <th>user_id</th>\n",
       "      <th>distance</th>\n",
       "      <th>duration</th>\n",
       "      <th>date</th>\n",
       "      <th>date_month</th>\n",
       "      <th>name</th>\n",
       "      <th>age</th>\n",
       "      <th>city</th>\n",
       "      <th>subscription_type</th>\n",
       "      <th>minute_price</th>\n",
       "      <th>start_ride_price</th>\n",
       "      <th>subscription_fee</th>\n",
       "    </tr>\n",
       "  </thead>\n",
       "  <tbody>\n",
       "    <tr>\n",
       "      <th>0</th>\n",
       "      <td>1</td>\n",
       "      <td>4409.919140</td>\n",
       "      <td>25.599769</td>\n",
       "      <td>2021-01-01</td>\n",
       "      <td>1</td>\n",
       "      <td>Кира</td>\n",
       "      <td>22</td>\n",
       "      <td>Тюмень</td>\n",
       "      <td>ultra</td>\n",
       "      <td>6</td>\n",
       "      <td>0</td>\n",
       "      <td>199</td>\n",
       "    </tr>\n",
       "    <tr>\n",
       "      <th>1</th>\n",
       "      <td>1</td>\n",
       "      <td>2617.592153</td>\n",
       "      <td>15.816871</td>\n",
       "      <td>2021-01-18</td>\n",
       "      <td>1</td>\n",
       "      <td>Кира</td>\n",
       "      <td>22</td>\n",
       "      <td>Тюмень</td>\n",
       "      <td>ultra</td>\n",
       "      <td>6</td>\n",
       "      <td>0</td>\n",
       "      <td>199</td>\n",
       "    </tr>\n",
       "    <tr>\n",
       "      <th>2</th>\n",
       "      <td>1</td>\n",
       "      <td>754.159807</td>\n",
       "      <td>6.232113</td>\n",
       "      <td>2021-04-20</td>\n",
       "      <td>4</td>\n",
       "      <td>Кира</td>\n",
       "      <td>22</td>\n",
       "      <td>Тюмень</td>\n",
       "      <td>ultra</td>\n",
       "      <td>6</td>\n",
       "      <td>0</td>\n",
       "      <td>199</td>\n",
       "    </tr>\n",
       "    <tr>\n",
       "      <th>3</th>\n",
       "      <td>1</td>\n",
       "      <td>2694.783254</td>\n",
       "      <td>18.511000</td>\n",
       "      <td>2021-08-11</td>\n",
       "      <td>8</td>\n",
       "      <td>Кира</td>\n",
       "      <td>22</td>\n",
       "      <td>Тюмень</td>\n",
       "      <td>ultra</td>\n",
       "      <td>6</td>\n",
       "      <td>0</td>\n",
       "      <td>199</td>\n",
       "    </tr>\n",
       "    <tr>\n",
       "      <th>4</th>\n",
       "      <td>1</td>\n",
       "      <td>4028.687306</td>\n",
       "      <td>26.265803</td>\n",
       "      <td>2021-08-28</td>\n",
       "      <td>8</td>\n",
       "      <td>Кира</td>\n",
       "      <td>22</td>\n",
       "      <td>Тюмень</td>\n",
       "      <td>ultra</td>\n",
       "      <td>6</td>\n",
       "      <td>0</td>\n",
       "      <td>199</td>\n",
       "    </tr>\n",
       "  </tbody>\n",
       "</table>\n",
       "</div>"
      ],
      "text/plain": [
       "   user_id     distance   duration       date  date_month  name  age    city  \\\n",
       "0        1  4409.919140  25.599769 2021-01-01           1  Кира   22  Тюмень   \n",
       "1        1  2617.592153  15.816871 2021-01-18           1  Кира   22  Тюмень   \n",
       "2        1   754.159807   6.232113 2021-04-20           4  Кира   22  Тюмень   \n",
       "3        1  2694.783254  18.511000 2021-08-11           8  Кира   22  Тюмень   \n",
       "4        1  4028.687306  26.265803 2021-08-28           8  Кира   22  Тюмень   \n",
       "\n",
       "  subscription_type  minute_price  start_ride_price  subscription_fee  \n",
       "0             ultra             6                 0               199  \n",
       "1             ultra             6                 0               199  \n",
       "2             ultra             6                 0               199  \n",
       "3             ultra             6                 0               199  \n",
       "4             ultra             6                 0               199  "
      ]
     },
     "execution_count": 58,
     "metadata": {},
     "output_type": "execute_result"
    }
   ],
   "source": [
    "#создадим датафрэйм с информацией о пользователях с подпиской\n",
    "total_subscription = total.loc[total['subscription_type']=='ultra',]\n",
    "total_subscription.head(5)"
   ]
  },
  {
   "cell_type": "code",
   "execution_count": 59,
   "id": "456e7d06",
   "metadata": {},
   "outputs": [
    {
     "data": {
      "text/plain": [
       "<matplotlib.legend.Legend at 0x7f2c52bfb730>"
      ]
     },
     "execution_count": 59,
     "metadata": {},
     "output_type": "execute_result"
    },
    {
     "data": {
      "image/png": "[encoded data removed]",
      "text/plain": [
       "<Figure size 432x288 with 1 Axes>"
      ]
     },
     "metadata": {
      "needs_background": "light"
     },
     "output_type": "display_data"
    }
   ],
   "source": [
    "plt.hist(total_free['duration'], label='without subscription', alpha=.8)\n",
    "plt.hist(total_subscription['duration'], label='subscription', alpha=.7)\n",
    "plt.title('Распределение длительности поездки по тарифам')\n",
    "plt.xlabel('Длительность поездки')\n",
    "plt.ylabel('Частота')\n",
    "plt.legend(labels=['Без подписки', 'С подпиской'])"
   ]
  },
  {
   "cell_type": "code",
   "execution_count": 60,
   "id": "645a6e32",
   "metadata": {},
   "outputs": [
    {
     "data": {
      "text/html": [
       "<div>\n",
       "<style scoped>\n",
       "    .dataframe tbody tr th:only-of-type {\n",
       "        vertical-align: middle;\n",
       "    }\n",
       "\n",
       "    .dataframe tbody tr th {\n",
       "        vertical-align: top;\n",
       "    }\n",
       "\n",
       "    .dataframe thead th {\n",
       "        text-align: right;\n",
       "    }\n",
       "</style>\n",
       "<table border=\"1\" class=\"dataframe\">\n",
       "  <thead>\n",
       "    <tr style=\"text-align: right;\">\n",
       "      <th></th>\n",
       "      <th>subscription_type</th>\n",
       "      <th>date_month</th>\n",
       "      <th>avg_duration</th>\n",
       "      <th>avg_distance</th>\n",
       "    </tr>\n",
       "  </thead>\n",
       "  <tbody>\n",
       "    <tr>\n",
       "      <th>0</th>\n",
       "      <td>free</td>\n",
       "      <td>1</td>\n",
       "      <td>17.464604</td>\n",
       "      <td>3097.139350</td>\n",
       "    </tr>\n",
       "    <tr>\n",
       "      <th>1</th>\n",
       "      <td>free</td>\n",
       "      <td>2</td>\n",
       "      <td>17.145547</td>\n",
       "      <td>3024.264848</td>\n",
       "    </tr>\n",
       "    <tr>\n",
       "      <th>2</th>\n",
       "      <td>free</td>\n",
       "      <td>3</td>\n",
       "      <td>17.067239</td>\n",
       "      <td>2994.989557</td>\n",
       "    </tr>\n",
       "    <tr>\n",
       "      <th>3</th>\n",
       "      <td>free</td>\n",
       "      <td>4</td>\n",
       "      <td>17.535376</td>\n",
       "      <td>3005.596519</td>\n",
       "    </tr>\n",
       "    <tr>\n",
       "      <th>4</th>\n",
       "      <td>free</td>\n",
       "      <td>5</td>\n",
       "      <td>17.641981</td>\n",
       "      <td>3111.052029</td>\n",
       "    </tr>\n",
       "    <tr>\n",
       "      <th>5</th>\n",
       "      <td>free</td>\n",
       "      <td>6</td>\n",
       "      <td>17.552159</td>\n",
       "      <td>3075.582838</td>\n",
       "    </tr>\n",
       "    <tr>\n",
       "      <th>6</th>\n",
       "      <td>free</td>\n",
       "      <td>7</td>\n",
       "      <td>17.486667</td>\n",
       "      <td>3061.252892</td>\n",
       "    </tr>\n",
       "    <tr>\n",
       "      <th>7</th>\n",
       "      <td>free</td>\n",
       "      <td>8</td>\n",
       "      <td>17.153732</td>\n",
       "      <td>2990.105030</td>\n",
       "    </tr>\n",
       "    <tr>\n",
       "      <th>8</th>\n",
       "      <td>free</td>\n",
       "      <td>9</td>\n",
       "      <td>17.415103</td>\n",
       "      <td>3049.332494</td>\n",
       "    </tr>\n",
       "    <tr>\n",
       "      <th>9</th>\n",
       "      <td>free</td>\n",
       "      <td>10</td>\n",
       "      <td>17.212303</td>\n",
       "      <td>2977.348912</td>\n",
       "    </tr>\n",
       "    <tr>\n",
       "      <th>10</th>\n",
       "      <td>free</td>\n",
       "      <td>11</td>\n",
       "      <td>17.424713</td>\n",
       "      <td>3046.949241</td>\n",
       "    </tr>\n",
       "    <tr>\n",
       "      <th>11</th>\n",
       "      <td>free</td>\n",
       "      <td>12</td>\n",
       "      <td>17.562634</td>\n",
       "      <td>3105.339210</td>\n",
       "    </tr>\n",
       "    <tr>\n",
       "      <th>12</th>\n",
       "      <td>ultra</td>\n",
       "      <td>1</td>\n",
       "      <td>18.485477</td>\n",
       "      <td>3077.324647</td>\n",
       "    </tr>\n",
       "    <tr>\n",
       "      <th>13</th>\n",
       "      <td>ultra</td>\n",
       "      <td>2</td>\n",
       "      <td>18.769602</td>\n",
       "      <td>3100.772092</td>\n",
       "    </tr>\n",
       "    <tr>\n",
       "      <th>14</th>\n",
       "      <td>ultra</td>\n",
       "      <td>3</td>\n",
       "      <td>18.448815</td>\n",
       "      <td>3128.239705</td>\n",
       "    </tr>\n",
       "    <tr>\n",
       "      <th>15</th>\n",
       "      <td>ultra</td>\n",
       "      <td>4</td>\n",
       "      <td>18.535757</td>\n",
       "      <td>3111.738276</td>\n",
       "    </tr>\n",
       "    <tr>\n",
       "      <th>16</th>\n",
       "      <td>ultra</td>\n",
       "      <td>5</td>\n",
       "      <td>18.669553</td>\n",
       "      <td>3125.528495</td>\n",
       "    </tr>\n",
       "    <tr>\n",
       "      <th>17</th>\n",
       "      <td>ultra</td>\n",
       "      <td>6</td>\n",
       "      <td>18.577652</td>\n",
       "      <td>3117.324483</td>\n",
       "    </tr>\n",
       "    <tr>\n",
       "      <th>18</th>\n",
       "      <td>ultra</td>\n",
       "      <td>7</td>\n",
       "      <td>18.616210</td>\n",
       "      <td>3150.998219</td>\n",
       "    </tr>\n",
       "    <tr>\n",
       "      <th>19</th>\n",
       "      <td>ultra</td>\n",
       "      <td>8</td>\n",
       "      <td>18.673556</td>\n",
       "      <td>3120.934212</td>\n",
       "    </tr>\n",
       "    <tr>\n",
       "      <th>20</th>\n",
       "      <td>ultra</td>\n",
       "      <td>9</td>\n",
       "      <td>18.500180</td>\n",
       "      <td>3081.551361</td>\n",
       "    </tr>\n",
       "    <tr>\n",
       "      <th>21</th>\n",
       "      <td>ultra</td>\n",
       "      <td>10</td>\n",
       "      <td>18.385764</td>\n",
       "      <td>3138.260204</td>\n",
       "    </tr>\n",
       "    <tr>\n",
       "      <th>22</th>\n",
       "      <td>ultra</td>\n",
       "      <td>11</td>\n",
       "      <td>18.516679</td>\n",
       "      <td>3106.918371</td>\n",
       "    </tr>\n",
       "    <tr>\n",
       "      <th>23</th>\n",
       "      <td>ultra</td>\n",
       "      <td>12</td>\n",
       "      <td>18.329836</td>\n",
       "      <td>3121.406660</td>\n",
       "    </tr>\n",
       "  </tbody>\n",
       "</table>\n",
       "</div>"
      ],
      "text/plain": [
       "   subscription_type  date_month  avg_duration  avg_distance\n",
       "0               free           1     17.464604   3097.139350\n",
       "1               free           2     17.145547   3024.264848\n",
       "2               free           3     17.067239   2994.989557\n",
       "3               free           4     17.535376   3005.596519\n",
       "4               free           5     17.641981   3111.052029\n",
       "5               free           6     17.552159   3075.582838\n",
       "6               free           7     17.486667   3061.252892\n",
       "7               free           8     17.153732   2990.105030\n",
       "8               free           9     17.415103   3049.332494\n",
       "9               free          10     17.212303   2977.348912\n",
       "10              free          11     17.424713   3046.949241\n",
       "11              free          12     17.562634   3105.339210\n",
       "12             ultra           1     18.485477   3077.324647\n",
       "13             ultra           2     18.769602   3100.772092\n",
       "14             ultra           3     18.448815   3128.239705\n",
       "15             ultra           4     18.535757   3111.738276\n",
       "16             ultra           5     18.669553   3125.528495\n",
       "17             ultra           6     18.577652   3117.324483\n",
       "18             ultra           7     18.616210   3150.998219\n",
       "19             ultra           8     18.673556   3120.934212\n",
       "20             ultra           9     18.500180   3081.551361\n",
       "21             ultra          10     18.385764   3138.260204\n",
       "22             ultra          11     18.516679   3106.918371\n",
       "23             ultra          12     18.329836   3121.406660"
      ]
     },
     "execution_count": 60,
     "metadata": {},
     "output_type": "execute_result"
    }
   ],
   "source": [
    "ax = total.groupby(['subscription_type', 'date_month']).agg(avg_duration=('duration', 'mean'), avg_distance=('distance', 'mean')).reset_index()\n",
    "ax"
   ]
  },
  {
   "cell_type": "code",
   "execution_count": 61,
   "id": "3ab10454",
   "metadata": {},
   "outputs": [
    {
     "data": {
      "text/plain": [
       "Text(0, 0.5, 'Средняя продолжительность поездки')"
      ]
     },
     "execution_count": 61,
     "metadata": {},
     "output_type": "execute_result"
    },
    {
     "data": {
      "image/png": "[encoded data removed]",
      "text/plain": [
       "<Figure size 432x288 with 1 Axes>"
      ]
     },
     "metadata": {
      "needs_background": "light"
     },
     "output_type": "display_data"
    }
   ],
   "source": [
    "sns.lineplot(x=ax['date_month'], y=ax['avg_duration'], hue=ax['subscription_type'])\n",
    "plt.title('Динамика средней продолжительности поездки по месяцам в зависимости от тарифа')\n",
    "plt.xlabel('Номер месяца')\n",
    "plt.ylabel('Средняя продолжительность поездки')"
   ]
  },
  {
   "cell_type": "code",
   "execution_count": 62,
   "id": "06ad5509",
   "metadata": {},
   "outputs": [
    {
     "data": {
      "text/plain": [
       "<matplotlib.legend.Legend at 0x7f2c52ab0fd0>"
      ]
     },
     "execution_count": 62,
     "metadata": {},
     "output_type": "execute_result"
    },
    {
     "data": {
      "image/png": "[encoded data removed]",
      "text/plain": [
       "<Figure size 432x288 with 1 Axes>"
      ]
     },
     "metadata": {
      "needs_background": "light"
     },
     "output_type": "display_data"
    }
   ],
   "source": [
    "plt.hist(total_free['distance'], label='without subscription', alpha=.8, bins=20)\n",
    "plt.hist(total_subscription['distance'], label='subscription', alpha=.7)\n",
    "plt.title('Распределение расстояния поездки по тарифам')\n",
    "plt.xlabel('Расстояние для поездки')\n",
    "plt.ylabel('Частота')\n",
    "plt.legend(labels=['Без подписки', 'С подпиской'])"
   ]
  },
  {
   "cell_type": "code",
   "execution_count": 63,
   "id": "254e26e9",
   "metadata": {},
   "outputs": [
    {
     "data": {
      "text/plain": [
       "Text(0, 0.5, 'Средняя расстояние поездки, метров')"
      ]
     },
     "execution_count": 63,
     "metadata": {},
     "output_type": "execute_result"
    },
    {
     "data": {
      "image/png": "[encoded data removed]",
      "text/plain": [
       "<Figure size 432x288 with 1 Axes>"
      ]
     },
     "metadata": {
      "needs_background": "light"
     },
     "output_type": "display_data"
    }
   ],
   "source": [
    "sns.lineplot(x=ax['date_month'], y=ax['avg_distance'], hue=ax['subscription_type'])\n",
    "plt.title('Динамика среднего расстояния по месяцам в зависимости от тарифа')\n",
    "plt.xlabel('Номер месяца')\n",
    "plt.ylabel('Средняя расстояние поездки, метров')"
   ]
  },
  {
   "cell_type": "markdown",
   "id": "fb68229d",
   "metadata": {},
   "source": [
    "**Вывод**\n",
    "- распределения продолжительности поездки и преодоленной дистанции схожа для пользователей с подпиской и без\n",
    "- динамика длительности поездки в зависимости от типа подписки представляет существенные отличия\n",
    "- динамика преодоленной дистанции в зависимости от типа подписки представляет существенные отличия\n",
    "- в среднем длительность поездки и расстояние для пользователей без подписки меньше, чем длительность поездки для пользователей с подпиской"
   ]
  },
  {
   "cell_type": "markdown",
   "id": "8a77ce23",
   "metadata": {},
   "source": [
    "## Подсчёт выручки"
   ]
  },
  {
   "cell_type": "markdown",
   "id": "d9447366",
   "metadata": {},
   "source": [
    "Создадим аггрегированную таблицу с суммарным расстонием, количеством поездок и суммарное время для каждого пользователя за каждый месяц"
   ]
  },
  {
   "cell_type": "code",
   "execution_count": 64,
   "id": "0f147ab3",
   "metadata": {},
   "outputs": [
    {
     "data": {
      "text/html": [
       "<div>\n",
       "<style scoped>\n",
       "    .dataframe tbody tr th:only-of-type {\n",
       "        vertical-align: middle;\n",
       "    }\n",
       "\n",
       "    .dataframe tbody tr th {\n",
       "        vertical-align: top;\n",
       "    }\n",
       "\n",
       "    .dataframe thead th {\n",
       "        text-align: right;\n",
       "    }\n",
       "</style>\n",
       "<table border=\"1\" class=\"dataframe\">\n",
       "  <thead>\n",
       "    <tr style=\"text-align: right;\">\n",
       "      <th></th>\n",
       "      <th>user_id</th>\n",
       "      <th>distance</th>\n",
       "      <th>duration</th>\n",
       "      <th>date</th>\n",
       "      <th>date_month</th>\n",
       "      <th>name</th>\n",
       "      <th>age</th>\n",
       "      <th>city</th>\n",
       "      <th>subscription_type</th>\n",
       "      <th>minute_price</th>\n",
       "      <th>start_ride_price</th>\n",
       "      <th>subscription_fee</th>\n",
       "    </tr>\n",
       "  </thead>\n",
       "  <tbody>\n",
       "    <tr>\n",
       "      <th>0</th>\n",
       "      <td>1</td>\n",
       "      <td>4409.919140</td>\n",
       "      <td>25.599769</td>\n",
       "      <td>2021-01-01</td>\n",
       "      <td>1</td>\n",
       "      <td>Кира</td>\n",
       "      <td>22</td>\n",
       "      <td>Тюмень</td>\n",
       "      <td>ultra</td>\n",
       "      <td>6</td>\n",
       "      <td>0</td>\n",
       "      <td>199</td>\n",
       "    </tr>\n",
       "    <tr>\n",
       "      <th>1</th>\n",
       "      <td>1</td>\n",
       "      <td>2617.592153</td>\n",
       "      <td>15.816871</td>\n",
       "      <td>2021-01-18</td>\n",
       "      <td>1</td>\n",
       "      <td>Кира</td>\n",
       "      <td>22</td>\n",
       "      <td>Тюмень</td>\n",
       "      <td>ultra</td>\n",
       "      <td>6</td>\n",
       "      <td>0</td>\n",
       "      <td>199</td>\n",
       "    </tr>\n",
       "    <tr>\n",
       "      <th>2</th>\n",
       "      <td>1</td>\n",
       "      <td>754.159807</td>\n",
       "      <td>6.232113</td>\n",
       "      <td>2021-04-20</td>\n",
       "      <td>4</td>\n",
       "      <td>Кира</td>\n",
       "      <td>22</td>\n",
       "      <td>Тюмень</td>\n",
       "      <td>ultra</td>\n",
       "      <td>6</td>\n",
       "      <td>0</td>\n",
       "      <td>199</td>\n",
       "    </tr>\n",
       "    <tr>\n",
       "      <th>3</th>\n",
       "      <td>1</td>\n",
       "      <td>2694.783254</td>\n",
       "      <td>18.511000</td>\n",
       "      <td>2021-08-11</td>\n",
       "      <td>8</td>\n",
       "      <td>Кира</td>\n",
       "      <td>22</td>\n",
       "      <td>Тюмень</td>\n",
       "      <td>ultra</td>\n",
       "      <td>6</td>\n",
       "      <td>0</td>\n",
       "      <td>199</td>\n",
       "    </tr>\n",
       "    <tr>\n",
       "      <th>4</th>\n",
       "      <td>1</td>\n",
       "      <td>4028.687306</td>\n",
       "      <td>26.265803</td>\n",
       "      <td>2021-08-28</td>\n",
       "      <td>8</td>\n",
       "      <td>Кира</td>\n",
       "      <td>22</td>\n",
       "      <td>Тюмень</td>\n",
       "      <td>ultra</td>\n",
       "      <td>6</td>\n",
       "      <td>0</td>\n",
       "      <td>199</td>\n",
       "    </tr>\n",
       "    <tr>\n",
       "      <th>5</th>\n",
       "      <td>1</td>\n",
       "      <td>2770.890808</td>\n",
       "      <td>16.650138</td>\n",
       "      <td>2021-10-09</td>\n",
       "      <td>10</td>\n",
       "      <td>Кира</td>\n",
       "      <td>22</td>\n",
       "      <td>Тюмень</td>\n",
       "      <td>ultra</td>\n",
       "      <td>6</td>\n",
       "      <td>0</td>\n",
       "      <td>199</td>\n",
       "    </tr>\n",
       "    <tr>\n",
       "      <th>6</th>\n",
       "      <td>1</td>\n",
       "      <td>3039.020292</td>\n",
       "      <td>14.927879</td>\n",
       "      <td>2021-10-19</td>\n",
       "      <td>10</td>\n",
       "      <td>Кира</td>\n",
       "      <td>22</td>\n",
       "      <td>Тюмень</td>\n",
       "      <td>ultra</td>\n",
       "      <td>6</td>\n",
       "      <td>0</td>\n",
       "      <td>199</td>\n",
       "    </tr>\n",
       "    <tr>\n",
       "      <th>7</th>\n",
       "      <td>1</td>\n",
       "      <td>2842.118050</td>\n",
       "      <td>23.117468</td>\n",
       "      <td>2021-11-06</td>\n",
       "      <td>11</td>\n",
       "      <td>Кира</td>\n",
       "      <td>22</td>\n",
       "      <td>Тюмень</td>\n",
       "      <td>ultra</td>\n",
       "      <td>6</td>\n",
       "      <td>0</td>\n",
       "      <td>199</td>\n",
       "    </tr>\n",
       "    <tr>\n",
       "      <th>8</th>\n",
       "      <td>1</td>\n",
       "      <td>3412.690668</td>\n",
       "      <td>15.238072</td>\n",
       "      <td>2021-11-14</td>\n",
       "      <td>11</td>\n",
       "      <td>Кира</td>\n",
       "      <td>22</td>\n",
       "      <td>Тюмень</td>\n",
       "      <td>ultra</td>\n",
       "      <td>6</td>\n",
       "      <td>0</td>\n",
       "      <td>199</td>\n",
       "    </tr>\n",
       "    <tr>\n",
       "      <th>9</th>\n",
       "      <td>1</td>\n",
       "      <td>748.690645</td>\n",
       "      <td>15.041884</td>\n",
       "      <td>2021-11-22</td>\n",
       "      <td>11</td>\n",
       "      <td>Кира</td>\n",
       "      <td>22</td>\n",
       "      <td>Тюмень</td>\n",
       "      <td>ultra</td>\n",
       "      <td>6</td>\n",
       "      <td>0</td>\n",
       "      <td>199</td>\n",
       "    </tr>\n",
       "  </tbody>\n",
       "</table>\n",
       "</div>"
      ],
      "text/plain": [
       "   user_id     distance   duration       date  date_month  name  age    city  \\\n",
       "0        1  4409.919140  25.599769 2021-01-01           1  Кира   22  Тюмень   \n",
       "1        1  2617.592153  15.816871 2021-01-18           1  Кира   22  Тюмень   \n",
       "2        1   754.159807   6.232113 2021-04-20           4  Кира   22  Тюмень   \n",
       "3        1  2694.783254  18.511000 2021-08-11           8  Кира   22  Тюмень   \n",
       "4        1  4028.687306  26.265803 2021-08-28           8  Кира   22  Тюмень   \n",
       "5        1  2770.890808  16.650138 2021-10-09          10  Кира   22  Тюмень   \n",
       "6        1  3039.020292  14.927879 2021-10-19          10  Кира   22  Тюмень   \n",
       "7        1  2842.118050  23.117468 2021-11-06          11  Кира   22  Тюмень   \n",
       "8        1  3412.690668  15.238072 2021-11-14          11  Кира   22  Тюмень   \n",
       "9        1   748.690645  15.041884 2021-11-22          11  Кира   22  Тюмень   \n",
       "\n",
       "  subscription_type  minute_price  start_ride_price  subscription_fee  \n",
       "0             ultra             6                 0               199  \n",
       "1             ultra             6                 0               199  \n",
       "2             ultra             6                 0               199  \n",
       "3             ultra             6                 0               199  \n",
       "4             ultra             6                 0               199  \n",
       "5             ultra             6                 0               199  \n",
       "6             ultra             6                 0               199  \n",
       "7             ultra             6                 0               199  \n",
       "8             ultra             6                 0               199  \n",
       "9             ultra             6                 0               199  "
      ]
     },
     "execution_count": 64,
     "metadata": {},
     "output_type": "execute_result"
    }
   ],
   "source": [
    "total.head(10)"
   ]
  },
  {
   "cell_type": "code",
   "execution_count": 65,
   "id": "67310fd1",
   "metadata": {},
   "outputs": [],
   "source": [
    "total['duration'] = np.ceil(total['duration'])"
   ]
  },
  {
   "cell_type": "code",
   "execution_count": 66,
   "id": "5fdeba64",
   "metadata": {},
   "outputs": [
    {
     "data": {
      "text/html": [
       "<div>\n",
       "<style scoped>\n",
       "    .dataframe tbody tr th:only-of-type {\n",
       "        vertical-align: middle;\n",
       "    }\n",
       "\n",
       "    .dataframe tbody tr th {\n",
       "        vertical-align: top;\n",
       "    }\n",
       "\n",
       "    .dataframe thead th {\n",
       "        text-align: right;\n",
       "    }\n",
       "</style>\n",
       "<table border=\"1\" class=\"dataframe\">\n",
       "  <thead>\n",
       "    <tr style=\"text-align: right;\">\n",
       "      <th></th>\n",
       "      <th></th>\n",
       "      <th>distance_sum</th>\n",
       "      <th>ride_count</th>\n",
       "      <th>duration_sum</th>\n",
       "      <th>minute_price_avg</th>\n",
       "      <th>start_ride_price_avg</th>\n",
       "      <th>subscription_fee_avg</th>\n",
       "    </tr>\n",
       "    <tr>\n",
       "      <th>user_id</th>\n",
       "      <th>date_month</th>\n",
       "      <th></th>\n",
       "      <th></th>\n",
       "      <th></th>\n",
       "      <th></th>\n",
       "      <th></th>\n",
       "      <th></th>\n",
       "    </tr>\n",
       "  </thead>\n",
       "  <tbody>\n",
       "    <tr>\n",
       "      <th rowspan=\"6\" valign=\"top\">1</th>\n",
       "      <th>1</th>\n",
       "      <td>7027.511294</td>\n",
       "      <td>2</td>\n",
       "      <td>42.0</td>\n",
       "      <td>6</td>\n",
       "      <td>0</td>\n",
       "      <td>199</td>\n",
       "    </tr>\n",
       "    <tr>\n",
       "      <th>4</th>\n",
       "      <td>754.159807</td>\n",
       "      <td>1</td>\n",
       "      <td>7.0</td>\n",
       "      <td>6</td>\n",
       "      <td>0</td>\n",
       "      <td>199</td>\n",
       "    </tr>\n",
       "    <tr>\n",
       "      <th>8</th>\n",
       "      <td>6723.470560</td>\n",
       "      <td>2</td>\n",
       "      <td>46.0</td>\n",
       "      <td>6</td>\n",
       "      <td>0</td>\n",
       "      <td>199</td>\n",
       "    </tr>\n",
       "    <tr>\n",
       "      <th>10</th>\n",
       "      <td>5809.911100</td>\n",
       "      <td>2</td>\n",
       "      <td>32.0</td>\n",
       "      <td>6</td>\n",
       "      <td>0</td>\n",
       "      <td>199</td>\n",
       "    </tr>\n",
       "    <tr>\n",
       "      <th>11</th>\n",
       "      <td>7003.499363</td>\n",
       "      <td>3</td>\n",
       "      <td>56.0</td>\n",
       "      <td>6</td>\n",
       "      <td>0</td>\n",
       "      <td>199</td>\n",
       "    </tr>\n",
       "    <tr>\n",
       "      <th>12</th>\n",
       "      <td>6751.629942</td>\n",
       "      <td>2</td>\n",
       "      <td>28.0</td>\n",
       "      <td>6</td>\n",
       "      <td>0</td>\n",
       "      <td>199</td>\n",
       "    </tr>\n",
       "    <tr>\n",
       "      <th rowspan=\"4\" valign=\"top\">2</th>\n",
       "      <th>3</th>\n",
       "      <td>10187.723006</td>\n",
       "      <td>3</td>\n",
       "      <td>63.0</td>\n",
       "      <td>6</td>\n",
       "      <td>0</td>\n",
       "      <td>199</td>\n",
       "    </tr>\n",
       "    <tr>\n",
       "      <th>4</th>\n",
       "      <td>6164.381824</td>\n",
       "      <td>2</td>\n",
       "      <td>40.0</td>\n",
       "      <td>6</td>\n",
       "      <td>0</td>\n",
       "      <td>199</td>\n",
       "    </tr>\n",
       "    <tr>\n",
       "      <th>6</th>\n",
       "      <td>3255.338202</td>\n",
       "      <td>1</td>\n",
       "      <td>14.0</td>\n",
       "      <td>6</td>\n",
       "      <td>0</td>\n",
       "      <td>199</td>\n",
       "    </tr>\n",
       "    <tr>\n",
       "      <th>7</th>\n",
       "      <td>6780.722964</td>\n",
       "      <td>2</td>\n",
       "      <td>48.0</td>\n",
       "      <td>6</td>\n",
       "      <td>0</td>\n",
       "      <td>199</td>\n",
       "    </tr>\n",
       "  </tbody>\n",
       "</table>\n",
       "</div>"
      ],
      "text/plain": [
       "                    distance_sum  ride_count  duration_sum  minute_price_avg  \\\n",
       "user_id date_month                                                             \n",
       "1       1            7027.511294           2          42.0                 6   \n",
       "        4             754.159807           1           7.0                 6   \n",
       "        8            6723.470560           2          46.0                 6   \n",
       "        10           5809.911100           2          32.0                 6   \n",
       "        11           7003.499363           3          56.0                 6   \n",
       "        12           6751.629942           2          28.0                 6   \n",
       "2       3           10187.723006           3          63.0                 6   \n",
       "        4            6164.381824           2          40.0                 6   \n",
       "        6            3255.338202           1          14.0                 6   \n",
       "        7            6780.722964           2          48.0                 6   \n",
       "\n",
       "                    start_ride_price_avg  subscription_fee_avg  \n",
       "user_id date_month                                              \n",
       "1       1                              0                   199  \n",
       "        4                              0                   199  \n",
       "        8                              0                   199  \n",
       "        10                             0                   199  \n",
       "        11                             0                   199  \n",
       "        12                             0                   199  \n",
       "2       3                              0                   199  \n",
       "        4                              0                   199  \n",
       "        6                              0                   199  \n",
       "        7                              0                   199  "
      ]
     },
     "execution_count": 66,
     "metadata": {},
     "output_type": "execute_result"
    }
   ],
   "source": [
    "df_profit = total.groupby(['user_id', 'date_month']).agg(distance_sum = ('distance', 'sum'), ride_count=('date', 'count'), duration_sum=('duration', 'sum'), minute_price_avg=('minute_price','mean'), start_ride_price_avg=('start_ride_price', 'mean'), subscription_fee_avg=('subscription_fee', 'mean'))\n",
    "df_profit.head(10)"
   ]
  },
  {
   "cell_type": "code",
   "execution_count": 67,
   "id": "91bf71fc",
   "metadata": {},
   "outputs": [
    {
     "data": {
      "text/html": [
       "<div>\n",
       "<style scoped>\n",
       "    .dataframe tbody tr th:only-of-type {\n",
       "        vertical-align: middle;\n",
       "    }\n",
       "\n",
       "    .dataframe tbody tr th {\n",
       "        vertical-align: top;\n",
       "    }\n",
       "\n",
       "    .dataframe thead th {\n",
       "        text-align: right;\n",
       "    }\n",
       "</style>\n",
       "<table border=\"1\" class=\"dataframe\">\n",
       "  <thead>\n",
       "    <tr style=\"text-align: right;\">\n",
       "      <th></th>\n",
       "      <th></th>\n",
       "      <th>distance_sum</th>\n",
       "      <th>ride_count</th>\n",
       "      <th>duration_sum</th>\n",
       "      <th>minute_price_avg</th>\n",
       "      <th>start_ride_price_avg</th>\n",
       "      <th>subscription_fee_avg</th>\n",
       "      <th>profit</th>\n",
       "    </tr>\n",
       "    <tr>\n",
       "      <th>user_id</th>\n",
       "      <th>date_month</th>\n",
       "      <th></th>\n",
       "      <th></th>\n",
       "      <th></th>\n",
       "      <th></th>\n",
       "      <th></th>\n",
       "      <th></th>\n",
       "      <th></th>\n",
       "    </tr>\n",
       "  </thead>\n",
       "  <tbody>\n",
       "    <tr>\n",
       "      <th rowspan=\"6\" valign=\"top\">1</th>\n",
       "      <th>1</th>\n",
       "      <td>7027.511294</td>\n",
       "      <td>2</td>\n",
       "      <td>42.0</td>\n",
       "      <td>6</td>\n",
       "      <td>0</td>\n",
       "      <td>199</td>\n",
       "      <td>451.0</td>\n",
       "    </tr>\n",
       "    <tr>\n",
       "      <th>4</th>\n",
       "      <td>754.159807</td>\n",
       "      <td>1</td>\n",
       "      <td>7.0</td>\n",
       "      <td>6</td>\n",
       "      <td>0</td>\n",
       "      <td>199</td>\n",
       "      <td>241.0</td>\n",
       "    </tr>\n",
       "    <tr>\n",
       "      <th>8</th>\n",
       "      <td>6723.470560</td>\n",
       "      <td>2</td>\n",
       "      <td>46.0</td>\n",
       "      <td>6</td>\n",
       "      <td>0</td>\n",
       "      <td>199</td>\n",
       "      <td>475.0</td>\n",
       "    </tr>\n",
       "    <tr>\n",
       "      <th>10</th>\n",
       "      <td>5809.911100</td>\n",
       "      <td>2</td>\n",
       "      <td>32.0</td>\n",
       "      <td>6</td>\n",
       "      <td>0</td>\n",
       "      <td>199</td>\n",
       "      <td>391.0</td>\n",
       "    </tr>\n",
       "    <tr>\n",
       "      <th>11</th>\n",
       "      <td>7003.499363</td>\n",
       "      <td>3</td>\n",
       "      <td>56.0</td>\n",
       "      <td>6</td>\n",
       "      <td>0</td>\n",
       "      <td>199</td>\n",
       "      <td>535.0</td>\n",
       "    </tr>\n",
       "    <tr>\n",
       "      <th>12</th>\n",
       "      <td>6751.629942</td>\n",
       "      <td>2</td>\n",
       "      <td>28.0</td>\n",
       "      <td>6</td>\n",
       "      <td>0</td>\n",
       "      <td>199</td>\n",
       "      <td>367.0</td>\n",
       "    </tr>\n",
       "    <tr>\n",
       "      <th rowspan=\"4\" valign=\"top\">2</th>\n",
       "      <th>3</th>\n",
       "      <td>10187.723006</td>\n",
       "      <td>3</td>\n",
       "      <td>63.0</td>\n",
       "      <td>6</td>\n",
       "      <td>0</td>\n",
       "      <td>199</td>\n",
       "      <td>577.0</td>\n",
       "    </tr>\n",
       "    <tr>\n",
       "      <th>4</th>\n",
       "      <td>6164.381824</td>\n",
       "      <td>2</td>\n",
       "      <td>40.0</td>\n",
       "      <td>6</td>\n",
       "      <td>0</td>\n",
       "      <td>199</td>\n",
       "      <td>439.0</td>\n",
       "    </tr>\n",
       "    <tr>\n",
       "      <th>6</th>\n",
       "      <td>3255.338202</td>\n",
       "      <td>1</td>\n",
       "      <td>14.0</td>\n",
       "      <td>6</td>\n",
       "      <td>0</td>\n",
       "      <td>199</td>\n",
       "      <td>283.0</td>\n",
       "    </tr>\n",
       "    <tr>\n",
       "      <th>7</th>\n",
       "      <td>6780.722964</td>\n",
       "      <td>2</td>\n",
       "      <td>48.0</td>\n",
       "      <td>6</td>\n",
       "      <td>0</td>\n",
       "      <td>199</td>\n",
       "      <td>487.0</td>\n",
       "    </tr>\n",
       "  </tbody>\n",
       "</table>\n",
       "</div>"
      ],
      "text/plain": [
       "                    distance_sum  ride_count  duration_sum  minute_price_avg  \\\n",
       "user_id date_month                                                             \n",
       "1       1            7027.511294           2          42.0                 6   \n",
       "        4             754.159807           1           7.0                 6   \n",
       "        8            6723.470560           2          46.0                 6   \n",
       "        10           5809.911100           2          32.0                 6   \n",
       "        11           7003.499363           3          56.0                 6   \n",
       "        12           6751.629942           2          28.0                 6   \n",
       "2       3           10187.723006           3          63.0                 6   \n",
       "        4            6164.381824           2          40.0                 6   \n",
       "        6            3255.338202           1          14.0                 6   \n",
       "        7            6780.722964           2          48.0                 6   \n",
       "\n",
       "                    start_ride_price_avg  subscription_fee_avg  profit  \n",
       "user_id date_month                                                      \n",
       "1       1                              0                   199   451.0  \n",
       "        4                              0                   199   241.0  \n",
       "        8                              0                   199   475.0  \n",
       "        10                             0                   199   391.0  \n",
       "        11                             0                   199   535.0  \n",
       "        12                             0                   199   367.0  \n",
       "2       3                              0                   199   577.0  \n",
       "        4                              0                   199   439.0  \n",
       "        6                              0                   199   283.0  \n",
       "        7                              0                   199   487.0  "
      ]
     },
     "execution_count": 67,
     "metadata": {},
     "output_type": "execute_result"
    }
   ],
   "source": [
    "df_profit['profit'] = df_profit['subscription_fee_avg'] + df_profit['start_ride_price_avg']*df_profit['ride_count'] + df_profit['minute_price_avg']*df_profit['duration_sum']\n",
    "df_profit.head(10)"
   ]
  },
  {
   "cell_type": "code",
   "execution_count": 68,
   "id": "c48d8456",
   "metadata": {},
   "outputs": [],
   "source": [
    "df_profit = df_profit.reset_index()"
   ]
  },
  {
   "cell_type": "code",
   "execution_count": 69,
   "id": "65bb4d4d",
   "metadata": {},
   "outputs": [
    {
     "data": {
      "text/plain": [
       "0    451.0\n",
       "1    241.0\n",
       "2    475.0\n",
       "3    391.0\n",
       "4    535.0\n",
       "Name: profit, dtype: float64"
      ]
     },
     "execution_count": 69,
     "metadata": {},
     "output_type": "execute_result"
    }
   ],
   "source": [
    "total_profit_subscription = df_profit.loc[df_profit['subscription_fee_avg']!=0, 'profit']\n",
    "total_profit_subscription.head(5)"
   ]
  },
  {
   "cell_type": "code",
   "execution_count": 70,
   "id": "13beeabc",
   "metadata": {},
   "outputs": [
    {
     "data": {
      "text/plain": [
       "(4533,)"
      ]
     },
     "execution_count": 70,
     "metadata": {},
     "output_type": "execute_result"
    }
   ],
   "source": [
    "total_profit_subscription.shape"
   ]
  },
  {
   "cell_type": "code",
   "execution_count": 71,
   "id": "139fbef8",
   "metadata": {},
   "outputs": [],
   "source": [
    "total_profit_free = df_profit.loc[df_profit['subscription_fee_avg']==0, 'profit']"
   ]
  },
  {
   "cell_type": "code",
   "execution_count": 72,
   "id": "c3a810f0",
   "metadata": {},
   "outputs": [
    {
     "data": {
      "text/plain": [
       "(6798,)"
      ]
     },
     "execution_count": 72,
     "metadata": {},
     "output_type": "execute_result"
    }
   ],
   "source": [
    "total_profit_free.shape"
   ]
  },
  {
   "cell_type": "markdown",
   "id": "8fecf4cf",
   "metadata": {},
   "source": [
    "## Проверка гипотез"
   ]
  },
  {
   "cell_type": "markdown",
   "id": "9ab21f6d",
   "metadata": {},
   "source": [
    "Цель: увеличение количества пользователей с подпиской (с помощью проведения акций)"
   ]
  },
  {
   "cell_type": "markdown",
   "id": "85dbfb3a",
   "metadata": {},
   "source": [
    "#### Проверка гипотез о продолжительности поездки\n",
    "\n",
    "**Н0: продолжительность поездок пользователей с подпиской в среднем равна продолжительности поездок пользователей без подписки**\n",
    "\n",
    "На: продолжительность поездок пользователей с подпиской в среднем больше продолжительности поездок пользователей без подписки"
   ]
  },
  {
   "cell_type": "code",
   "execution_count": 73,
   "id": "a480d7be",
   "metadata": {},
   "outputs": [],
   "source": [
    "alpha = 0.05"
   ]
  },
  {
   "cell_type": "code",
   "execution_count": 74,
   "id": "4950c744",
   "metadata": {},
   "outputs": [
    {
     "data": {
      "text/plain": [
       "(6500, 12)"
      ]
     },
     "execution_count": 74,
     "metadata": {},
     "output_type": "execute_result"
    }
   ],
   "source": [
    "total_subscription.shape"
   ]
  },
  {
   "cell_type": "code",
   "execution_count": 75,
   "id": "bfd180bf",
   "metadata": {},
   "outputs": [
    {
     "data": {
      "text/plain": [
       "(11568, 12)"
      ]
     },
     "execution_count": 75,
     "metadata": {},
     "output_type": "execute_result"
    }
   ],
   "source": [
    "total_free.shape"
   ]
  },
  {
   "cell_type": "code",
   "execution_count": 76,
   "id": "0dd4136d",
   "metadata": {},
   "outputs": [],
   "source": [
    "sample_subscription = total_subscription['duration']"
   ]
  },
  {
   "cell_type": "code",
   "execution_count": 77,
   "id": "7ab371d9",
   "metadata": {},
   "outputs": [],
   "source": [
    "sample_free = total_free['duration'].sample(n=6500)"
   ]
  },
  {
   "cell_type": "code",
   "execution_count": 78,
   "id": "8d309c10",
   "metadata": {},
   "outputs": [
    {
     "name": "stdout",
     "output_type": "stream",
     "text": [
      "p-value: 4.675274139500313e-30\n",
      "Отвергаем нулевую гипотезу. Продолжительность поездок для пользователей с подпиской в среднем больше, чем для пользователей без подписки.\n"
     ]
    }
   ],
   "source": [
    "results = st.ttest_ind(sample_subscription, sample_free, alternative='greater')\n",
    "print(f'p-value: {results.pvalue}')\n",
    "\n",
    "# проверяем p-value\n",
    "if results.pvalue < alpha:\n",
    "    print('Отвергаем нулевую гипотезу. Продолжительность поездок для пользователей с подпиской в среднем больше, чем для пользователей без подписки.')\n",
    "else:\n",
    "    print('Нет оснований отвергнуть нулевую гипотезу. Продолжительность поездок для пользователей с подпиской и без в среднем равна')"
   ]
  },
  {
   "cell_type": "markdown",
   "id": "2fc42ffa",
   "metadata": {},
   "source": [
    "Применим второй подход посчитаем среднее для пользователей с подпиской и проверим гипотезу на равенство средней продолжительности поездки пользователей без подписки этому числу "
   ]
  },
  {
   "cell_type": "markdown",
   "id": "3ed0c886",
   "metadata": {},
   "source": [
    "\n",
    "**Вывод**\n",
    "\n",
    "Продолжительность поездки в среднем больше для пользователей с подпиской, что делает их более \"выгодными\" для компании. \n",
    "***"
   ]
  },
  {
   "cell_type": "markdown",
   "id": "efaa2eed",
   "metadata": {},
   "source": [
    "#### Проверка гипотез о расстоянии поездок\n",
    "\n",
    "Расстояние одной поездки в \n",
    "313130 метров — оптимальное с точки зрения износа самокат\n",
    "\n",
    "**H0: среднее расстояние для пользователей с подпиской за одну поездку равно 3130 метров**\n",
    "\n",
    "Ha: среднее расстояние для пользователей с подпиской за одну поездку больше 3130 метрова. "
   ]
  },
  {
   "cell_type": "code",
   "execution_count": 79,
   "id": "fad3a25a",
   "metadata": {},
   "outputs": [],
   "source": [
    "opimal_duration = 3130"
   ]
  },
  {
   "cell_type": "code",
   "execution_count": 80,
   "id": "83686ce8",
   "metadata": {},
   "outputs": [],
   "source": [
    "sample_subscription = total_subscription['distance']"
   ]
  },
  {
   "cell_type": "code",
   "execution_count": 81,
   "id": "0f069781",
   "metadata": {},
   "outputs": [
    {
     "name": "stdout",
     "output_type": "stream",
     "text": [
      "p-value: 0.9195368847849785\n",
      "Нет оснований отвергнуть нулевую гипотезу. Расстояние пользователей с подпиской в среднем равно оптимальному состоянию износа самоката\n"
     ]
    }
   ],
   "source": [
    "results = st.ttest_1samp(\n",
    "    sample_subscription, \n",
    "    opimal_duration, alternative='greater')\n",
    "print(f'p-value: {results.pvalue}')\n",
    "\n",
    "# проверяем p-value\n",
    "if results.pvalue < alpha:\n",
    "    print('Отвергаем нулевую гипотезу. Расстояние пользователей с подпиской в среднем не равно оптимальному состоянию износа самоката.')\n",
    "else:\n",
    "    print('Нет оснований отвергнуть нулевую гипотезу. Расстояние пользователей с подпиской в среднем равно оптимальному состоянию износа самоката')"
   ]
  },
  {
   "cell_type": "markdown",
   "id": "1a5452a4",
   "metadata": {},
   "source": [
    "**Вывод**\n",
    "\n",
    "Пользователи с подпиской в среднем проезжают расстояние соответсвующее оптимальному расстоянию с точки зрения износа самоката. Следовательно, пользователи с подпиской не влияют на ускорение износа самокатов, несмотря на более высокую длительность поездок.\n",
    "***"
   ]
  },
  {
   "cell_type": "markdown",
   "id": "c7608834",
   "metadata": {},
   "source": [
    "#### Проверка гипотез о помесячной выручке\n",
    "\n",
    "**H0: средняя помесячная выручка пользователей с подпиской в среднем равна помесячной выручке пользователей без подписки**\n",
    "\n",
    "Ha: средняя помесячная выручка пользователей с подпиской в среднем больше помесячной выручки пользователей без подписки"
   ]
  },
  {
   "cell_type": "code",
   "execution_count": 82,
   "id": "d8e549e9",
   "metadata": {},
   "outputs": [
    {
     "data": {
      "text/plain": [
       "(4533,)"
      ]
     },
     "execution_count": 82,
     "metadata": {},
     "output_type": "execute_result"
    }
   ],
   "source": [
    "sample_profit_subscription = total_profit_subscription\n",
    "sample_profit_subscription.shape"
   ]
  },
  {
   "cell_type": "code",
   "execution_count": 83,
   "id": "2dca9791",
   "metadata": {},
   "outputs": [],
   "source": [
    "sample_profit_free = total_profit_free.sample(n=4533)"
   ]
  },
  {
   "cell_type": "code",
   "execution_count": 84,
   "id": "ee2597ba",
   "metadata": {},
   "outputs": [
    {
     "name": "stdout",
     "output_type": "stream",
     "text": [
      "p-value: 1.1907801975341288e-29\n",
      "Отвергаем нулевую гипотезу. Cредняя помесячная выручка пользователей с подпиской в среднем больше помесячной выручки пользователей без подписки.\n"
     ]
    }
   ],
   "source": [
    "results = st.ttest_ind(sample_profit_subscription, sample_profit_free, alternative='greater')\n",
    "print(f'p-value: {results.pvalue}')\n",
    "\n",
    "# проверяем p-value\n",
    "if results.pvalue < alpha:\n",
    "    print('Отвергаем нулевую гипотезу. Cредняя помесячная выручка пользователей с подпиской в среднем больше помесячной выручки пользователей без подписки.')\n",
    "else:\n",
    "    print('Нет оснований отвергнуть нулевую гипотезу. Cредняя помесячная выручка пользователей с подпиской в среднем равна помесячной выручке пользователей без подписки.')"
   ]
  },
  {
   "cell_type": "markdown",
   "id": "0df4b47b",
   "metadata": {},
   "source": [
    "**Вывод**\n",
    "\n",
    "Пользователи с подпиской в среднем генерируют компании больше выручки помесячно, чем пользователи без подписки.\n",
    "***"
   ]
  },
  {
   "cell_type": "markdown",
   "id": "79b5c635",
   "metadata": {},
   "source": [
    "#### Представьте ситуацию"
   ]
  },
  {
   "cell_type": "markdown",
   "id": "7280a667",
   "metadata": {},
   "source": [
    "Техническая команда сервиса обновила сервера, с которыми взаимодействует мобильное приложение. Она надеется, что из-за этого количество обращений в техподдержку значимо снизилось. Некоторый файл содержит для каждого пользователя данные о количестве обращений до обновления и после него. Какой тест вам понадобился бы для проверки этой гипотезы?\n"
   ]
  },
  {
   "cell_type": "markdown",
   "id": "f78b4bcf",
   "metadata": {},
   "source": [
    "В таком случае выборки будут парными(зависимыми), так как объекты выборки не изменились. Следовательно необходимо будет проверить гипотезу о равенстве средних выборок до обновления серверов и после.\n",
    "\n",
    "**H0: В среднем количество обращений до и после обновления серверов осталось неизменным**\n",
    "\n",
    "Ha: В среднем количество обращений после обновления снизилось\n",
    "\n",
    "Метод из библиотеки scipy.stats:\n",
    "scipy.stats.ttest_rel(выборка_до_изменения, выборка_после_изменения, alternative='greater')"
   ]
  },
  {
   "cell_type": "markdown",
   "id": "88131fc7",
   "metadata": {},
   "source": [
    "<div style=\"border:solid blue 2px; padding: 20px\">\n",
    "    \n",
    "## Общий Вывод\n",
    "- Предобработка данных\n",
    "   * пропусков в данных не было обнаружено\n",
    "   * На этапе предобработки данных был добавлен столбец date_month в датаврэйм rides информацией о номере месяца поездки\n",
    "   * Были удалены явные дубликаты в таблице users в остальных датафрэймах явных дубликатов обнаружено не было\n",
    "   * Данные были проверены на неявные дубликаты, их не было обнаружено\n",
    "\n",
    "- Исследовательский анализ данных\n",
    "   * Средняя продолжительность поездок незначительно варьируется в зависимости от месяца (сезон несущественно влияет на продолжительность поездки)\n",
    "   * Меньше всего по времени пользователи проезжают в марте\n",
    "   * Больше всего по времени пользователи проезжают в мае\n",
    "   * Динамика длительности поездок в зависимости от месяца схожа с динамикой средней дистанции в метрах преодоленной за месяц\n",
    "   \n",
    "   \n",
    "   * выборка является относительно взвешенной по географической представленности\n",
    "   * наиболее частво встречающийся город - Пятигорск\n",
    "   * наименее часто встречающийся город - Москва \n",
    "   \n",
    "   \n",
    "   * Распределение пользователей по возрасту стремится к нормальному\n",
    "   * Больше всего пользователей в возрасте от 20 до 30 лет (молодежь) \n",
    "   \n",
    "   \n",
    "   * чаще всего пользователи преодолевают дистанцию около 3,1 км\n",
    "   * продолжительность поездки как правило составляет 17,5 или 18,5 минут\n",
    "\n",
    "   Subscription VS Free\n",
    "   * распределения продолжительности поездки и преодоленной дистанции схожа для пользователей с подпиской и без\n",
    "   * динамика длительности поездки в зависимости от типа подписки представляет существенные отличия\n",
    "   * динамика преодоленной дистанции в зависимости от типа подписки представляет существенные отличия\n",
    "   * в среднем длительность поездки и расстояние для пользователей без подписки меньше, чем длительность поездки для пользователей с подпиской\n",
    "\n",
    "- Проверка гипотез\n",
    "  * Продолжительность поездки в среднем больше для пользователей с подпиской, что делает их более \"выгодными\" для компании.\n",
    "  * Пользователи с подпиской в среднем проезжают расстояние соответсвующее оптимальному расстоянию с точки зрения износа самоката. Следовательно, пользователи с подпиской не влияют на ускорение износа самокатов, несмотря на более высокую длительность поездок.\n",
    "  * Пользователи с подпиской в среднем генерируют компании больше выручки помесячно, чем пользователи без подписки.\n",
    "    Таким образом, ориентаци на увеличение пользователей с подпиской действительно должно принести компании экономическую выгоду с точки зрения увеличения прибыли и сокращения риска износа самокатов"
   ]
  }
 ],
 "metadata": {
  "ExecuteTimeLog": [
   {
    "duration": 1301,
    "start_time": "2025-03-26T07:31:23.039Z"
   },
   {
    "duration": 41,
    "start_time": "2025-03-26T07:31:24.342Z"
   },
   {
    "duration": 12,
    "start_time": "2025-03-26T07:31:24.384Z"
   },
   {
    "duration": 3,
    "start_time": "2025-03-26T07:31:24.398Z"
   },
   {
    "duration": 11,
    "start_time": "2025-03-26T07:31:24.403Z"
   },
   {
    "duration": 29,
    "start_time": "2025-03-26T07:31:24.416Z"
   },
   {
    "duration": 173,
    "start_time": "2025-03-26T07:31:24.446Z"
   },
   {
    "duration": 7,
    "start_time": "2025-03-26T07:31:24.621Z"
   },
   {
    "duration": 5,
    "start_time": "2025-03-26T07:31:24.630Z"
   },
   {
    "duration": 12,
    "start_time": "2025-03-26T07:31:24.637Z"
   },
   {
    "duration": 18,
    "start_time": "2025-03-26T07:31:24.651Z"
   },
   {
    "duration": 57,
    "start_time": "2025-03-26T07:31:24.671Z"
   },
   {
    "duration": 7,
    "start_time": "2025-03-26T07:31:24.730Z"
   },
   {
    "duration": 4,
    "start_time": "2025-03-26T07:31:24.739Z"
   },
   {
    "duration": 10,
    "start_time": "2025-03-26T07:31:24.744Z"
   },
   {
    "duration": 14,
    "start_time": "2025-03-26T07:31:24.756Z"
   },
   {
    "duration": 94,
    "start_time": "2025-03-26T07:31:24.771Z"
   },
   {
    "duration": 8,
    "start_time": "2025-03-26T07:31:24.866Z"
   },
   {
    "duration": 17,
    "start_time": "2025-03-26T07:31:24.875Z"
   },
   {
    "duration": 17,
    "start_time": "2025-03-26T07:31:24.893Z"
   },
   {
    "duration": 6,
    "start_time": "2025-03-26T07:31:24.911Z"
   },
   {
    "duration": 9,
    "start_time": "2025-03-26T07:31:24.919Z"
   },
   {
    "duration": 5,
    "start_time": "2025-03-26T07:31:24.929Z"
   },
   {
    "duration": 123,
    "start_time": "2025-03-26T07:31:24.935Z"
   },
   {
    "duration": 25,
    "start_time": "2025-03-26T07:31:25.060Z"
   },
   {
    "duration": 18,
    "start_time": "2025-03-26T07:31:25.087Z"
   },
   {
    "duration": 5,
    "start_time": "2025-03-26T07:31:25.107Z"
   },
   {
    "duration": 87,
    "start_time": "2025-03-26T07:31:25.115Z"
   },
   {
    "duration": 76,
    "start_time": "2025-03-26T07:31:25.204Z"
   },
   {
    "duration": 12,
    "start_time": "2025-03-26T07:31:25.282Z"
   },
   {
    "duration": 156,
    "start_time": "2025-03-26T07:31:25.295Z"
   },
   {
    "duration": 10,
    "start_time": "2025-03-26T07:31:25.453Z"
   },
   {
    "duration": 37,
    "start_time": "2025-03-26T07:31:25.464Z"
   },
   {
    "duration": 88,
    "start_time": "2025-03-26T07:31:25.503Z"
   },
   {
    "duration": 173,
    "start_time": "2025-03-26T07:31:25.592Z"
   },
   {
    "duration": 9,
    "start_time": "2025-03-26T07:31:25.766Z"
   },
   {
    "duration": 14,
    "start_time": "2025-03-26T07:31:25.777Z"
   },
   {
    "duration": 141,
    "start_time": "2025-03-26T07:31:25.792Z"
   },
   {
    "duration": 13,
    "start_time": "2025-03-26T07:31:25.935Z"
   },
   {
    "duration": 119,
    "start_time": "2025-03-26T07:31:25.949Z"
   },
   {
    "duration": 0,
    "start_time": "2025-03-26T07:31:26.070Z"
   },
   {
    "duration": 0,
    "start_time": "2025-03-26T07:31:26.071Z"
   },
   {
    "duration": 0,
    "start_time": "2025-03-26T07:31:26.072Z"
   },
   {
    "duration": 0,
    "start_time": "2025-03-26T07:31:26.073Z"
   },
   {
    "duration": 0,
    "start_time": "2025-03-26T07:31:26.074Z"
   },
   {
    "duration": 0,
    "start_time": "2025-03-26T07:31:26.075Z"
   },
   {
    "duration": 0,
    "start_time": "2025-03-26T07:31:26.076Z"
   },
   {
    "duration": 0,
    "start_time": "2025-03-26T07:31:26.077Z"
   },
   {
    "duration": 0,
    "start_time": "2025-03-26T07:31:26.078Z"
   },
   {
    "duration": 0,
    "start_time": "2025-03-26T07:31:26.079Z"
   },
   {
    "duration": 0,
    "start_time": "2025-03-26T07:31:26.080Z"
   },
   {
    "duration": 0,
    "start_time": "2025-03-26T07:31:26.081Z"
   },
   {
    "duration": 0,
    "start_time": "2025-03-26T07:31:26.082Z"
   },
   {
    "duration": 0,
    "start_time": "2025-03-26T07:31:26.083Z"
   },
   {
    "duration": 0,
    "start_time": "2025-03-26T07:31:26.084Z"
   },
   {
    "duration": 0,
    "start_time": "2025-03-26T07:31:26.084Z"
   },
   {
    "duration": 0,
    "start_time": "2025-03-26T07:31:26.086Z"
   },
   {
    "duration": 0,
    "start_time": "2025-03-26T07:31:26.087Z"
   },
   {
    "duration": 0,
    "start_time": "2025-03-26T07:31:26.088Z"
   },
   {
    "duration": 0,
    "start_time": "2025-03-26T07:31:26.089Z"
   },
   {
    "duration": 0,
    "start_time": "2025-03-26T07:31:26.090Z"
   },
   {
    "duration": 0,
    "start_time": "2025-03-26T07:31:26.091Z"
   },
   {
    "duration": 0,
    "start_time": "2025-03-26T07:31:26.092Z"
   },
   {
    "duration": 0,
    "start_time": "2025-03-26T07:31:26.130Z"
   },
   {
    "duration": 0,
    "start_time": "2025-03-26T07:31:26.131Z"
   },
   {
    "duration": 0,
    "start_time": "2025-03-26T07:31:26.132Z"
   },
   {
    "duration": 0,
    "start_time": "2025-03-26T07:31:26.133Z"
   },
   {
    "duration": 0,
    "start_time": "2025-03-26T07:31:26.134Z"
   },
   {
    "duration": 0,
    "start_time": "2025-03-26T07:31:26.135Z"
   },
   {
    "duration": 0,
    "start_time": "2025-03-26T07:31:26.136Z"
   },
   {
    "duration": 0,
    "start_time": "2025-03-26T07:31:26.137Z"
   },
   {
    "duration": 0,
    "start_time": "2025-03-26T07:31:26.138Z"
   },
   {
    "duration": 0,
    "start_time": "2025-03-26T07:31:26.139Z"
   },
   {
    "duration": 0,
    "start_time": "2025-03-26T07:31:26.140Z"
   },
   {
    "duration": 1180,
    "start_time": "2025-03-26T07:59:37.250Z"
   },
   {
    "duration": 69,
    "start_time": "2025-03-26T07:59:38.432Z"
   },
   {
    "duration": 12,
    "start_time": "2025-03-26T07:59:38.502Z"
   },
   {
    "duration": 4,
    "start_time": "2025-03-26T07:59:38.516Z"
   },
   {
    "duration": 10,
    "start_time": "2025-03-26T07:59:38.523Z"
   },
   {
    "duration": 23,
    "start_time": "2025-03-26T07:59:38.535Z"
   },
   {
    "duration": 80,
    "start_time": "2025-03-26T07:59:38.560Z"
   },
   {
    "duration": 8,
    "start_time": "2025-03-26T07:59:38.641Z"
   },
   {
    "duration": 5,
    "start_time": "2025-03-26T07:59:38.651Z"
   },
   {
    "duration": 11,
    "start_time": "2025-03-26T07:59:38.657Z"
   },
   {
    "duration": 25,
    "start_time": "2025-03-26T07:59:38.669Z"
   },
   {
    "duration": 37,
    "start_time": "2025-03-26T07:59:38.696Z"
   },
   {
    "duration": 11,
    "start_time": "2025-03-26T07:59:38.735Z"
   },
   {
    "duration": 4,
    "start_time": "2025-03-26T07:59:38.751Z"
   },
   {
    "duration": 15,
    "start_time": "2025-03-26T07:59:38.757Z"
   },
   {
    "duration": 10,
    "start_time": "2025-03-26T07:59:38.774Z"
   },
   {
    "duration": 44,
    "start_time": "2025-03-26T07:59:38.786Z"
   },
   {
    "duration": 7,
    "start_time": "2025-03-26T07:59:38.832Z"
   },
   {
    "duration": 97,
    "start_time": "2025-03-26T07:59:38.841Z"
   },
   {
    "duration": 9,
    "start_time": "2025-03-26T07:59:38.941Z"
   },
   {
    "duration": 6,
    "start_time": "2025-03-26T07:59:38.952Z"
   },
   {
    "duration": 8,
    "start_time": "2025-03-26T07:59:38.959Z"
   },
   {
    "duration": 4,
    "start_time": "2025-03-26T07:59:38.969Z"
   },
   {
    "duration": 10,
    "start_time": "2025-03-26T07:59:38.975Z"
   },
   {
    "duration": 8,
    "start_time": "2025-03-26T07:59:38.986Z"
   },
   {
    "duration": 35,
    "start_time": "2025-03-26T07:59:38.995Z"
   },
   {
    "duration": 5,
    "start_time": "2025-03-26T07:59:39.031Z"
   },
   {
    "duration": 6,
    "start_time": "2025-03-26T07:59:39.037Z"
   },
   {
    "duration": 5,
    "start_time": "2025-03-26T07:59:39.045Z"
   },
   {
    "duration": 7,
    "start_time": "2025-03-26T07:59:39.051Z"
   },
   {
    "duration": 173,
    "start_time": "2025-03-26T07:59:39.060Z"
   },
   {
    "duration": 7,
    "start_time": "2025-03-26T07:59:39.235Z"
   },
   {
    "duration": 124,
    "start_time": "2025-03-26T07:59:39.244Z"
   },
   {
    "duration": 102,
    "start_time": "2025-03-26T07:59:39.370Z"
   },
   {
    "duration": 170,
    "start_time": "2025-03-26T07:59:39.474Z"
   },
   {
    "duration": 9,
    "start_time": "2025-03-26T07:59:39.646Z"
   },
   {
    "duration": 16,
    "start_time": "2025-03-26T07:59:39.657Z"
   },
   {
    "duration": 130,
    "start_time": "2025-03-26T07:59:39.675Z"
   },
   {
    "duration": 23,
    "start_time": "2025-03-26T07:59:39.807Z"
   },
   {
    "duration": 117,
    "start_time": "2025-03-26T07:59:39.832Z"
   },
   {
    "duration": 0,
    "start_time": "2025-03-26T07:59:39.952Z"
   },
   {
    "duration": 0,
    "start_time": "2025-03-26T07:59:39.954Z"
   },
   {
    "duration": 0,
    "start_time": "2025-03-26T07:59:39.955Z"
   },
   {
    "duration": 0,
    "start_time": "2025-03-26T07:59:39.956Z"
   },
   {
    "duration": 0,
    "start_time": "2025-03-26T07:59:39.957Z"
   },
   {
    "duration": 0,
    "start_time": "2025-03-26T07:59:39.958Z"
   },
   {
    "duration": 0,
    "start_time": "2025-03-26T07:59:39.959Z"
   },
   {
    "duration": 0,
    "start_time": "2025-03-26T07:59:39.960Z"
   },
   {
    "duration": 0,
    "start_time": "2025-03-26T07:59:39.961Z"
   },
   {
    "duration": 0,
    "start_time": "2025-03-26T07:59:39.962Z"
   },
   {
    "duration": 0,
    "start_time": "2025-03-26T07:59:39.963Z"
   },
   {
    "duration": 0,
    "start_time": "2025-03-26T07:59:39.965Z"
   },
   {
    "duration": 1,
    "start_time": "2025-03-26T07:59:39.965Z"
   },
   {
    "duration": 0,
    "start_time": "2025-03-26T07:59:39.966Z"
   },
   {
    "duration": 0,
    "start_time": "2025-03-26T07:59:39.967Z"
   },
   {
    "duration": 0,
    "start_time": "2025-03-26T07:59:39.968Z"
   },
   {
    "duration": 0,
    "start_time": "2025-03-26T07:59:39.969Z"
   },
   {
    "duration": 0,
    "start_time": "2025-03-26T07:59:39.970Z"
   },
   {
    "duration": 0,
    "start_time": "2025-03-26T07:59:39.971Z"
   },
   {
    "duration": 0,
    "start_time": "2025-03-26T07:59:39.972Z"
   },
   {
    "duration": 0,
    "start_time": "2025-03-26T07:59:39.973Z"
   },
   {
    "duration": 0,
    "start_time": "2025-03-26T07:59:39.974Z"
   },
   {
    "duration": 0,
    "start_time": "2025-03-26T07:59:39.975Z"
   },
   {
    "duration": 0,
    "start_time": "2025-03-26T07:59:39.976Z"
   },
   {
    "duration": 0,
    "start_time": "2025-03-26T07:59:39.977Z"
   },
   {
    "duration": 0,
    "start_time": "2025-03-26T07:59:39.978Z"
   },
   {
    "duration": 0,
    "start_time": "2025-03-26T07:59:39.979Z"
   },
   {
    "duration": 0,
    "start_time": "2025-03-26T07:59:39.980Z"
   },
   {
    "duration": 0,
    "start_time": "2025-03-26T07:59:39.981Z"
   },
   {
    "duration": 0,
    "start_time": "2025-03-26T07:59:40.030Z"
   },
   {
    "duration": 0,
    "start_time": "2025-03-26T07:59:40.031Z"
   },
   {
    "duration": 0,
    "start_time": "2025-03-26T07:59:40.032Z"
   },
   {
    "duration": 0,
    "start_time": "2025-03-26T07:59:40.033Z"
   },
   {
    "duration": 1,
    "start_time": "2025-03-26T07:59:40.034Z"
   },
   {
    "duration": 1143,
    "start_time": "2025-03-27T06:21:31.685Z"
   },
   {
    "duration": 46,
    "start_time": "2025-03-27T06:21:32.831Z"
   },
   {
    "duration": 12,
    "start_time": "2025-03-27T06:21:32.878Z"
   },
   {
    "duration": 3,
    "start_time": "2025-03-27T06:21:32.892Z"
   },
   {
    "duration": 13,
    "start_time": "2025-03-27T06:21:32.897Z"
   },
   {
    "duration": 29,
    "start_time": "2025-03-27T06:21:32.911Z"
   },
   {
    "duration": 76,
    "start_time": "2025-03-27T06:21:32.941Z"
   },
   {
    "duration": 7,
    "start_time": "2025-03-27T06:21:33.019Z"
   },
   {
    "duration": 7,
    "start_time": "2025-03-27T06:21:33.028Z"
   },
   {
    "duration": 40,
    "start_time": "2025-03-27T06:21:33.037Z"
   },
   {
    "duration": 27,
    "start_time": "2025-03-27T06:21:33.079Z"
   },
   {
    "duration": 43,
    "start_time": "2025-03-27T06:21:33.107Z"
   },
   {
    "duration": 7,
    "start_time": "2025-03-27T06:21:33.151Z"
   },
   {
    "duration": 24,
    "start_time": "2025-03-27T06:21:33.160Z"
   },
   {
    "duration": 17,
    "start_time": "2025-03-27T06:21:33.185Z"
   },
   {
    "duration": 13,
    "start_time": "2025-03-27T06:21:33.203Z"
   },
   {
    "duration": 26,
    "start_time": "2025-03-27T06:21:33.217Z"
   },
   {
    "duration": 16,
    "start_time": "2025-03-27T06:21:33.244Z"
   },
   {
    "duration": 5,
    "start_time": "2025-03-27T06:21:33.262Z"
   },
   {
    "duration": 28,
    "start_time": "2025-03-27T06:21:33.268Z"
   },
   {
    "duration": 37,
    "start_time": "2025-03-27T06:21:33.298Z"
   },
   {
    "duration": 5,
    "start_time": "2025-03-27T06:21:33.336Z"
   },
   {
    "duration": 5,
    "start_time": "2025-03-27T06:21:33.342Z"
   },
   {
    "duration": 8,
    "start_time": "2025-03-27T06:21:33.348Z"
   },
   {
    "duration": 19,
    "start_time": "2025-03-27T06:21:33.357Z"
   },
   {
    "duration": 13,
    "start_time": "2025-03-27T06:21:33.377Z"
   },
   {
    "duration": 15,
    "start_time": "2025-03-27T06:21:33.392Z"
   },
   {
    "duration": 19,
    "start_time": "2025-03-27T06:21:33.412Z"
   },
   {
    "duration": 8,
    "start_time": "2025-03-27T06:21:33.433Z"
   },
   {
    "duration": 9,
    "start_time": "2025-03-27T06:21:33.442Z"
   },
   {
    "duration": 25,
    "start_time": "2025-03-27T06:21:33.453Z"
   },
   {
    "duration": 18,
    "start_time": "2025-03-27T06:21:33.479Z"
   },
   {
    "duration": 142,
    "start_time": "2025-03-27T06:21:33.498Z"
   },
   {
    "duration": 9,
    "start_time": "2025-03-27T06:21:33.642Z"
   },
   {
    "duration": 112,
    "start_time": "2025-03-27T06:21:33.652Z"
   },
   {
    "duration": 0,
    "start_time": "2025-03-27T06:21:33.765Z"
   },
   {
    "duration": 0,
    "start_time": "2025-03-27T06:21:33.767Z"
   },
   {
    "duration": 0,
    "start_time": "2025-03-27T06:21:33.768Z"
   },
   {
    "duration": 0,
    "start_time": "2025-03-27T06:21:33.768Z"
   },
   {
    "duration": 0,
    "start_time": "2025-03-27T06:21:33.769Z"
   },
   {
    "duration": 0,
    "start_time": "2025-03-27T06:21:33.770Z"
   },
   {
    "duration": 0,
    "start_time": "2025-03-27T06:21:33.771Z"
   },
   {
    "duration": 0,
    "start_time": "2025-03-27T06:21:33.772Z"
   },
   {
    "duration": 0,
    "start_time": "2025-03-27T06:21:33.773Z"
   },
   {
    "duration": 0,
    "start_time": "2025-03-27T06:21:33.774Z"
   },
   {
    "duration": 0,
    "start_time": "2025-03-27T06:21:33.775Z"
   },
   {
    "duration": 0,
    "start_time": "2025-03-27T06:21:33.775Z"
   },
   {
    "duration": 0,
    "start_time": "2025-03-27T06:21:33.776Z"
   },
   {
    "duration": 0,
    "start_time": "2025-03-27T06:21:33.777Z"
   },
   {
    "duration": 0,
    "start_time": "2025-03-27T06:21:33.778Z"
   },
   {
    "duration": 0,
    "start_time": "2025-03-27T06:21:33.778Z"
   },
   {
    "duration": 0,
    "start_time": "2025-03-27T06:21:33.807Z"
   },
   {
    "duration": 0,
    "start_time": "2025-03-27T06:21:33.808Z"
   },
   {
    "duration": 0,
    "start_time": "2025-03-27T06:21:33.809Z"
   },
   {
    "duration": 0,
    "start_time": "2025-03-27T06:21:33.810Z"
   },
   {
    "duration": 0,
    "start_time": "2025-03-27T06:21:33.811Z"
   },
   {
    "duration": 0,
    "start_time": "2025-03-27T06:21:33.812Z"
   },
   {
    "duration": 0,
    "start_time": "2025-03-27T06:21:33.813Z"
   },
   {
    "duration": 0,
    "start_time": "2025-03-27T06:21:33.813Z"
   },
   {
    "duration": 0,
    "start_time": "2025-03-27T06:21:33.814Z"
   },
   {
    "duration": 0,
    "start_time": "2025-03-27T06:21:33.815Z"
   },
   {
    "duration": 0,
    "start_time": "2025-03-27T06:21:33.816Z"
   },
   {
    "duration": 0,
    "start_time": "2025-03-27T06:21:33.817Z"
   },
   {
    "duration": 0,
    "start_time": "2025-03-27T06:21:33.818Z"
   },
   {
    "duration": 0,
    "start_time": "2025-03-27T06:21:33.819Z"
   },
   {
    "duration": 0,
    "start_time": "2025-03-27T06:21:33.820Z"
   },
   {
    "duration": 0,
    "start_time": "2025-03-27T06:21:33.821Z"
   },
   {
    "duration": 0,
    "start_time": "2025-03-27T06:21:33.822Z"
   },
   {
    "duration": 0,
    "start_time": "2025-03-27T06:21:33.822Z"
   },
   {
    "duration": 0,
    "start_time": "2025-03-27T06:21:33.823Z"
   },
   {
    "duration": 0,
    "start_time": "2025-03-27T06:21:33.824Z"
   },
   {
    "duration": 0,
    "start_time": "2025-03-27T06:21:33.825Z"
   },
   {
    "duration": 0,
    "start_time": "2025-03-27T06:21:33.826Z"
   },
   {
    "duration": 0,
    "start_time": "2025-03-27T06:21:33.827Z"
   },
   {
    "duration": 0,
    "start_time": "2025-03-27T06:21:33.828Z"
   },
   {
    "duration": 1,
    "start_time": "2025-03-27T06:21:33.828Z"
   },
   {
    "duration": 0,
    "start_time": "2025-03-27T06:21:33.829Z"
   },
   {
    "duration": 0,
    "start_time": "2025-03-27T06:21:33.830Z"
   },
   {
    "duration": 0,
    "start_time": "2025-03-27T06:21:33.831Z"
   },
   {
    "duration": 0,
    "start_time": "2025-03-27T06:21:33.832Z"
   },
   {
    "duration": 0,
    "start_time": "2025-03-27T06:21:33.833Z"
   },
   {
    "duration": 3,
    "start_time": "2025-03-27T11:53:20.791Z"
   },
   {
    "duration": 120,
    "start_time": "2025-03-27T11:53:20.797Z"
   },
   {
    "duration": 8,
    "start_time": "2025-03-27T11:53:20.918Z"
   },
   {
    "duration": 33,
    "start_time": "2025-03-27T11:53:20.927Z"
   },
   {
    "duration": 41,
    "start_time": "2025-03-27T11:53:20.962Z"
   },
   {
    "duration": 21,
    "start_time": "2025-03-27T11:53:21.005Z"
   },
   {
    "duration": 268,
    "start_time": "2025-03-27T11:53:21.028Z"
   },
   {
    "duration": 8,
    "start_time": "2025-03-27T11:53:21.297Z"
   },
   {
    "duration": 42,
    "start_time": "2025-03-27T11:53:21.307Z"
   },
   {
    "duration": 15,
    "start_time": "2025-03-27T11:53:21.350Z"
   },
   {
    "duration": 28,
    "start_time": "2025-03-27T11:53:21.368Z"
   },
   {
    "duration": 52,
    "start_time": "2025-03-27T11:53:21.397Z"
   },
   {
    "duration": 7,
    "start_time": "2025-03-27T11:53:21.450Z"
   },
   {
    "duration": 4,
    "start_time": "2025-03-27T11:53:21.458Z"
   },
   {
    "duration": 21,
    "start_time": "2025-03-27T11:53:21.463Z"
   },
   {
    "duration": 106,
    "start_time": "2025-03-27T11:53:21.486Z"
   },
   {
    "duration": 37,
    "start_time": "2025-03-27T11:53:21.594Z"
   },
   {
    "duration": 26,
    "start_time": "2025-03-27T11:53:21.633Z"
   },
   {
    "duration": 80,
    "start_time": "2025-03-27T11:53:21.661Z"
   },
   {
    "duration": 36,
    "start_time": "2025-03-27T11:53:21.742Z"
   },
   {
    "duration": 24,
    "start_time": "2025-03-27T11:53:21.779Z"
   },
   {
    "duration": 7,
    "start_time": "2025-03-27T11:53:21.805Z"
   },
   {
    "duration": 28,
    "start_time": "2025-03-27T11:53:21.814Z"
   },
   {
    "duration": 29,
    "start_time": "2025-03-27T11:53:21.844Z"
   },
   {
    "duration": 43,
    "start_time": "2025-03-27T11:53:21.875Z"
   },
   {
    "duration": 37,
    "start_time": "2025-03-27T11:53:21.919Z"
   },
   {
    "duration": 38,
    "start_time": "2025-03-27T11:53:21.957Z"
   },
   {
    "duration": 13,
    "start_time": "2025-03-27T11:53:21.997Z"
   },
   {
    "duration": 46,
    "start_time": "2025-03-27T11:53:22.015Z"
   },
   {
    "duration": 29,
    "start_time": "2025-03-27T11:53:22.063Z"
   },
   {
    "duration": 47,
    "start_time": "2025-03-27T11:53:22.093Z"
   },
   {
    "duration": 158,
    "start_time": "2025-03-27T11:53:22.142Z"
   },
   {
    "duration": 259,
    "start_time": "2025-03-27T11:53:22.301Z"
   },
   {
    "duration": 7,
    "start_time": "2025-03-27T11:53:22.562Z"
   },
   {
    "duration": 42,
    "start_time": "2025-03-27T11:53:22.571Z"
   },
   {
    "duration": 1,
    "start_time": "2025-03-27T11:53:22.614Z"
   },
   {
    "duration": 0,
    "start_time": "2025-03-27T11:53:22.615Z"
   },
   {
    "duration": 0,
    "start_time": "2025-03-27T11:53:22.616Z"
   },
   {
    "duration": 0,
    "start_time": "2025-03-27T11:53:22.617Z"
   },
   {
    "duration": 0,
    "start_time": "2025-03-27T11:53:22.618Z"
   },
   {
    "duration": 0,
    "start_time": "2025-03-27T11:53:22.619Z"
   },
   {
    "duration": 0,
    "start_time": "2025-03-27T11:53:22.620Z"
   },
   {
    "duration": 0,
    "start_time": "2025-03-27T11:53:22.621Z"
   },
   {
    "duration": 0,
    "start_time": "2025-03-27T11:53:22.622Z"
   },
   {
    "duration": 0,
    "start_time": "2025-03-27T11:53:22.623Z"
   },
   {
    "duration": 0,
    "start_time": "2025-03-27T11:53:22.624Z"
   },
   {
    "duration": 0,
    "start_time": "2025-03-27T11:53:22.625Z"
   },
   {
    "duration": 0,
    "start_time": "2025-03-27T11:53:22.626Z"
   },
   {
    "duration": 0,
    "start_time": "2025-03-27T11:53:22.627Z"
   },
   {
    "duration": 0,
    "start_time": "2025-03-27T11:53:22.628Z"
   },
   {
    "duration": 0,
    "start_time": "2025-03-27T11:53:22.629Z"
   },
   {
    "duration": 0,
    "start_time": "2025-03-27T11:53:22.630Z"
   },
   {
    "duration": 0,
    "start_time": "2025-03-27T11:53:22.630Z"
   },
   {
    "duration": 0,
    "start_time": "2025-03-27T11:53:22.631Z"
   },
   {
    "duration": 0,
    "start_time": "2025-03-27T11:53:22.632Z"
   },
   {
    "duration": 0,
    "start_time": "2025-03-27T11:53:22.633Z"
   },
   {
    "duration": 0,
    "start_time": "2025-03-27T11:53:22.634Z"
   },
   {
    "duration": 0,
    "start_time": "2025-03-27T11:53:22.635Z"
   },
   {
    "duration": 0,
    "start_time": "2025-03-27T11:53:22.636Z"
   },
   {
    "duration": 0,
    "start_time": "2025-03-27T11:53:22.637Z"
   },
   {
    "duration": 0,
    "start_time": "2025-03-27T11:53:22.638Z"
   },
   {
    "duration": 0,
    "start_time": "2025-03-27T11:53:22.639Z"
   },
   {
    "duration": 0,
    "start_time": "2025-03-27T11:53:22.640Z"
   },
   {
    "duration": 0,
    "start_time": "2025-03-27T11:53:22.641Z"
   },
   {
    "duration": 0,
    "start_time": "2025-03-27T11:53:22.642Z"
   },
   {
    "duration": 0,
    "start_time": "2025-03-27T11:53:22.643Z"
   },
   {
    "duration": 0,
    "start_time": "2025-03-27T11:53:22.644Z"
   },
   {
    "duration": 0,
    "start_time": "2025-03-27T11:53:22.645Z"
   },
   {
    "duration": 0,
    "start_time": "2025-03-27T11:53:22.646Z"
   },
   {
    "duration": 0,
    "start_time": "2025-03-27T11:53:22.647Z"
   },
   {
    "duration": 0,
    "start_time": "2025-03-27T11:53:22.648Z"
   },
   {
    "duration": 0,
    "start_time": "2025-03-27T11:53:22.704Z"
   },
   {
    "duration": 0,
    "start_time": "2025-03-27T11:53:22.706Z"
   },
   {
    "duration": 0,
    "start_time": "2025-03-27T11:53:22.707Z"
   },
   {
    "duration": 0,
    "start_time": "2025-03-27T11:53:22.708Z"
   },
   {
    "duration": 0,
    "start_time": "2025-03-27T11:53:22.709Z"
   },
   {
    "duration": 0,
    "start_time": "2025-03-27T11:53:22.710Z"
   },
   {
    "duration": 0,
    "start_time": "2025-03-27T11:53:22.710Z"
   },
   {
    "duration": 1,
    "start_time": "2025-03-27T11:53:22.711Z"
   },
   {
    "duration": 0,
    "start_time": "2025-03-27T11:53:22.712Z"
   },
   {
    "duration": 0,
    "start_time": "2025-03-27T11:53:22.713Z"
   },
   {
    "duration": 7,
    "start_time": "2025-03-27T11:53:37.432Z"
   },
   {
    "duration": 16,
    "start_time": "2025-03-27T11:53:46.162Z"
   },
   {
    "duration": 9,
    "start_time": "2025-03-27T11:54:08.668Z"
   },
   {
    "duration": 17,
    "start_time": "2025-03-27T11:54:16.617Z"
   },
   {
    "duration": 15,
    "start_time": "2025-03-27T11:54:21.079Z"
   },
   {
    "duration": 9,
    "start_time": "2025-03-27T11:54:39.483Z"
   },
   {
    "duration": 12,
    "start_time": "2025-03-27T11:55:35.767Z"
   },
   {
    "duration": 15,
    "start_time": "2025-03-27T11:55:47.168Z"
   },
   {
    "duration": 114,
    "start_time": "2025-03-27T11:56:15.821Z"
   },
   {
    "duration": 130,
    "start_time": "2025-03-27T11:56:40.417Z"
   },
   {
    "duration": 149,
    "start_time": "2025-03-27T11:56:45.496Z"
   },
   {
    "duration": 108,
    "start_time": "2025-03-27T11:56:53.644Z"
   },
   {
    "duration": 138,
    "start_time": "2025-03-27T11:56:58.268Z"
   },
   {
    "duration": 132,
    "start_time": "2025-03-27T11:57:08.959Z"
   },
   {
    "duration": 143,
    "start_time": "2025-03-27T11:57:14.392Z"
   },
   {
    "duration": 2,
    "start_time": "2025-03-27T11:57:26.916Z"
   },
   {
    "duration": 66,
    "start_time": "2025-03-27T11:57:26.920Z"
   },
   {
    "duration": 7,
    "start_time": "2025-03-27T11:57:26.988Z"
   },
   {
    "duration": 12,
    "start_time": "2025-03-27T11:57:26.997Z"
   },
   {
    "duration": 20,
    "start_time": "2025-03-27T11:57:27.011Z"
   },
   {
    "duration": 45,
    "start_time": "2025-03-27T11:57:27.032Z"
   },
   {
    "duration": 132,
    "start_time": "2025-03-27T11:57:27.078Z"
   },
   {
    "duration": 8,
    "start_time": "2025-03-27T11:57:27.212Z"
   },
   {
    "duration": 34,
    "start_time": "2025-03-27T11:57:27.222Z"
   },
   {
    "duration": 29,
    "start_time": "2025-03-27T11:57:27.258Z"
   },
   {
    "duration": 99,
    "start_time": "2025-03-27T11:57:27.290Z"
   },
   {
    "duration": 63,
    "start_time": "2025-03-27T11:57:27.391Z"
   },
   {
    "duration": 7,
    "start_time": "2025-03-27T11:57:27.455Z"
   },
   {
    "duration": 10,
    "start_time": "2025-03-27T11:57:27.463Z"
   },
   {
    "duration": 30,
    "start_time": "2025-03-27T11:57:27.474Z"
   },
   {
    "duration": 7,
    "start_time": "2025-03-27T11:57:27.506Z"
   },
   {
    "duration": 11,
    "start_time": "2025-03-27T11:57:27.515Z"
   },
   {
    "duration": 117,
    "start_time": "2025-03-27T11:57:27.527Z"
   },
   {
    "duration": 4,
    "start_time": "2025-03-27T11:57:27.646Z"
   },
   {
    "duration": 70,
    "start_time": "2025-03-27T11:57:27.651Z"
   },
   {
    "duration": 66,
    "start_time": "2025-03-27T11:57:27.722Z"
   },
   {
    "duration": 6,
    "start_time": "2025-03-27T11:57:27.790Z"
   },
   {
    "duration": 8,
    "start_time": "2025-03-27T11:57:27.797Z"
   },
   {
    "duration": 6,
    "start_time": "2025-03-27T11:57:27.807Z"
   },
   {
    "duration": 5,
    "start_time": "2025-03-27T11:57:27.814Z"
   },
   {
    "duration": 6,
    "start_time": "2025-03-27T11:57:27.820Z"
   },
   {
    "duration": 6,
    "start_time": "2025-03-27T11:57:27.828Z"
   },
   {
    "duration": 13,
    "start_time": "2025-03-27T11:57:27.835Z"
   },
   {
    "duration": 4,
    "start_time": "2025-03-27T11:57:27.852Z"
   },
   {
    "duration": 21,
    "start_time": "2025-03-27T11:57:27.858Z"
   },
   {
    "duration": 11,
    "start_time": "2025-03-27T11:57:27.881Z"
   },
   {
    "duration": 11,
    "start_time": "2025-03-27T11:57:27.893Z"
   },
   {
    "duration": 134,
    "start_time": "2025-03-27T11:57:27.905Z"
   },
   {
    "duration": 8,
    "start_time": "2025-03-27T11:57:28.041Z"
   },
   {
    "duration": 154,
    "start_time": "2025-03-27T11:57:28.050Z"
   },
   {
    "duration": 13,
    "start_time": "2025-03-27T11:57:28.216Z"
   },
   {
    "duration": 118,
    "start_time": "2025-03-27T11:57:28.231Z"
   },
   {
    "duration": 130,
    "start_time": "2025-03-27T11:57:28.350Z"
   },
   {
    "duration": 69,
    "start_time": "2025-03-27T11:57:28.482Z"
   },
   {
    "duration": 168,
    "start_time": "2025-03-27T11:57:28.553Z"
   },
   {
    "duration": 8,
    "start_time": "2025-03-27T11:57:28.723Z"
   },
   {
    "duration": 24,
    "start_time": "2025-03-27T11:57:28.732Z"
   },
   {
    "duration": 141,
    "start_time": "2025-03-27T11:57:28.758Z"
   },
   {
    "duration": 175,
    "start_time": "2025-03-27T11:57:28.900Z"
   },
   {
    "duration": 13,
    "start_time": "2025-03-27T11:57:29.076Z"
   },
   {
    "duration": 149,
    "start_time": "2025-03-27T11:57:29.090Z"
   },
   {
    "duration": 182,
    "start_time": "2025-03-27T11:57:29.241Z"
   },
   {
    "duration": 10,
    "start_time": "2025-03-27T11:57:29.425Z"
   },
   {
    "duration": 18,
    "start_time": "2025-03-27T11:57:29.436Z"
   },
   {
    "duration": 15,
    "start_time": "2025-03-27T11:57:29.455Z"
   },
   {
    "duration": 67,
    "start_time": "2025-03-27T11:57:29.471Z"
   },
   {
    "duration": 234,
    "start_time": "2025-03-27T11:57:29.540Z"
   },
   {
    "duration": 13,
    "start_time": "2025-03-27T11:57:29.776Z"
   },
   {
    "duration": 15,
    "start_time": "2025-03-27T11:57:29.790Z"
   },
   {
    "duration": 0,
    "start_time": "2025-03-27T11:57:29.806Z"
   },
   {
    "duration": 0,
    "start_time": "2025-03-27T11:57:29.807Z"
   },
   {
    "duration": 0,
    "start_time": "2025-03-27T11:57:29.808Z"
   },
   {
    "duration": 0,
    "start_time": "2025-03-27T11:57:29.809Z"
   },
   {
    "duration": 0,
    "start_time": "2025-03-27T11:57:29.810Z"
   },
   {
    "duration": 0,
    "start_time": "2025-03-27T11:57:29.810Z"
   },
   {
    "duration": 0,
    "start_time": "2025-03-27T11:57:29.812Z"
   },
   {
    "duration": 0,
    "start_time": "2025-03-27T11:57:29.812Z"
   },
   {
    "duration": 0,
    "start_time": "2025-03-27T11:57:29.813Z"
   },
   {
    "duration": 0,
    "start_time": "2025-03-27T11:57:29.814Z"
   },
   {
    "duration": 0,
    "start_time": "2025-03-27T11:57:29.815Z"
   },
   {
    "duration": 0,
    "start_time": "2025-03-27T11:57:29.816Z"
   },
   {
    "duration": 0,
    "start_time": "2025-03-27T11:57:29.817Z"
   },
   {
    "duration": 0,
    "start_time": "2025-03-27T11:57:29.818Z"
   },
   {
    "duration": 0,
    "start_time": "2025-03-27T11:57:29.819Z"
   },
   {
    "duration": 1,
    "start_time": "2025-03-27T11:57:29.820Z"
   },
   {
    "duration": 0,
    "start_time": "2025-03-27T11:57:29.821Z"
   },
   {
    "duration": 0,
    "start_time": "2025-03-27T11:57:29.822Z"
   },
   {
    "duration": 0,
    "start_time": "2025-03-27T11:57:29.823Z"
   },
   {
    "duration": 0,
    "start_time": "2025-03-27T11:57:29.824Z"
   },
   {
    "duration": 0,
    "start_time": "2025-03-27T11:57:29.825Z"
   },
   {
    "duration": 0,
    "start_time": "2025-03-27T11:57:29.826Z"
   },
   {
    "duration": 0,
    "start_time": "2025-03-27T11:57:29.827Z"
   },
   {
    "duration": 0,
    "start_time": "2025-03-27T11:57:29.828Z"
   },
   {
    "duration": 0,
    "start_time": "2025-03-27T11:57:29.829Z"
   },
   {
    "duration": 0,
    "start_time": "2025-03-27T11:57:29.830Z"
   },
   {
    "duration": 0,
    "start_time": "2025-03-27T11:57:29.831Z"
   },
   {
    "duration": 322,
    "start_time": "2025-03-27T11:58:29.741Z"
   },
   {
    "duration": 24,
    "start_time": "2025-03-27T11:59:16.894Z"
   },
   {
    "duration": 13,
    "start_time": "2025-03-27T11:59:24.071Z"
   },
   {
    "duration": 20,
    "start_time": "2025-03-27T11:59:38.144Z"
   },
   {
    "duration": 19,
    "start_time": "2025-03-27T11:59:42.996Z"
   },
   {
    "duration": 19,
    "start_time": "2025-03-27T12:00:32.941Z"
   },
   {
    "duration": 18,
    "start_time": "2025-03-27T12:01:05.821Z"
   },
   {
    "duration": 1985,
    "start_time": "2025-03-27T12:01:08.987Z"
   },
   {
    "duration": 19,
    "start_time": "2025-03-27T12:01:37.638Z"
   },
   {
    "duration": 115,
    "start_time": "2025-03-27T12:01:39.983Z"
   },
   {
    "duration": 171,
    "start_time": "2025-03-27T12:02:02.937Z"
   },
   {
    "duration": 123,
    "start_time": "2025-03-27T12:02:08.414Z"
   },
   {
    "duration": 3,
    "start_time": "2025-03-27T12:02:12.927Z"
   },
   {
    "duration": 152,
    "start_time": "2025-03-27T12:02:12.931Z"
   },
   {
    "duration": 7,
    "start_time": "2025-03-27T12:02:13.085Z"
   },
   {
    "duration": 112,
    "start_time": "2025-03-27T12:02:13.094Z"
   },
   {
    "duration": 10,
    "start_time": "2025-03-27T12:02:13.208Z"
   },
   {
    "duration": 19,
    "start_time": "2025-03-27T12:02:13.220Z"
   },
   {
    "duration": 196,
    "start_time": "2025-03-27T12:02:13.240Z"
   },
   {
    "duration": 8,
    "start_time": "2025-03-27T12:02:13.437Z"
   },
   {
    "duration": 7,
    "start_time": "2025-03-27T12:02:13.446Z"
   },
   {
    "duration": 16,
    "start_time": "2025-03-27T12:02:13.454Z"
   },
   {
    "duration": 15,
    "start_time": "2025-03-27T12:02:13.472Z"
   },
   {
    "duration": 103,
    "start_time": "2025-03-27T12:02:13.488Z"
   },
   {
    "duration": 6,
    "start_time": "2025-03-27T12:02:13.594Z"
   },
   {
    "duration": 59,
    "start_time": "2025-03-27T12:02:13.602Z"
   },
   {
    "duration": 20,
    "start_time": "2025-03-27T12:02:13.662Z"
   },
   {
    "duration": 91,
    "start_time": "2025-03-27T12:02:13.684Z"
   },
   {
    "duration": 9,
    "start_time": "2025-03-27T12:02:13.777Z"
   },
   {
    "duration": 61,
    "start_time": "2025-03-27T12:02:13.788Z"
   },
   {
    "duration": 4,
    "start_time": "2025-03-27T12:02:13.850Z"
   },
   {
    "duration": 24,
    "start_time": "2025-03-27T12:02:13.856Z"
   },
   {
    "duration": 10,
    "start_time": "2025-03-27T12:02:13.881Z"
   },
   {
    "duration": 10,
    "start_time": "2025-03-27T12:02:13.892Z"
   },
   {
    "duration": 15,
    "start_time": "2025-03-27T12:02:13.903Z"
   },
   {
    "duration": 10,
    "start_time": "2025-03-27T12:02:13.919Z"
   },
   {
    "duration": 21,
    "start_time": "2025-03-27T12:02:13.930Z"
   },
   {
    "duration": 9,
    "start_time": "2025-03-27T12:02:13.953Z"
   },
   {
    "duration": 7,
    "start_time": "2025-03-27T12:02:13.964Z"
   },
   {
    "duration": 4,
    "start_time": "2025-03-27T12:02:13.972Z"
   },
   {
    "duration": 17,
    "start_time": "2025-03-27T12:02:13.977Z"
   },
   {
    "duration": 12,
    "start_time": "2025-03-27T12:02:13.996Z"
   },
   {
    "duration": 17,
    "start_time": "2025-03-27T12:02:14.010Z"
   },
   {
    "duration": 13,
    "start_time": "2025-03-27T12:02:14.028Z"
   },
   {
    "duration": 141,
    "start_time": "2025-03-27T12:02:14.043Z"
   },
   {
    "duration": 8,
    "start_time": "2025-03-27T12:02:14.186Z"
   },
   {
    "duration": 242,
    "start_time": "2025-03-27T12:02:14.195Z"
   },
   {
    "duration": 8,
    "start_time": "2025-03-27T12:02:14.438Z"
   },
   {
    "duration": 14,
    "start_time": "2025-03-27T12:02:14.449Z"
   },
   {
    "duration": 88,
    "start_time": "2025-03-27T12:02:14.464Z"
   },
   {
    "duration": 78,
    "start_time": "2025-03-27T12:02:14.554Z"
   },
   {
    "duration": 165,
    "start_time": "2025-03-27T12:02:14.633Z"
   },
   {
    "duration": 8,
    "start_time": "2025-03-27T12:02:14.803Z"
   },
   {
    "duration": 12,
    "start_time": "2025-03-27T12:02:14.813Z"
   },
   {
    "duration": 151,
    "start_time": "2025-03-27T12:02:14.826Z"
   },
   {
    "duration": 172,
    "start_time": "2025-03-27T12:02:14.979Z"
   },
   {
    "duration": 13,
    "start_time": "2025-03-27T12:02:15.153Z"
   },
   {
    "duration": 184,
    "start_time": "2025-03-27T12:02:15.167Z"
   },
   {
    "duration": 188,
    "start_time": "2025-03-27T12:02:15.353Z"
   },
   {
    "duration": 9,
    "start_time": "2025-03-27T12:02:15.543Z"
   },
   {
    "duration": 92,
    "start_time": "2025-03-27T12:02:15.553Z"
   },
   {
    "duration": 31,
    "start_time": "2025-03-27T12:02:15.647Z"
   },
   {
    "duration": 12,
    "start_time": "2025-03-27T12:02:15.679Z"
   },
   {
    "duration": 298,
    "start_time": "2025-03-27T12:02:15.693Z"
   },
   {
    "duration": 19,
    "start_time": "2025-03-27T12:02:15.992Z"
   },
   {
    "duration": 212,
    "start_time": "2025-03-27T12:02:16.012Z"
   },
   {
    "duration": 167,
    "start_time": "2025-03-27T12:02:16.225Z"
   },
   {
    "duration": 21,
    "start_time": "2025-03-27T12:02:16.393Z"
   },
   {
    "duration": 0,
    "start_time": "2025-03-27T12:02:16.416Z"
   },
   {
    "duration": 0,
    "start_time": "2025-03-27T12:02:16.417Z"
   },
   {
    "duration": 0,
    "start_time": "2025-03-27T12:02:16.418Z"
   },
   {
    "duration": 0,
    "start_time": "2025-03-27T12:02:16.419Z"
   },
   {
    "duration": 0,
    "start_time": "2025-03-27T12:02:16.420Z"
   },
   {
    "duration": 0,
    "start_time": "2025-03-27T12:02:16.421Z"
   },
   {
    "duration": 0,
    "start_time": "2025-03-27T12:02:16.422Z"
   },
   {
    "duration": 0,
    "start_time": "2025-03-27T12:02:16.423Z"
   },
   {
    "duration": 0,
    "start_time": "2025-03-27T12:02:16.424Z"
   },
   {
    "duration": 0,
    "start_time": "2025-03-27T12:02:16.425Z"
   },
   {
    "duration": 0,
    "start_time": "2025-03-27T12:02:16.426Z"
   },
   {
    "duration": 0,
    "start_time": "2025-03-27T12:02:16.427Z"
   },
   {
    "duration": 0,
    "start_time": "2025-03-27T12:02:16.428Z"
   },
   {
    "duration": 0,
    "start_time": "2025-03-27T12:02:16.429Z"
   },
   {
    "duration": 0,
    "start_time": "2025-03-27T12:02:16.430Z"
   },
   {
    "duration": 0,
    "start_time": "2025-03-27T12:02:16.431Z"
   },
   {
    "duration": 0,
    "start_time": "2025-03-27T12:02:16.432Z"
   },
   {
    "duration": 0,
    "start_time": "2025-03-27T12:02:16.433Z"
   },
   {
    "duration": 0,
    "start_time": "2025-03-27T12:02:16.434Z"
   },
   {
    "duration": 0,
    "start_time": "2025-03-27T12:02:16.435Z"
   },
   {
    "duration": 0,
    "start_time": "2025-03-27T12:02:16.435Z"
   },
   {
    "duration": 0,
    "start_time": "2025-03-27T12:02:16.436Z"
   },
   {
    "duration": 0,
    "start_time": "2025-03-27T12:02:16.437Z"
   },
   {
    "duration": 0,
    "start_time": "2025-03-27T12:02:16.439Z"
   },
   {
    "duration": 0,
    "start_time": "2025-03-27T12:02:16.439Z"
   },
   {
    "duration": 170,
    "start_time": "2025-03-27T12:04:03.881Z"
   },
   {
    "duration": 3,
    "start_time": "2025-03-27T12:04:14.150Z"
   },
   {
    "duration": 187,
    "start_time": "2025-03-27T12:04:14.154Z"
   },
   {
    "duration": 10,
    "start_time": "2025-03-27T12:04:14.343Z"
   },
   {
    "duration": 94,
    "start_time": "2025-03-27T12:04:14.355Z"
   },
   {
    "duration": 17,
    "start_time": "2025-03-27T12:04:14.451Z"
   },
   {
    "duration": 24,
    "start_time": "2025-03-27T12:04:14.469Z"
   },
   {
    "duration": 103,
    "start_time": "2025-03-27T12:04:14.494Z"
   },
   {
    "duration": 8,
    "start_time": "2025-03-27T12:04:14.598Z"
   },
   {
    "duration": 17,
    "start_time": "2025-03-27T12:04:14.608Z"
   },
   {
    "duration": 20,
    "start_time": "2025-03-27T12:04:14.626Z"
   },
   {
    "duration": 31,
    "start_time": "2025-03-27T12:04:14.647Z"
   },
   {
    "duration": 113,
    "start_time": "2025-03-27T12:04:14.679Z"
   },
   {
    "duration": 7,
    "start_time": "2025-03-27T12:04:14.794Z"
   },
   {
    "duration": 36,
    "start_time": "2025-03-27T12:04:14.802Z"
   },
   {
    "duration": 23,
    "start_time": "2025-03-27T12:04:14.839Z"
   },
   {
    "duration": 9,
    "start_time": "2025-03-27T12:04:14.863Z"
   },
   {
    "duration": 14,
    "start_time": "2025-03-27T12:04:14.873Z"
   },
   {
    "duration": 20,
    "start_time": "2025-03-27T12:04:14.888Z"
   },
   {
    "duration": 5,
    "start_time": "2025-03-27T12:04:14.909Z"
   },
   {
    "duration": 8,
    "start_time": "2025-03-27T12:04:14.915Z"
   },
   {
    "duration": 14,
    "start_time": "2025-03-27T12:04:14.924Z"
   },
   {
    "duration": 22,
    "start_time": "2025-03-27T12:04:14.940Z"
   },
   {
    "duration": 16,
    "start_time": "2025-03-27T12:04:14.963Z"
   },
   {
    "duration": 19,
    "start_time": "2025-03-27T12:04:14.983Z"
   },
   {
    "duration": 38,
    "start_time": "2025-03-27T12:04:15.004Z"
   },
   {
    "duration": 47,
    "start_time": "2025-03-27T12:04:15.043Z"
   },
   {
    "duration": 50,
    "start_time": "2025-03-27T12:04:15.091Z"
   },
   {
    "duration": 169,
    "start_time": "2025-03-27T12:04:15.142Z"
   },
   {
    "duration": 35,
    "start_time": "2025-03-27T12:04:15.313Z"
   },
   {
    "duration": 60,
    "start_time": "2025-03-27T12:04:15.349Z"
   },
   {
    "duration": 39,
    "start_time": "2025-03-27T12:04:15.411Z"
   },
   {
    "duration": 20,
    "start_time": "2025-03-27T12:04:15.452Z"
   },
   {
    "duration": 144,
    "start_time": "2025-03-27T12:04:15.473Z"
   },
   {
    "duration": 9,
    "start_time": "2025-03-27T12:04:15.618Z"
   },
   {
    "duration": 198,
    "start_time": "2025-03-27T12:04:15.628Z"
   },
   {
    "duration": 8,
    "start_time": "2025-03-27T12:04:15.827Z"
   },
   {
    "duration": 23,
    "start_time": "2025-03-27T12:04:15.836Z"
   },
   {
    "duration": 82,
    "start_time": "2025-03-27T12:04:15.861Z"
   },
   {
    "duration": 79,
    "start_time": "2025-03-27T12:04:15.944Z"
   },
   {
    "duration": 173,
    "start_time": "2025-03-27T12:04:16.025Z"
   },
   {
    "duration": 9,
    "start_time": "2025-03-27T12:04:16.200Z"
   },
   {
    "duration": 242,
    "start_time": "2025-03-27T12:04:16.210Z"
   },
   {
    "duration": 183,
    "start_time": "2025-03-27T12:04:16.454Z"
   },
   {
    "duration": 189,
    "start_time": "2025-03-27T12:04:16.639Z"
   },
   {
    "duration": 13,
    "start_time": "2025-03-27T12:04:16.830Z"
   },
   {
    "duration": 155,
    "start_time": "2025-03-27T12:04:16.845Z"
   },
   {
    "duration": 180,
    "start_time": "2025-03-27T12:04:17.004Z"
   },
   {
    "duration": 10,
    "start_time": "2025-03-27T12:04:17.185Z"
   },
   {
    "duration": 64,
    "start_time": "2025-03-27T12:04:17.204Z"
   },
   {
    "duration": 18,
    "start_time": "2025-03-27T12:04:17.270Z"
   },
   {
    "duration": 34,
    "start_time": "2025-03-27T12:04:17.290Z"
   },
   {
    "duration": 133,
    "start_time": "2025-03-27T12:04:17.326Z"
   },
   {
    "duration": 21,
    "start_time": "2025-03-27T12:04:17.461Z"
   },
   {
    "duration": 308,
    "start_time": "2025-03-27T12:04:17.484Z"
   },
   {
    "duration": 138,
    "start_time": "2025-03-27T12:04:17.793Z"
   },
   {
    "duration": 180,
    "start_time": "2025-03-27T12:04:17.932Z"
   },
   {
    "duration": 12,
    "start_time": "2025-03-27T12:04:18.113Z"
   },
   {
    "duration": 33,
    "start_time": "2025-03-27T12:04:18.126Z"
   },
   {
    "duration": 4,
    "start_time": "2025-03-27T12:04:18.160Z"
   },
   {
    "duration": 15,
    "start_time": "2025-03-27T12:04:18.165Z"
   },
   {
    "duration": 71,
    "start_time": "2025-03-27T12:04:18.203Z"
   },
   {
    "duration": 8,
    "start_time": "2025-03-27T12:04:18.276Z"
   },
   {
    "duration": 4,
    "start_time": "2025-03-27T12:04:18.286Z"
   },
   {
    "duration": 4,
    "start_time": "2025-03-27T12:04:18.292Z"
   },
   {
    "duration": 4,
    "start_time": "2025-03-27T12:04:18.298Z"
   },
   {
    "duration": 5,
    "start_time": "2025-03-27T12:04:18.304Z"
   },
   {
    "duration": 5,
    "start_time": "2025-03-27T12:04:18.311Z"
   },
   {
    "duration": 4,
    "start_time": "2025-03-27T12:04:18.318Z"
   },
   {
    "duration": 92,
    "start_time": "2025-03-27T12:04:18.328Z"
   },
   {
    "duration": 18,
    "start_time": "2025-03-27T12:04:18.422Z"
   },
   {
    "duration": 6,
    "start_time": "2025-03-27T12:04:18.441Z"
   },
   {
    "duration": 6,
    "start_time": "2025-03-27T12:04:18.448Z"
   },
   {
    "duration": 4,
    "start_time": "2025-03-27T12:04:18.456Z"
   },
   {
    "duration": 2,
    "start_time": "2025-03-27T12:04:18.462Z"
   },
   {
    "duration": 4,
    "start_time": "2025-03-27T12:04:18.465Z"
   },
   {
    "duration": 9,
    "start_time": "2025-03-27T12:04:18.470Z"
   },
   {
    "duration": 5,
    "start_time": "2025-03-27T12:04:18.480Z"
   },
   {
    "duration": 4,
    "start_time": "2025-03-27T12:04:18.487Z"
   },
   {
    "duration": 9,
    "start_time": "2025-03-27T12:04:18.492Z"
   },
   {
    "duration": 3,
    "start_time": "2025-03-27T12:04:18.503Z"
   },
   {
    "duration": 6,
    "start_time": "2025-03-27T12:04:18.507Z"
   },
   {
    "duration": 3,
    "start_time": "2025-03-27T12:05:09.917Z"
   },
   {
    "duration": 131,
    "start_time": "2025-03-27T12:05:09.922Z"
   },
   {
    "duration": 8,
    "start_time": "2025-03-27T12:05:10.054Z"
   },
   {
    "duration": 26,
    "start_time": "2025-03-27T12:05:10.063Z"
   },
   {
    "duration": 10,
    "start_time": "2025-03-27T12:05:10.091Z"
   },
   {
    "duration": 20,
    "start_time": "2025-03-27T12:05:10.102Z"
   },
   {
    "duration": 161,
    "start_time": "2025-03-27T12:05:10.123Z"
   },
   {
    "duration": 8,
    "start_time": "2025-03-27T12:05:10.285Z"
   },
   {
    "duration": 26,
    "start_time": "2025-03-27T12:05:10.295Z"
   },
   {
    "duration": 12,
    "start_time": "2025-03-27T12:05:10.322Z"
   },
   {
    "duration": 101,
    "start_time": "2025-03-27T12:05:10.336Z"
   },
   {
    "duration": 505,
    "start_time": "2025-03-27T12:05:10.439Z"
   },
   {
    "duration": 7,
    "start_time": "2025-03-27T12:05:10.946Z"
   },
   {
    "duration": 4,
    "start_time": "2025-03-27T12:05:10.955Z"
   },
   {
    "duration": 14,
    "start_time": "2025-03-27T12:05:10.960Z"
   },
   {
    "duration": 15,
    "start_time": "2025-03-27T12:05:10.976Z"
   },
   {
    "duration": 18,
    "start_time": "2025-03-27T12:05:10.992Z"
   },
   {
    "duration": 25,
    "start_time": "2025-03-27T12:05:11.011Z"
   },
   {
    "duration": 4,
    "start_time": "2025-03-27T12:05:11.037Z"
   },
   {
    "duration": 13,
    "start_time": "2025-03-27T12:05:11.043Z"
   },
   {
    "duration": 11,
    "start_time": "2025-03-27T12:05:11.057Z"
   },
   {
    "duration": 9,
    "start_time": "2025-03-27T12:05:11.069Z"
   },
   {
    "duration": 119,
    "start_time": "2025-03-27T12:05:11.080Z"
   },
   {
    "duration": 8,
    "start_time": "2025-03-27T12:05:11.200Z"
   },
   {
    "duration": 5,
    "start_time": "2025-03-27T12:05:11.209Z"
   },
   {
    "duration": 9,
    "start_time": "2025-03-27T12:05:11.216Z"
   },
   {
    "duration": 7,
    "start_time": "2025-03-27T12:05:11.226Z"
   },
   {
    "duration": 13,
    "start_time": "2025-03-27T12:05:11.234Z"
   },
   {
    "duration": 17,
    "start_time": "2025-03-27T12:05:11.248Z"
   },
   {
    "duration": 46,
    "start_time": "2025-03-27T12:05:11.267Z"
   },
   {
    "duration": 6,
    "start_time": "2025-03-27T12:05:11.315Z"
   },
   {
    "duration": 10,
    "start_time": "2025-03-27T12:05:11.323Z"
   },
   {
    "duration": 141,
    "start_time": "2025-03-27T12:05:11.334Z"
   },
   {
    "duration": 9,
    "start_time": "2025-03-27T12:05:11.476Z"
   },
   {
    "duration": 155,
    "start_time": "2025-03-27T12:05:11.487Z"
   },
   {
    "duration": 9,
    "start_time": "2025-03-27T12:05:11.644Z"
   },
   {
    "duration": 31,
    "start_time": "2025-03-27T12:05:11.655Z"
   },
   {
    "duration": 142,
    "start_time": "2025-03-27T12:05:11.688Z"
   },
   {
    "duration": 80,
    "start_time": "2025-03-27T12:05:11.832Z"
   },
   {
    "duration": 168,
    "start_time": "2025-03-27T12:05:11.914Z"
   },
   {
    "duration": 8,
    "start_time": "2025-03-27T12:05:12.087Z"
   },
   {
    "duration": 37,
    "start_time": "2025-03-27T12:05:12.104Z"
   },
   {
    "duration": 138,
    "start_time": "2025-03-27T12:05:12.143Z"
   },
   {
    "duration": 176,
    "start_time": "2025-03-27T12:05:12.283Z"
   },
   {
    "duration": 12,
    "start_time": "2025-03-27T12:05:12.461Z"
   },
   {
    "duration": 140,
    "start_time": "2025-03-27T12:05:12.475Z"
   },
   {
    "duration": 189,
    "start_time": "2025-03-27T12:05:12.617Z"
   },
   {
    "duration": 10,
    "start_time": "2025-03-27T12:05:12.807Z"
   },
   {
    "duration": 27,
    "start_time": "2025-03-27T12:05:12.819Z"
   },
   {
    "duration": 21,
    "start_time": "2025-03-27T12:05:12.847Z"
   },
   {
    "duration": 13,
    "start_time": "2025-03-27T12:05:12.870Z"
   },
   {
    "duration": 131,
    "start_time": "2025-03-27T12:05:12.904Z"
   },
   {
    "duration": 21,
    "start_time": "2025-03-27T12:05:13.036Z"
   },
   {
    "duration": 180,
    "start_time": "2025-03-27T12:05:13.058Z"
   },
   {
    "duration": 137,
    "start_time": "2025-03-27T12:05:13.239Z"
   },
   {
    "duration": 178,
    "start_time": "2025-03-27T12:05:13.377Z"
   },
   {
    "duration": 12,
    "start_time": "2025-03-27T12:05:13.556Z"
   },
   {
    "duration": 96,
    "start_time": "2025-03-27T12:05:13.570Z"
   },
   {
    "duration": 4,
    "start_time": "2025-03-27T12:05:13.667Z"
   },
   {
    "duration": 14,
    "start_time": "2025-03-27T12:05:13.673Z"
   },
   {
    "duration": 77,
    "start_time": "2025-03-27T12:05:13.688Z"
   },
   {
    "duration": 14,
    "start_time": "2025-03-27T12:05:13.766Z"
   },
   {
    "duration": 7,
    "start_time": "2025-03-27T12:05:13.782Z"
   },
   {
    "duration": 5,
    "start_time": "2025-03-27T12:05:13.790Z"
   },
   {
    "duration": 6,
    "start_time": "2025-03-27T12:05:13.796Z"
   },
   {
    "duration": 4,
    "start_time": "2025-03-27T12:05:13.803Z"
   },
   {
    "duration": 6,
    "start_time": "2025-03-27T12:05:13.808Z"
   },
   {
    "duration": 7,
    "start_time": "2025-03-27T12:05:13.816Z"
   },
   {
    "duration": 5,
    "start_time": "2025-03-27T12:05:13.824Z"
   },
   {
    "duration": 22,
    "start_time": "2025-03-27T12:05:13.830Z"
   },
   {
    "duration": 136,
    "start_time": "2025-03-27T12:05:13.854Z"
   },
   {
    "duration": 13,
    "start_time": "2025-03-27T12:05:13.992Z"
   },
   {
    "duration": 26,
    "start_time": "2025-03-27T12:05:14.006Z"
   },
   {
    "duration": 3,
    "start_time": "2025-03-27T12:05:14.033Z"
   },
   {
    "duration": 5,
    "start_time": "2025-03-27T12:05:14.037Z"
   },
   {
    "duration": 20,
    "start_time": "2025-03-27T12:05:14.043Z"
   },
   {
    "duration": 11,
    "start_time": "2025-03-27T12:05:14.064Z"
   },
   {
    "duration": 4,
    "start_time": "2025-03-27T12:05:14.076Z"
   },
   {
    "duration": 10,
    "start_time": "2025-03-27T12:05:14.082Z"
   },
   {
    "duration": 24,
    "start_time": "2025-03-27T12:05:14.094Z"
   },
   {
    "duration": 6,
    "start_time": "2025-03-27T12:05:14.119Z"
   },
   {
    "duration": 1286,
    "start_time": "2025-03-27T13:03:49.515Z"
   },
   {
    "duration": 52,
    "start_time": "2025-03-27T13:03:50.803Z"
   },
   {
    "duration": 12,
    "start_time": "2025-03-27T13:03:50.857Z"
   },
   {
    "duration": 3,
    "start_time": "2025-03-27T13:03:50.871Z"
   },
   {
    "duration": 11,
    "start_time": "2025-03-27T13:03:50.876Z"
   },
   {
    "duration": 27,
    "start_time": "2025-03-27T13:03:50.888Z"
   },
   {
    "duration": 67,
    "start_time": "2025-03-27T13:03:50.917Z"
   },
   {
    "duration": 8,
    "start_time": "2025-03-27T13:03:50.985Z"
   },
   {
    "duration": 14,
    "start_time": "2025-03-27T13:03:50.995Z"
   },
   {
    "duration": 30,
    "start_time": "2025-03-27T13:03:51.011Z"
   },
   {
    "duration": 20,
    "start_time": "2025-03-27T13:03:51.043Z"
   },
   {
    "duration": 34,
    "start_time": "2025-03-27T13:03:51.065Z"
   },
   {
    "duration": 6,
    "start_time": "2025-03-27T13:03:51.101Z"
   },
   {
    "duration": 5,
    "start_time": "2025-03-27T13:03:51.108Z"
   },
   {
    "duration": 9,
    "start_time": "2025-03-27T13:03:51.115Z"
   },
   {
    "duration": 6,
    "start_time": "2025-03-27T13:03:51.125Z"
   },
   {
    "duration": 12,
    "start_time": "2025-03-27T13:03:51.133Z"
   },
   {
    "duration": 29,
    "start_time": "2025-03-27T13:03:51.147Z"
   },
   {
    "duration": 23,
    "start_time": "2025-03-27T13:03:51.177Z"
   },
   {
    "duration": 9,
    "start_time": "2025-03-27T13:03:51.202Z"
   },
   {
    "duration": 11,
    "start_time": "2025-03-27T13:03:51.212Z"
   },
   {
    "duration": 5,
    "start_time": "2025-03-27T13:03:51.225Z"
   },
   {
    "duration": 7,
    "start_time": "2025-03-27T13:03:51.231Z"
   },
   {
    "duration": 15,
    "start_time": "2025-03-27T13:03:51.239Z"
   },
   {
    "duration": 18,
    "start_time": "2025-03-27T13:03:51.256Z"
   },
   {
    "duration": 6,
    "start_time": "2025-03-27T13:03:51.275Z"
   },
   {
    "duration": 5,
    "start_time": "2025-03-27T13:03:51.283Z"
   },
   {
    "duration": 4,
    "start_time": "2025-03-27T13:03:51.292Z"
   },
   {
    "duration": 6,
    "start_time": "2025-03-27T13:03:51.298Z"
   },
   {
    "duration": 8,
    "start_time": "2025-03-27T13:03:51.305Z"
   },
   {
    "duration": 6,
    "start_time": "2025-03-27T13:03:51.315Z"
   },
   {
    "duration": 5,
    "start_time": "2025-03-27T13:03:51.323Z"
   },
   {
    "duration": 185,
    "start_time": "2025-03-27T13:03:51.330Z"
   },
   {
    "duration": 10,
    "start_time": "2025-03-27T13:03:51.517Z"
   },
   {
    "duration": 180,
    "start_time": "2025-03-27T13:03:51.528Z"
   },
   {
    "duration": 9,
    "start_time": "2025-03-27T13:03:51.710Z"
   },
   {
    "duration": 20,
    "start_time": "2025-03-27T13:03:51.720Z"
   },
   {
    "duration": 92,
    "start_time": "2025-03-27T13:03:51.742Z"
   },
   {
    "duration": 89,
    "start_time": "2025-03-27T13:03:51.836Z"
   },
   {
    "duration": 187,
    "start_time": "2025-03-27T13:03:51.926Z"
   },
   {
    "duration": 9,
    "start_time": "2025-03-27T13:03:52.114Z"
   },
   {
    "duration": 16,
    "start_time": "2025-03-27T13:03:52.125Z"
   },
   {
    "duration": 196,
    "start_time": "2025-03-27T13:03:52.142Z"
   },
   {
    "duration": 184,
    "start_time": "2025-03-27T13:03:52.339Z"
   },
   {
    "duration": 13,
    "start_time": "2025-03-27T13:03:52.524Z"
   },
   {
    "duration": 152,
    "start_time": "2025-03-27T13:03:52.539Z"
   },
   {
    "duration": 260,
    "start_time": "2025-03-27T13:03:52.693Z"
   },
   {
    "duration": 18,
    "start_time": "2025-03-27T13:03:52.954Z"
   },
   {
    "duration": 18,
    "start_time": "2025-03-27T13:03:52.973Z"
   },
   {
    "duration": 18,
    "start_time": "2025-03-27T13:03:52.992Z"
   },
   {
    "duration": 13,
    "start_time": "2025-03-27T13:03:53.012Z"
   },
   {
    "duration": 161,
    "start_time": "2025-03-27T13:03:53.026Z"
   },
   {
    "duration": 22,
    "start_time": "2025-03-27T13:03:53.189Z"
   },
   {
    "duration": 201,
    "start_time": "2025-03-27T13:03:53.212Z"
   },
   {
    "duration": 147,
    "start_time": "2025-03-27T13:03:53.414Z"
   },
   {
    "duration": 189,
    "start_time": "2025-03-27T13:03:53.562Z"
   },
   {
    "duration": 17,
    "start_time": "2025-03-27T13:03:53.752Z"
   },
   {
    "duration": 32,
    "start_time": "2025-03-27T13:03:53.771Z"
   },
   {
    "duration": 3,
    "start_time": "2025-03-27T13:03:53.804Z"
   },
   {
    "duration": 16,
    "start_time": "2025-03-27T13:03:53.809Z"
   },
   {
    "duration": 4,
    "start_time": "2025-03-27T13:03:53.826Z"
   },
   {
    "duration": 5,
    "start_time": "2025-03-27T13:03:53.832Z"
   },
   {
    "duration": 29,
    "start_time": "2025-03-27T13:03:53.839Z"
   },
   {
    "duration": 5,
    "start_time": "2025-03-27T13:03:53.870Z"
   },
   {
    "duration": 90,
    "start_time": "2025-03-27T13:03:53.876Z"
   },
   {
    "duration": 9,
    "start_time": "2025-03-27T13:03:53.968Z"
   },
   {
    "duration": 7,
    "start_time": "2025-03-27T13:03:53.978Z"
   },
   {
    "duration": 10,
    "start_time": "2025-03-27T13:03:53.986Z"
   },
   {
    "duration": 4,
    "start_time": "2025-03-27T13:03:53.997Z"
   },
   {
    "duration": 4,
    "start_time": "2025-03-27T13:03:54.002Z"
   },
   {
    "duration": 4,
    "start_time": "2025-03-27T13:03:54.007Z"
   },
   {
    "duration": 10,
    "start_time": "2025-03-27T13:03:54.013Z"
   },
   {
    "duration": 9,
    "start_time": "2025-03-27T13:03:54.024Z"
   },
   {
    "duration": 13,
    "start_time": "2025-03-27T13:03:54.035Z"
   },
   {
    "duration": 18,
    "start_time": "2025-03-27T13:03:54.049Z"
   },
   {
    "duration": 13,
    "start_time": "2025-03-27T13:03:54.068Z"
   },
   {
    "duration": 6,
    "start_time": "2025-03-27T13:03:54.083Z"
   },
   {
    "duration": 4,
    "start_time": "2025-03-27T13:03:54.090Z"
   },
   {
    "duration": 5,
    "start_time": "2025-03-27T13:03:54.096Z"
   },
   {
    "duration": 13,
    "start_time": "2025-03-27T13:03:54.103Z"
   },
   {
    "duration": 5,
    "start_time": "2025-03-27T13:03:54.118Z"
   },
   {
    "duration": 18,
    "start_time": "2025-03-27T13:09:44.750Z"
   },
   {
    "duration": 5,
    "start_time": "2025-03-27T13:13:56.110Z"
   },
   {
    "duration": 1166,
    "start_time": "2025-03-27T13:20:41.811Z"
   },
   {
    "duration": 37,
    "start_time": "2025-03-27T13:20:42.979Z"
   },
   {
    "duration": 12,
    "start_time": "2025-03-27T13:20:43.017Z"
   },
   {
    "duration": 4,
    "start_time": "2025-03-27T13:20:43.031Z"
   },
   {
    "duration": 11,
    "start_time": "2025-03-27T13:20:43.037Z"
   },
   {
    "duration": 31,
    "start_time": "2025-03-27T13:20:43.050Z"
   },
   {
    "duration": 59,
    "start_time": "2025-03-27T13:20:43.082Z"
   },
   {
    "duration": 8,
    "start_time": "2025-03-27T13:20:43.142Z"
   },
   {
    "duration": 7,
    "start_time": "2025-03-27T13:20:43.151Z"
   },
   {
    "duration": 11,
    "start_time": "2025-03-27T13:20:43.160Z"
   },
   {
    "duration": 24,
    "start_time": "2025-03-27T13:20:43.172Z"
   },
   {
    "duration": 59,
    "start_time": "2025-03-27T13:20:43.197Z"
   },
   {
    "duration": 7,
    "start_time": "2025-03-27T13:20:43.257Z"
   },
   {
    "duration": 8,
    "start_time": "2025-03-27T13:20:43.266Z"
   },
   {
    "duration": 32,
    "start_time": "2025-03-27T13:20:43.275Z"
   },
   {
    "duration": 6,
    "start_time": "2025-03-27T13:20:43.309Z"
   },
   {
    "duration": 9,
    "start_time": "2025-03-27T13:20:43.317Z"
   },
   {
    "duration": 20,
    "start_time": "2025-03-27T13:20:43.327Z"
   },
   {
    "duration": 4,
    "start_time": "2025-03-27T13:20:43.348Z"
   },
   {
    "duration": 18,
    "start_time": "2025-03-27T13:20:43.353Z"
   },
   {
    "duration": 13,
    "start_time": "2025-03-27T13:20:43.373Z"
   },
   {
    "duration": 5,
    "start_time": "2025-03-27T13:20:43.387Z"
   },
   {
    "duration": 18,
    "start_time": "2025-03-27T13:20:43.393Z"
   },
   {
    "duration": 7,
    "start_time": "2025-03-27T13:20:43.412Z"
   },
   {
    "duration": 4,
    "start_time": "2025-03-27T13:20:43.421Z"
   },
   {
    "duration": 24,
    "start_time": "2025-03-27T13:20:43.427Z"
   },
   {
    "duration": 24,
    "start_time": "2025-03-27T13:20:43.452Z"
   },
   {
    "duration": 5,
    "start_time": "2025-03-27T13:20:43.479Z"
   },
   {
    "duration": 4,
    "start_time": "2025-03-27T13:20:43.485Z"
   },
   {
    "duration": 5,
    "start_time": "2025-03-27T13:20:43.490Z"
   },
   {
    "duration": 7,
    "start_time": "2025-03-27T13:20:43.496Z"
   },
   {
    "duration": 5,
    "start_time": "2025-03-27T13:20:43.504Z"
   },
   {
    "duration": 183,
    "start_time": "2025-03-27T13:20:43.510Z"
   },
   {
    "duration": 9,
    "start_time": "2025-03-27T13:20:43.695Z"
   },
   {
    "duration": 176,
    "start_time": "2025-03-27T13:20:43.705Z"
   },
   {
    "duration": 8,
    "start_time": "2025-03-27T13:20:43.882Z"
   },
   {
    "duration": 15,
    "start_time": "2025-03-27T13:20:43.892Z"
   },
   {
    "duration": 102,
    "start_time": "2025-03-27T13:20:43.908Z"
   },
   {
    "duration": 85,
    "start_time": "2025-03-27T13:20:44.011Z"
   },
   {
    "duration": 176,
    "start_time": "2025-03-27T13:20:44.097Z"
   },
   {
    "duration": 9,
    "start_time": "2025-03-27T13:20:44.275Z"
   },
   {
    "duration": 18,
    "start_time": "2025-03-27T13:20:44.285Z"
   },
   {
    "duration": 171,
    "start_time": "2025-03-27T13:20:44.305Z"
   },
   {
    "duration": 190,
    "start_time": "2025-03-27T13:20:44.478Z"
   },
   {
    "duration": 14,
    "start_time": "2025-03-27T13:20:44.670Z"
   },
   {
    "duration": 153,
    "start_time": "2025-03-27T13:20:44.686Z"
   },
   {
    "duration": 265,
    "start_time": "2025-03-27T13:20:44.841Z"
   },
   {
    "duration": 10,
    "start_time": "2025-03-27T13:20:45.108Z"
   },
   {
    "duration": 23,
    "start_time": "2025-03-27T13:20:45.119Z"
   },
   {
    "duration": 34,
    "start_time": "2025-03-27T13:20:45.144Z"
   },
   {
    "duration": 15,
    "start_time": "2025-03-27T13:20:45.180Z"
   },
   {
    "duration": 181,
    "start_time": "2025-03-27T13:20:45.197Z"
   },
   {
    "duration": 22,
    "start_time": "2025-03-27T13:20:45.380Z"
   },
   {
    "duration": 196,
    "start_time": "2025-03-27T13:20:45.404Z"
   },
   {
    "duration": 153,
    "start_time": "2025-03-27T13:20:45.602Z"
   },
   {
    "duration": 209,
    "start_time": "2025-03-27T13:20:45.757Z"
   },
   {
    "duration": 14,
    "start_time": "2025-03-27T13:20:45.968Z"
   },
   {
    "duration": 68,
    "start_time": "2025-03-27T13:20:45.984Z"
   },
   {
    "duration": 4,
    "start_time": "2025-03-27T13:20:46.054Z"
   },
   {
    "duration": 24,
    "start_time": "2025-03-27T13:20:46.060Z"
   },
   {
    "duration": 13,
    "start_time": "2025-03-27T13:20:46.086Z"
   },
   {
    "duration": 7,
    "start_time": "2025-03-27T13:20:46.100Z"
   },
   {
    "duration": 5,
    "start_time": "2025-03-27T13:20:46.109Z"
   },
   {
    "duration": 5,
    "start_time": "2025-03-27T13:20:46.116Z"
   },
   {
    "duration": 5,
    "start_time": "2025-03-27T13:20:46.122Z"
   },
   {
    "duration": 3,
    "start_time": "2025-03-27T13:20:46.128Z"
   },
   {
    "duration": 5,
    "start_time": "2025-03-27T13:20:46.133Z"
   },
   {
    "duration": 4,
    "start_time": "2025-03-27T13:20:46.139Z"
   },
   {
    "duration": 2,
    "start_time": "2025-03-27T13:20:46.167Z"
   },
   {
    "duration": 5,
    "start_time": "2025-03-27T13:20:46.171Z"
   },
   {
    "duration": 15,
    "start_time": "2025-03-27T13:20:46.178Z"
   },
   {
    "duration": 7,
    "start_time": "2025-03-27T13:20:46.195Z"
   },
   {
    "duration": 9,
    "start_time": "2025-03-27T13:20:46.203Z"
   },
   {
    "duration": 19,
    "start_time": "2025-03-27T13:20:46.213Z"
   },
   {
    "duration": 3,
    "start_time": "2025-03-27T13:20:46.234Z"
   },
   {
    "duration": 9,
    "start_time": "2025-03-27T13:20:46.238Z"
   },
   {
    "duration": 8,
    "start_time": "2025-03-27T13:20:46.248Z"
   },
   {
    "duration": 22,
    "start_time": "2025-03-27T13:20:46.257Z"
   },
   {
    "duration": 5,
    "start_time": "2025-03-27T13:20:46.280Z"
   },
   {
    "duration": 4,
    "start_time": "2025-03-27T13:20:46.286Z"
   },
   {
    "duration": 12,
    "start_time": "2025-03-27T13:20:46.292Z"
   },
   {
    "duration": 89,
    "start_time": "2025-03-27T14:43:01.113Z"
   },
   {
    "duration": 43,
    "start_time": "2025-03-27T14:44:06.684Z"
   },
   {
    "duration": 1297,
    "start_time": "2025-03-27T14:44:16.203Z"
   },
   {
    "duration": 32,
    "start_time": "2025-03-27T14:44:17.502Z"
   },
   {
    "duration": 12,
    "start_time": "2025-03-27T14:44:17.536Z"
   },
   {
    "duration": 4,
    "start_time": "2025-03-27T14:44:17.551Z"
   },
   {
    "duration": 22,
    "start_time": "2025-03-27T14:44:17.557Z"
   },
   {
    "duration": 21,
    "start_time": "2025-03-27T14:44:17.581Z"
   },
   {
    "duration": 171,
    "start_time": "2025-03-27T14:44:17.603Z"
   },
   {
    "duration": 9,
    "start_time": "2025-03-27T14:44:17.776Z"
   },
   {
    "duration": 7,
    "start_time": "2025-03-27T14:44:17.787Z"
   },
   {
    "duration": 15,
    "start_time": "2025-03-27T14:44:17.796Z"
   },
   {
    "duration": 18,
    "start_time": "2025-03-27T14:44:17.813Z"
   },
   {
    "duration": 41,
    "start_time": "2025-03-27T14:44:17.832Z"
   },
   {
    "duration": 8,
    "start_time": "2025-03-27T14:44:17.875Z"
   },
   {
    "duration": 4,
    "start_time": "2025-03-27T14:44:17.884Z"
   },
   {
    "duration": 10,
    "start_time": "2025-03-27T14:44:17.889Z"
   },
   {
    "duration": 7,
    "start_time": "2025-03-27T14:44:17.900Z"
   },
   {
    "duration": 10,
    "start_time": "2025-03-27T14:44:17.909Z"
   },
   {
    "duration": 56,
    "start_time": "2025-03-27T14:44:17.920Z"
   },
   {
    "duration": 5,
    "start_time": "2025-03-27T14:44:17.977Z"
   },
   {
    "duration": 8,
    "start_time": "2025-03-27T14:44:17.983Z"
   },
   {
    "duration": 11,
    "start_time": "2025-03-27T14:44:17.993Z"
   },
   {
    "duration": 6,
    "start_time": "2025-03-27T14:44:18.005Z"
   },
   {
    "duration": 6,
    "start_time": "2025-03-27T14:44:18.012Z"
   },
   {
    "duration": 56,
    "start_time": "2025-03-27T14:44:18.020Z"
   },
   {
    "duration": 5,
    "start_time": "2025-03-27T14:44:18.077Z"
   },
   {
    "duration": 6,
    "start_time": "2025-03-27T14:44:18.084Z"
   },
   {
    "duration": 9,
    "start_time": "2025-03-27T14:44:18.091Z"
   },
   {
    "duration": 4,
    "start_time": "2025-03-27T14:44:18.104Z"
   },
   {
    "duration": 6,
    "start_time": "2025-03-27T14:44:18.109Z"
   },
   {
    "duration": 5,
    "start_time": "2025-03-27T14:44:18.116Z"
   },
   {
    "duration": 4,
    "start_time": "2025-03-27T14:44:18.123Z"
   },
   {
    "duration": 10,
    "start_time": "2025-03-27T14:44:18.128Z"
   },
   {
    "duration": 192,
    "start_time": "2025-03-27T14:44:18.139Z"
   },
   {
    "duration": 9,
    "start_time": "2025-03-27T14:44:18.333Z"
   },
   {
    "duration": 175,
    "start_time": "2025-03-27T14:44:18.343Z"
   },
   {
    "duration": 9,
    "start_time": "2025-03-27T14:44:18.519Z"
   },
   {
    "duration": 16,
    "start_time": "2025-03-27T14:44:18.530Z"
   },
   {
    "duration": 97,
    "start_time": "2025-03-27T14:44:18.547Z"
   },
   {
    "duration": 195,
    "start_time": "2025-03-27T14:44:18.646Z"
   },
   {
    "duration": 0,
    "start_time": "2025-03-27T14:44:18.843Z"
   },
   {
    "duration": 0,
    "start_time": "2025-03-27T14:44:18.845Z"
   },
   {
    "duration": 0,
    "start_time": "2025-03-27T14:44:18.846Z"
   },
   {
    "duration": 0,
    "start_time": "2025-03-27T14:44:18.847Z"
   },
   {
    "duration": 0,
    "start_time": "2025-03-27T14:44:18.849Z"
   },
   {
    "duration": 0,
    "start_time": "2025-03-27T14:44:18.850Z"
   },
   {
    "duration": 0,
    "start_time": "2025-03-27T14:44:18.852Z"
   },
   {
    "duration": 0,
    "start_time": "2025-03-27T14:44:18.853Z"
   },
   {
    "duration": 0,
    "start_time": "2025-03-27T14:44:18.873Z"
   },
   {
    "duration": 0,
    "start_time": "2025-03-27T14:44:18.874Z"
   },
   {
    "duration": 0,
    "start_time": "2025-03-27T14:44:18.876Z"
   },
   {
    "duration": 0,
    "start_time": "2025-03-27T14:44:18.878Z"
   },
   {
    "duration": 0,
    "start_time": "2025-03-27T14:44:18.879Z"
   },
   {
    "duration": 0,
    "start_time": "2025-03-27T14:44:18.881Z"
   },
   {
    "duration": 0,
    "start_time": "2025-03-27T14:44:18.882Z"
   },
   {
    "duration": 0,
    "start_time": "2025-03-27T14:44:18.883Z"
   },
   {
    "duration": 0,
    "start_time": "2025-03-27T14:44:18.885Z"
   },
   {
    "duration": 0,
    "start_time": "2025-03-27T14:44:18.886Z"
   },
   {
    "duration": 0,
    "start_time": "2025-03-27T14:44:18.888Z"
   },
   {
    "duration": 0,
    "start_time": "2025-03-27T14:44:18.889Z"
   },
   {
    "duration": 0,
    "start_time": "2025-03-27T14:44:18.890Z"
   },
   {
    "duration": 0,
    "start_time": "2025-03-27T14:44:18.892Z"
   },
   {
    "duration": 0,
    "start_time": "2025-03-27T14:44:18.893Z"
   },
   {
    "duration": 0,
    "start_time": "2025-03-27T14:44:18.895Z"
   },
   {
    "duration": 0,
    "start_time": "2025-03-27T14:44:18.896Z"
   },
   {
    "duration": 0,
    "start_time": "2025-03-27T14:44:18.897Z"
   },
   {
    "duration": 0,
    "start_time": "2025-03-27T14:44:18.898Z"
   },
   {
    "duration": 0,
    "start_time": "2025-03-27T14:44:18.900Z"
   },
   {
    "duration": 0,
    "start_time": "2025-03-27T14:44:18.901Z"
   },
   {
    "duration": 0,
    "start_time": "2025-03-27T14:44:18.902Z"
   },
   {
    "duration": 0,
    "start_time": "2025-03-27T14:44:18.904Z"
   },
   {
    "duration": 0,
    "start_time": "2025-03-27T14:44:18.905Z"
   },
   {
    "duration": 0,
    "start_time": "2025-03-27T14:44:18.907Z"
   },
   {
    "duration": 0,
    "start_time": "2025-03-27T14:44:18.908Z"
   },
   {
    "duration": 0,
    "start_time": "2025-03-27T14:44:18.910Z"
   },
   {
    "duration": 0,
    "start_time": "2025-03-27T14:44:18.911Z"
   },
   {
    "duration": 0,
    "start_time": "2025-03-27T14:44:18.974Z"
   },
   {
    "duration": 0,
    "start_time": "2025-03-27T14:44:18.975Z"
   },
   {
    "duration": 0,
    "start_time": "2025-03-27T14:44:18.976Z"
   },
   {
    "duration": 0,
    "start_time": "2025-03-27T14:44:18.978Z"
   },
   {
    "duration": 0,
    "start_time": "2025-03-27T14:44:18.979Z"
   },
   {
    "duration": 0,
    "start_time": "2025-03-27T14:44:18.980Z"
   },
   {
    "duration": 85,
    "start_time": "2025-03-27T14:44:50.697Z"
   },
   {
    "duration": 79,
    "start_time": "2025-03-27T14:44:56.635Z"
   },
   {
    "duration": 76,
    "start_time": "2025-03-27T14:45:24.727Z"
   },
   {
    "duration": 3,
    "start_time": "2025-03-27T14:45:51.617Z"
   },
   {
    "duration": 82,
    "start_time": "2025-03-27T14:45:51.622Z"
   },
   {
    "duration": 8,
    "start_time": "2025-03-27T14:45:51.706Z"
   },
   {
    "duration": 23,
    "start_time": "2025-03-27T14:45:51.715Z"
   },
   {
    "duration": 11,
    "start_time": "2025-03-27T14:45:51.741Z"
   },
   {
    "duration": 19,
    "start_time": "2025-03-27T14:45:51.754Z"
   },
   {
    "duration": 58,
    "start_time": "2025-03-27T14:45:51.774Z"
   },
   {
    "duration": 8,
    "start_time": "2025-03-27T14:45:51.834Z"
   },
   {
    "duration": 17,
    "start_time": "2025-03-27T14:45:51.843Z"
   },
   {
    "duration": 12,
    "start_time": "2025-03-27T14:45:51.861Z"
   },
   {
    "duration": 26,
    "start_time": "2025-03-27T14:45:51.876Z"
   },
   {
    "duration": 44,
    "start_time": "2025-03-27T14:45:51.903Z"
   },
   {
    "duration": 8,
    "start_time": "2025-03-27T14:45:51.948Z"
   },
   {
    "duration": 7,
    "start_time": "2025-03-27T14:45:51.957Z"
   },
   {
    "duration": 13,
    "start_time": "2025-03-27T14:45:51.966Z"
   },
   {
    "duration": 16,
    "start_time": "2025-03-27T14:45:51.980Z"
   },
   {
    "duration": 12,
    "start_time": "2025-03-27T14:45:51.998Z"
   },
   {
    "duration": 23,
    "start_time": "2025-03-27T14:45:52.012Z"
   },
   {
    "duration": 4,
    "start_time": "2025-03-27T14:45:52.036Z"
   },
   {
    "duration": 14,
    "start_time": "2025-03-27T14:45:52.042Z"
   },
   {
    "duration": 22,
    "start_time": "2025-03-27T14:45:52.057Z"
   },
   {
    "duration": 6,
    "start_time": "2025-03-27T14:45:52.081Z"
   },
   {
    "duration": 23,
    "start_time": "2025-03-27T14:45:52.088Z"
   },
   {
    "duration": 7,
    "start_time": "2025-03-27T14:45:52.112Z"
   },
   {
    "duration": 38,
    "start_time": "2025-03-27T14:45:52.121Z"
   },
   {
    "duration": 10,
    "start_time": "2025-03-27T14:45:52.160Z"
   },
   {
    "duration": 8,
    "start_time": "2025-03-27T14:45:52.172Z"
   },
   {
    "duration": 13,
    "start_time": "2025-03-27T14:45:52.181Z"
   },
   {
    "duration": 4,
    "start_time": "2025-03-27T14:45:52.198Z"
   },
   {
    "duration": 7,
    "start_time": "2025-03-27T14:45:52.203Z"
   },
   {
    "duration": 4,
    "start_time": "2025-03-27T14:45:52.211Z"
   },
   {
    "duration": 6,
    "start_time": "2025-03-27T14:45:52.217Z"
   },
   {
    "duration": 164,
    "start_time": "2025-03-27T14:45:52.225Z"
   },
   {
    "duration": 9,
    "start_time": "2025-03-27T14:45:52.391Z"
   },
   {
    "duration": 163,
    "start_time": "2025-03-27T14:45:52.402Z"
   },
   {
    "duration": 12,
    "start_time": "2025-03-27T14:45:52.567Z"
   },
   {
    "duration": 22,
    "start_time": "2025-03-27T14:45:52.580Z"
   },
   {
    "duration": 161,
    "start_time": "2025-03-27T14:45:52.603Z"
   },
   {
    "duration": 107,
    "start_time": "2025-03-27T14:45:52.766Z"
   },
   {
    "duration": 177,
    "start_time": "2025-03-27T14:45:52.875Z"
   },
   {
    "duration": 8,
    "start_time": "2025-03-27T14:45:53.054Z"
   },
   {
    "duration": 25,
    "start_time": "2025-03-27T14:45:53.073Z"
   },
   {
    "duration": 164,
    "start_time": "2025-03-27T14:45:53.099Z"
   },
   {
    "duration": 179,
    "start_time": "2025-03-27T14:45:53.264Z"
   },
   {
    "duration": 13,
    "start_time": "2025-03-27T14:45:53.445Z"
   },
   {
    "duration": 166,
    "start_time": "2025-03-27T14:45:53.459Z"
   },
   {
    "duration": 190,
    "start_time": "2025-03-27T14:45:53.627Z"
   },
   {
    "duration": 10,
    "start_time": "2025-03-27T14:45:53.818Z"
   },
   {
    "duration": 24,
    "start_time": "2025-03-27T14:45:53.829Z"
   },
   {
    "duration": 24,
    "start_time": "2025-03-27T14:45:53.854Z"
   },
   {
    "duration": 15,
    "start_time": "2025-03-27T14:45:53.879Z"
   },
   {
    "duration": 172,
    "start_time": "2025-03-27T14:45:53.897Z"
   },
   {
    "duration": 22,
    "start_time": "2025-03-27T14:45:54.070Z"
   },
   {
    "duration": 187,
    "start_time": "2025-03-27T14:45:54.094Z"
   },
   {
    "duration": 146,
    "start_time": "2025-03-27T14:45:54.283Z"
   },
   {
    "duration": 181,
    "start_time": "2025-03-27T14:45:54.430Z"
   },
   {
    "duration": 12,
    "start_time": "2025-03-27T14:45:54.612Z"
   },
   {
    "duration": 30,
    "start_time": "2025-03-27T14:45:54.626Z"
   },
   {
    "duration": 17,
    "start_time": "2025-03-27T14:45:54.658Z"
   },
   {
    "duration": 14,
    "start_time": "2025-03-27T14:45:54.676Z"
   },
   {
    "duration": 9,
    "start_time": "2025-03-27T14:45:54.691Z"
   },
   {
    "duration": 22,
    "start_time": "2025-03-27T14:45:54.701Z"
   },
   {
    "duration": 21,
    "start_time": "2025-03-27T14:45:54.725Z"
   },
   {
    "duration": 6,
    "start_time": "2025-03-27T14:45:54.748Z"
   },
   {
    "duration": 94,
    "start_time": "2025-03-27T14:45:54.755Z"
   },
   {
    "duration": 3,
    "start_time": "2025-03-27T14:45:54.851Z"
   },
   {
    "duration": 17,
    "start_time": "2025-03-27T14:45:54.856Z"
   },
   {
    "duration": 3,
    "start_time": "2025-03-27T14:45:54.875Z"
   },
   {
    "duration": 3,
    "start_time": "2025-03-27T14:45:54.880Z"
   },
   {
    "duration": 4,
    "start_time": "2025-03-27T14:45:54.884Z"
   },
   {
    "duration": 6,
    "start_time": "2025-03-27T14:45:54.889Z"
   },
   {
    "duration": 4,
    "start_time": "2025-03-27T14:45:54.896Z"
   },
   {
    "duration": 5,
    "start_time": "2025-03-27T14:45:54.901Z"
   },
   {
    "duration": 2,
    "start_time": "2025-03-27T14:45:54.908Z"
   },
   {
    "duration": 4,
    "start_time": "2025-03-27T14:45:54.911Z"
   },
   {
    "duration": 5,
    "start_time": "2025-03-27T14:45:54.916Z"
   },
   {
    "duration": 4,
    "start_time": "2025-03-27T14:45:54.923Z"
   },
   {
    "duration": 47,
    "start_time": "2025-03-27T14:45:54.928Z"
   },
   {
    "duration": 5,
    "start_time": "2025-03-27T14:45:54.977Z"
   },
   {
    "duration": 8,
    "start_time": "2025-03-27T14:45:54.983Z"
   },
   {
    "duration": 5,
    "start_time": "2025-03-27T14:45:54.993Z"
   },
   {
    "duration": 143,
    "start_time": "2025-03-27T17:30:39.925Z"
   },
   {
    "duration": 145,
    "start_time": "2025-03-27T17:31:40.663Z"
   },
   {
    "duration": 146,
    "start_time": "2025-03-27T17:31:57.186Z"
   },
   {
    "duration": 149,
    "start_time": "2025-03-27T17:32:30.972Z"
   },
   {
    "duration": 157,
    "start_time": "2025-03-27T17:33:17.166Z"
   },
   {
    "duration": 154,
    "start_time": "2025-03-27T17:33:30.133Z"
   },
   {
    "duration": 5,
    "start_time": "2025-03-27T17:34:03.565Z"
   },
   {
    "duration": 4,
    "start_time": "2025-03-27T17:34:44.331Z"
   },
   {
    "duration": 15,
    "start_time": "2025-03-27T17:34:58.690Z"
   },
   {
    "duration": 164,
    "start_time": "2025-03-27T17:37:15.965Z"
   },
   {
    "duration": 195,
    "start_time": "2025-03-27T17:37:25.392Z"
   },
   {
    "duration": 160,
    "start_time": "2025-03-27T17:38:00.560Z"
   },
   {
    "duration": 146,
    "start_time": "2025-03-27T17:38:12.442Z"
   },
   {
    "duration": 197,
    "start_time": "2025-03-27T17:40:38.113Z"
   },
   {
    "duration": 196,
    "start_time": "2025-03-27T17:41:18.118Z"
   },
   {
    "duration": 306,
    "start_time": "2025-03-27T17:42:07.574Z"
   },
   {
    "duration": 207,
    "start_time": "2025-03-27T17:42:29.109Z"
   },
   {
    "duration": 3,
    "start_time": "2025-03-27T17:45:09.456Z"
   },
   {
    "duration": 35,
    "start_time": "2025-03-27T17:45:10.220Z"
   },
   {
    "duration": 15,
    "start_time": "2025-03-27T17:45:48.596Z"
   },
   {
    "duration": 3,
    "start_time": "2025-03-27T17:49:11.368Z"
   },
   {
    "duration": 3,
    "start_time": "2025-03-27T17:49:11.816Z"
   },
   {
    "duration": 9,
    "start_time": "2025-03-27T17:49:12.208Z"
   },
   {
    "duration": 6,
    "start_time": "2025-03-27T17:50:12.527Z"
   },
   {
    "duration": 1513,
    "start_time": "2025-03-27T18:01:51.559Z"
   },
   {
    "duration": 16,
    "start_time": "2025-03-27T18:01:59.492Z"
   },
   {
    "duration": 105,
    "start_time": "2025-03-27T18:02:01.260Z"
   },
   {
    "duration": 79,
    "start_time": "2025-03-27T18:02:03.003Z"
   },
   {
    "duration": 3,
    "start_time": "2025-03-27T18:02:28.865Z"
   },
   {
    "duration": 45,
    "start_time": "2025-03-27T18:02:28.870Z"
   },
   {
    "duration": 7,
    "start_time": "2025-03-27T18:02:28.917Z"
   },
   {
    "duration": 4,
    "start_time": "2025-03-27T18:02:28.927Z"
   },
   {
    "duration": 14,
    "start_time": "2025-03-27T18:02:28.932Z"
   },
   {
    "duration": 28,
    "start_time": "2025-03-27T18:02:28.948Z"
   },
   {
    "duration": 53,
    "start_time": "2025-03-27T18:02:28.977Z"
   },
   {
    "duration": 8,
    "start_time": "2025-03-27T18:02:29.031Z"
   },
   {
    "duration": 6,
    "start_time": "2025-03-27T18:02:29.042Z"
   },
   {
    "duration": 14,
    "start_time": "2025-03-27T18:02:29.050Z"
   },
   {
    "duration": 23,
    "start_time": "2025-03-27T18:02:29.072Z"
   },
   {
    "duration": 39,
    "start_time": "2025-03-27T18:02:29.097Z"
   },
   {
    "duration": 9,
    "start_time": "2025-03-27T18:02:29.138Z"
   },
   {
    "duration": 4,
    "start_time": "2025-03-27T18:02:29.149Z"
   },
   {
    "duration": 19,
    "start_time": "2025-03-27T18:02:29.154Z"
   },
   {
    "duration": 10,
    "start_time": "2025-03-27T18:02:29.175Z"
   },
   {
    "duration": 10,
    "start_time": "2025-03-27T18:02:29.187Z"
   },
   {
    "duration": 22,
    "start_time": "2025-03-27T18:02:29.199Z"
   },
   {
    "duration": 5,
    "start_time": "2025-03-27T18:02:29.222Z"
   },
   {
    "duration": 9,
    "start_time": "2025-03-27T18:02:29.228Z"
   },
   {
    "duration": 11,
    "start_time": "2025-03-27T18:02:29.274Z"
   },
   {
    "duration": 21,
    "start_time": "2025-03-27T18:02:29.287Z"
   },
   {
    "duration": 7,
    "start_time": "2025-03-27T18:02:29.309Z"
   },
   {
    "duration": 8,
    "start_time": "2025-03-27T18:02:29.320Z"
   },
   {
    "duration": 12,
    "start_time": "2025-03-27T18:02:29.329Z"
   },
   {
    "duration": 5,
    "start_time": "2025-03-27T18:02:29.342Z"
   },
   {
    "duration": 29,
    "start_time": "2025-03-27T18:02:29.348Z"
   },
   {
    "duration": 5,
    "start_time": "2025-03-27T18:02:29.379Z"
   },
   {
    "duration": 10,
    "start_time": "2025-03-27T18:02:29.386Z"
   },
   {
    "duration": 7,
    "start_time": "2025-03-27T18:02:29.397Z"
   },
   {
    "duration": 5,
    "start_time": "2025-03-27T18:02:29.405Z"
   },
   {
    "duration": 5,
    "start_time": "2025-03-27T18:02:29.412Z"
   },
   {
    "duration": 175,
    "start_time": "2025-03-27T18:02:29.419Z"
   },
   {
    "duration": 8,
    "start_time": "2025-03-27T18:02:29.596Z"
   },
   {
    "duration": 169,
    "start_time": "2025-03-27T18:02:29.606Z"
   },
   {
    "duration": 8,
    "start_time": "2025-03-27T18:02:29.776Z"
   },
   {
    "duration": 15,
    "start_time": "2025-03-27T18:02:29.786Z"
   },
   {
    "duration": 127,
    "start_time": "2025-03-27T18:02:29.802Z"
   },
   {
    "duration": 85,
    "start_time": "2025-03-27T18:02:29.930Z"
   },
   {
    "duration": 191,
    "start_time": "2025-03-27T18:02:30.017Z"
   },
   {
    "duration": 9,
    "start_time": "2025-03-27T18:02:30.210Z"
   },
   {
    "duration": 51,
    "start_time": "2025-03-27T18:02:30.221Z"
   },
   {
    "duration": 206,
    "start_time": "2025-03-27T18:02:30.274Z"
   },
   {
    "duration": 207,
    "start_time": "2025-03-27T18:02:30.482Z"
   },
   {
    "duration": 174,
    "start_time": "2025-03-27T18:02:30.691Z"
   },
   {
    "duration": 19,
    "start_time": "2025-03-27T18:02:30.867Z"
   },
   {
    "duration": 160,
    "start_time": "2025-03-27T18:02:30.888Z"
   },
   {
    "duration": 196,
    "start_time": "2025-03-27T18:02:31.050Z"
   },
   {
    "duration": 158,
    "start_time": "2025-03-27T18:02:31.248Z"
   },
   {
    "duration": 11,
    "start_time": "2025-03-27T18:02:31.408Z"
   },
   {
    "duration": 40,
    "start_time": "2025-03-27T18:02:31.421Z"
   },
   {
    "duration": 4,
    "start_time": "2025-03-27T18:02:31.463Z"
   },
   {
    "duration": 5,
    "start_time": "2025-03-27T18:02:31.473Z"
   },
   {
    "duration": 19,
    "start_time": "2025-03-27T18:02:31.480Z"
   },
   {
    "duration": 21,
    "start_time": "2025-03-27T18:02:31.501Z"
   },
   {
    "duration": 35,
    "start_time": "2025-03-27T18:02:31.523Z"
   },
   {
    "duration": 197,
    "start_time": "2025-03-27T18:02:31.560Z"
   },
   {
    "duration": 27,
    "start_time": "2025-03-27T18:02:31.759Z"
   },
   {
    "duration": 361,
    "start_time": "2025-03-27T18:02:31.788Z"
   },
   {
    "duration": 210,
    "start_time": "2025-03-27T18:02:32.151Z"
   },
   {
    "duration": 211,
    "start_time": "2025-03-27T18:02:32.362Z"
   },
   {
    "duration": 13,
    "start_time": "2025-03-27T18:02:32.574Z"
   },
   {
    "duration": 8,
    "start_time": "2025-03-27T18:02:32.589Z"
   },
   {
    "duration": 44,
    "start_time": "2025-03-27T18:02:32.599Z"
   },
   {
    "duration": 15,
    "start_time": "2025-03-27T18:02:32.645Z"
   },
   {
    "duration": 26,
    "start_time": "2025-03-27T18:02:32.674Z"
   },
   {
    "duration": 23,
    "start_time": "2025-03-27T18:02:32.702Z"
   },
   {
    "duration": 9,
    "start_time": "2025-03-27T18:02:32.727Z"
   },
   {
    "duration": 17,
    "start_time": "2025-03-27T18:02:32.742Z"
   },
   {
    "duration": 35,
    "start_time": "2025-03-27T18:02:32.761Z"
   },
   {
    "duration": 20,
    "start_time": "2025-03-27T18:02:32.798Z"
   },
   {
    "duration": 23,
    "start_time": "2025-03-27T18:02:32.819Z"
   },
   {
    "duration": 7,
    "start_time": "2025-03-27T18:02:32.845Z"
   },
   {
    "duration": 17,
    "start_time": "2025-03-27T18:02:32.854Z"
   },
   {
    "duration": 6,
    "start_time": "2025-03-27T18:02:32.873Z"
   },
   {
    "duration": 6,
    "start_time": "2025-03-27T18:02:32.881Z"
   },
   {
    "duration": 34,
    "start_time": "2025-03-27T18:02:32.889Z"
   },
   {
    "duration": 12,
    "start_time": "2025-03-27T18:02:32.925Z"
   },
   {
    "duration": 5,
    "start_time": "2025-03-27T18:02:32.939Z"
   },
   {
    "duration": 9,
    "start_time": "2025-03-27T18:02:32.945Z"
   },
   {
    "duration": 12,
    "start_time": "2025-03-27T18:02:32.955Z"
   },
   {
    "duration": 5,
    "start_time": "2025-03-27T18:02:32.969Z"
   },
   {
    "duration": 1107,
    "start_time": "2025-03-28T06:36:07.653Z"
   },
   {
    "duration": 60,
    "start_time": "2025-03-28T06:36:08.762Z"
   },
   {
    "duration": 15,
    "start_time": "2025-03-28T06:36:08.824Z"
   },
   {
    "duration": 3,
    "start_time": "2025-03-28T06:36:08.841Z"
   },
   {
    "duration": 13,
    "start_time": "2025-03-28T06:36:08.846Z"
   },
   {
    "duration": 19,
    "start_time": "2025-03-28T06:36:08.860Z"
   },
   {
    "duration": 88,
    "start_time": "2025-03-28T06:36:08.881Z"
   },
   {
    "duration": 7,
    "start_time": "2025-03-28T06:36:08.971Z"
   },
   {
    "duration": 4,
    "start_time": "2025-03-28T06:36:08.979Z"
   },
   {
    "duration": 10,
    "start_time": "2025-03-28T06:36:08.985Z"
   },
   {
    "duration": 19,
    "start_time": "2025-03-28T06:36:08.997Z"
   },
   {
    "duration": 69,
    "start_time": "2025-03-28T06:36:09.017Z"
   },
   {
    "duration": 6,
    "start_time": "2025-03-28T06:36:09.088Z"
   },
   {
    "duration": 45,
    "start_time": "2025-03-28T06:36:09.095Z"
   },
   {
    "duration": 10,
    "start_time": "2025-03-28T06:36:09.142Z"
   },
   {
    "duration": 9,
    "start_time": "2025-03-28T06:36:09.154Z"
   },
   {
    "duration": 22,
    "start_time": "2025-03-28T06:36:09.164Z"
   },
   {
    "duration": 25,
    "start_time": "2025-03-28T06:36:09.187Z"
   },
   {
    "duration": 5,
    "start_time": "2025-03-28T06:36:09.215Z"
   },
   {
    "duration": 10,
    "start_time": "2025-03-28T06:36:09.221Z"
   },
   {
    "duration": 11,
    "start_time": "2025-03-28T06:36:09.232Z"
   },
   {
    "duration": 7,
    "start_time": "2025-03-28T06:36:09.245Z"
   },
   {
    "duration": 5,
    "start_time": "2025-03-28T06:36:09.254Z"
   },
   {
    "duration": 8,
    "start_time": "2025-03-28T06:36:09.261Z"
   },
   {
    "duration": 6,
    "start_time": "2025-03-28T06:36:09.308Z"
   },
   {
    "duration": 6,
    "start_time": "2025-03-28T06:36:09.316Z"
   },
   {
    "duration": 8,
    "start_time": "2025-03-28T06:36:09.324Z"
   },
   {
    "duration": 4,
    "start_time": "2025-03-28T06:36:09.337Z"
   },
   {
    "duration": 5,
    "start_time": "2025-03-28T06:36:09.343Z"
   },
   {
    "duration": 7,
    "start_time": "2025-03-28T06:36:09.349Z"
   },
   {
    "duration": 6,
    "start_time": "2025-03-28T06:36:09.357Z"
   },
   {
    "duration": 47,
    "start_time": "2025-03-28T06:36:09.364Z"
   },
   {
    "duration": 164,
    "start_time": "2025-03-28T06:36:09.413Z"
   },
   {
    "duration": 12,
    "start_time": "2025-03-28T06:36:09.581Z"
   },
   {
    "duration": 185,
    "start_time": "2025-03-28T06:36:09.595Z"
   },
   {
    "duration": 8,
    "start_time": "2025-03-28T06:36:09.782Z"
   },
   {
    "duration": 27,
    "start_time": "2025-03-28T06:36:09.792Z"
   },
   {
    "duration": 113,
    "start_time": "2025-03-28T06:36:09.821Z"
   },
   {
    "duration": 88,
    "start_time": "2025-03-28T06:36:09.935Z"
   },
   {
    "duration": 187,
    "start_time": "2025-03-28T06:36:10.024Z"
   },
   {
    "duration": 8,
    "start_time": "2025-03-28T06:36:10.212Z"
   },
   {
    "duration": 18,
    "start_time": "2025-03-28T06:36:10.221Z"
   },
   {
    "duration": 169,
    "start_time": "2025-03-28T06:36:10.240Z"
   },
   {
    "duration": 185,
    "start_time": "2025-03-28T06:36:10.411Z"
   },
   {
    "duration": 174,
    "start_time": "2025-03-28T06:36:10.606Z"
   },
   {
    "duration": 14,
    "start_time": "2025-03-28T06:36:10.781Z"
   },
   {
    "duration": 252,
    "start_time": "2025-03-28T06:36:10.806Z"
   },
   {
    "duration": 192,
    "start_time": "2025-03-28T06:36:11.060Z"
   },
   {
    "duration": 186,
    "start_time": "2025-03-28T06:36:11.254Z"
   },
   {
    "duration": 11,
    "start_time": "2025-03-28T06:36:11.442Z"
   },
   {
    "duration": 17,
    "start_time": "2025-03-28T06:36:11.455Z"
   },
   {
    "duration": 44,
    "start_time": "2025-03-28T06:36:11.474Z"
   },
   {
    "duration": 5,
    "start_time": "2025-03-28T06:36:11.521Z"
   },
   {
    "duration": 23,
    "start_time": "2025-03-28T06:36:11.528Z"
   },
   {
    "duration": 15,
    "start_time": "2025-03-28T06:36:11.553Z"
   },
   {
    "duration": 13,
    "start_time": "2025-03-28T06:36:11.570Z"
   },
   {
    "duration": 197,
    "start_time": "2025-03-28T06:36:11.585Z"
   },
   {
    "duration": 29,
    "start_time": "2025-03-28T06:36:11.783Z"
   },
   {
    "duration": 206,
    "start_time": "2025-03-28T06:36:11.813Z"
   },
   {
    "duration": 189,
    "start_time": "2025-03-28T06:36:12.021Z"
   },
   {
    "duration": 199,
    "start_time": "2025-03-28T06:36:12.211Z"
   },
   {
    "duration": 13,
    "start_time": "2025-03-28T06:36:12.411Z"
   },
   {
    "duration": 26,
    "start_time": "2025-03-28T06:36:12.426Z"
   },
   {
    "duration": 35,
    "start_time": "2025-03-28T06:36:12.453Z"
   },
   {
    "duration": 13,
    "start_time": "2025-03-28T06:36:12.490Z"
   },
   {
    "duration": 4,
    "start_time": "2025-03-28T06:36:12.507Z"
   },
   {
    "duration": 6,
    "start_time": "2025-03-28T06:36:12.513Z"
   },
   {
    "duration": 14,
    "start_time": "2025-03-28T06:36:12.520Z"
   },
   {
    "duration": 4,
    "start_time": "2025-03-28T06:36:12.536Z"
   },
   {
    "duration": 6,
    "start_time": "2025-03-28T06:36:12.542Z"
   },
   {
    "duration": 15,
    "start_time": "2025-03-28T06:36:12.549Z"
   },
   {
    "duration": 13,
    "start_time": "2025-03-28T06:36:12.566Z"
   },
   {
    "duration": 5,
    "start_time": "2025-03-28T06:36:12.581Z"
   },
   {
    "duration": 5,
    "start_time": "2025-03-28T06:36:12.587Z"
   },
   {
    "duration": 14,
    "start_time": "2025-03-28T06:36:12.593Z"
   },
   {
    "duration": 10,
    "start_time": "2025-03-28T06:36:12.608Z"
   },
   {
    "duration": 4,
    "start_time": "2025-03-28T06:36:12.620Z"
   },
   {
    "duration": 8,
    "start_time": "2025-03-28T06:36:12.626Z"
   },
   {
    "duration": 7,
    "start_time": "2025-03-28T06:36:12.636Z"
   },
   {
    "duration": 8,
    "start_time": "2025-03-28T06:36:12.644Z"
   },
   {
    "duration": 4,
    "start_time": "2025-03-28T06:36:12.653Z"
   },
   {
    "duration": 9,
    "start_time": "2025-03-28T06:36:12.661Z"
   },
   {
    "duration": 1181,
    "start_time": "2025-03-28T06:43:07.469Z"
   },
   {
    "duration": 95,
    "start_time": "2025-03-28T06:43:08.651Z"
   },
   {
    "duration": 11,
    "start_time": "2025-03-28T06:43:08.747Z"
   },
   {
    "duration": 3,
    "start_time": "2025-03-28T06:43:08.760Z"
   },
   {
    "duration": 23,
    "start_time": "2025-03-28T06:43:08.765Z"
   },
   {
    "duration": 22,
    "start_time": "2025-03-28T06:43:08.790Z"
   },
   {
    "duration": 73,
    "start_time": "2025-03-28T06:43:08.814Z"
   },
   {
    "duration": 8,
    "start_time": "2025-03-28T06:43:08.889Z"
   },
   {
    "duration": 12,
    "start_time": "2025-03-28T06:43:08.898Z"
   },
   {
    "duration": 24,
    "start_time": "2025-03-28T06:43:08.913Z"
   },
   {
    "duration": 29,
    "start_time": "2025-03-28T06:43:08.939Z"
   },
   {
    "duration": 48,
    "start_time": "2025-03-28T06:43:08.969Z"
   },
   {
    "duration": 9,
    "start_time": "2025-03-28T06:43:09.023Z"
   },
   {
    "duration": 12,
    "start_time": "2025-03-28T06:43:09.034Z"
   },
   {
    "duration": 18,
    "start_time": "2025-03-28T06:43:09.047Z"
   },
   {
    "duration": 12,
    "start_time": "2025-03-28T06:43:09.067Z"
   },
   {
    "duration": 9,
    "start_time": "2025-03-28T06:43:09.081Z"
   },
   {
    "duration": 37,
    "start_time": "2025-03-28T06:43:09.092Z"
   },
   {
    "duration": 5,
    "start_time": "2025-03-28T06:43:09.131Z"
   },
   {
    "duration": 51,
    "start_time": "2025-03-28T06:43:09.137Z"
   },
   {
    "duration": 14,
    "start_time": "2025-03-28T06:43:09.189Z"
   },
   {
    "duration": 11,
    "start_time": "2025-03-28T06:43:09.205Z"
   },
   {
    "duration": 9,
    "start_time": "2025-03-28T06:43:09.223Z"
   },
   {
    "duration": 8,
    "start_time": "2025-03-28T06:43:09.234Z"
   },
   {
    "duration": 5,
    "start_time": "2025-03-28T06:43:09.244Z"
   },
   {
    "duration": 5,
    "start_time": "2025-03-28T06:43:09.250Z"
   },
   {
    "duration": 5,
    "start_time": "2025-03-28T06:43:09.257Z"
   },
   {
    "duration": 8,
    "start_time": "2025-03-28T06:43:09.266Z"
   },
   {
    "duration": 44,
    "start_time": "2025-03-28T06:43:09.276Z"
   },
   {
    "duration": 7,
    "start_time": "2025-03-28T06:43:09.324Z"
   },
   {
    "duration": 9,
    "start_time": "2025-03-28T06:43:09.332Z"
   },
   {
    "duration": 11,
    "start_time": "2025-03-28T06:43:09.343Z"
   },
   {
    "duration": 188,
    "start_time": "2025-03-28T06:43:09.355Z"
   },
   {
    "duration": 8,
    "start_time": "2025-03-28T06:43:09.545Z"
   },
   {
    "duration": 213,
    "start_time": "2025-03-28T06:43:09.554Z"
   },
   {
    "duration": 8,
    "start_time": "2025-03-28T06:43:09.769Z"
   },
   {
    "duration": 32,
    "start_time": "2025-03-28T06:43:09.779Z"
   },
   {
    "duration": 129,
    "start_time": "2025-03-28T06:43:09.812Z"
   },
   {
    "duration": 98,
    "start_time": "2025-03-28T06:43:09.943Z"
   },
   {
    "duration": 197,
    "start_time": "2025-03-28T06:43:10.043Z"
   },
   {
    "duration": 9,
    "start_time": "2025-03-28T06:43:10.242Z"
   },
   {
    "duration": 14,
    "start_time": "2025-03-28T06:43:10.253Z"
   },
   {
    "duration": 186,
    "start_time": "2025-03-28T06:43:10.269Z"
   },
   {
    "duration": 230,
    "start_time": "2025-03-28T06:43:10.457Z"
   },
   {
    "duration": 204,
    "start_time": "2025-03-28T06:43:10.689Z"
   },
   {
    "duration": 33,
    "start_time": "2025-03-28T06:43:10.896Z"
   },
   {
    "duration": 262,
    "start_time": "2025-03-28T06:43:10.932Z"
   },
   {
    "duration": 204,
    "start_time": "2025-03-28T06:43:11.196Z"
   },
   {
    "duration": 151,
    "start_time": "2025-03-28T06:43:11.410Z"
   },
   {
    "duration": 11,
    "start_time": "2025-03-28T06:43:11.563Z"
   },
   {
    "duration": 38,
    "start_time": "2025-03-28T06:43:11.576Z"
   },
   {
    "duration": 5,
    "start_time": "2025-03-28T06:43:11.616Z"
   },
   {
    "duration": 4,
    "start_time": "2025-03-28T06:43:11.623Z"
   },
   {
    "duration": 30,
    "start_time": "2025-03-28T06:43:11.628Z"
   },
   {
    "duration": 15,
    "start_time": "2025-03-28T06:43:11.660Z"
   },
   {
    "duration": 37,
    "start_time": "2025-03-28T06:43:11.676Z"
   },
   {
    "duration": 222,
    "start_time": "2025-03-28T06:43:11.715Z"
   },
   {
    "duration": 21,
    "start_time": "2025-03-28T06:43:11.939Z"
   },
   {
    "duration": 231,
    "start_time": "2025-03-28T06:43:11.961Z"
   },
   {
    "duration": 225,
    "start_time": "2025-03-28T06:43:12.194Z"
   },
   {
    "duration": 230,
    "start_time": "2025-03-28T06:43:12.421Z"
   },
   {
    "duration": 13,
    "start_time": "2025-03-28T06:43:12.653Z"
   },
   {
    "duration": 15,
    "start_time": "2025-03-28T06:43:12.667Z"
   },
   {
    "duration": 57,
    "start_time": "2025-03-28T06:43:12.684Z"
   },
   {
    "duration": 19,
    "start_time": "2025-03-28T06:43:12.743Z"
   },
   {
    "duration": 4,
    "start_time": "2025-03-28T06:43:12.764Z"
   },
   {
    "duration": 10,
    "start_time": "2025-03-28T06:43:12.770Z"
   },
   {
    "duration": 9,
    "start_time": "2025-03-28T06:43:12.782Z"
   },
   {
    "duration": 6,
    "start_time": "2025-03-28T06:43:12.807Z"
   },
   {
    "duration": 6,
    "start_time": "2025-03-28T06:43:12.814Z"
   },
   {
    "duration": 7,
    "start_time": "2025-03-28T06:43:12.823Z"
   },
   {
    "duration": 7,
    "start_time": "2025-03-28T06:43:12.833Z"
   },
   {
    "duration": 7,
    "start_time": "2025-03-28T06:43:12.841Z"
   },
   {
    "duration": 5,
    "start_time": "2025-03-28T06:43:12.849Z"
   },
   {
    "duration": 6,
    "start_time": "2025-03-28T06:43:12.856Z"
   },
   {
    "duration": 7,
    "start_time": "2025-03-28T06:43:12.864Z"
   },
   {
    "duration": 4,
    "start_time": "2025-03-28T06:43:12.873Z"
   },
   {
    "duration": 31,
    "start_time": "2025-03-28T06:43:12.878Z"
   },
   {
    "duration": 10,
    "start_time": "2025-03-28T06:43:12.911Z"
   },
   {
    "duration": 4,
    "start_time": "2025-03-28T06:43:12.923Z"
   },
   {
    "duration": 3,
    "start_time": "2025-03-28T06:43:12.929Z"
   },
   {
    "duration": 15,
    "start_time": "2025-03-28T06:43:12.937Z"
   },
   {
    "duration": 61,
    "start_time": "2025-03-28T09:19:15.684Z"
   },
   {
    "duration": 1374,
    "start_time": "2025-03-28T09:19:20.990Z"
   },
   {
    "duration": 79,
    "start_time": "2025-03-28T09:19:22.365Z"
   },
   {
    "duration": 12,
    "start_time": "2025-03-28T09:19:22.445Z"
   },
   {
    "duration": 13,
    "start_time": "2025-03-28T09:19:22.459Z"
   },
   {
    "duration": 14,
    "start_time": "2025-03-28T09:19:22.473Z"
   },
   {
    "duration": 19,
    "start_time": "2025-03-28T09:19:22.488Z"
   },
   {
    "duration": 148,
    "start_time": "2025-03-28T09:19:22.508Z"
   },
   {
    "duration": 7,
    "start_time": "2025-03-28T09:19:22.658Z"
   },
   {
    "duration": 26,
    "start_time": "2025-03-28T09:19:22.667Z"
   },
   {
    "duration": 15,
    "start_time": "2025-03-28T09:19:22.695Z"
   },
   {
    "duration": 18,
    "start_time": "2025-03-28T09:19:22.711Z"
   },
   {
    "duration": 86,
    "start_time": "2025-03-28T09:19:22.730Z"
   },
   {
    "duration": 7,
    "start_time": "2025-03-28T09:19:22.817Z"
   },
   {
    "duration": 6,
    "start_time": "2025-03-28T09:19:22.826Z"
   },
   {
    "duration": 10,
    "start_time": "2025-03-28T09:19:22.834Z"
   },
   {
    "duration": 12,
    "start_time": "2025-03-28T09:19:22.845Z"
   },
   {
    "duration": 10,
    "start_time": "2025-03-28T09:19:22.858Z"
   },
   {
    "duration": 26,
    "start_time": "2025-03-28T09:19:22.870Z"
   },
   {
    "duration": 5,
    "start_time": "2025-03-28T09:19:22.897Z"
   },
   {
    "duration": 15,
    "start_time": "2025-03-28T09:19:22.904Z"
   },
   {
    "duration": 15,
    "start_time": "2025-03-28T09:19:22.921Z"
   },
   {
    "duration": 20,
    "start_time": "2025-03-28T09:19:22.938Z"
   },
   {
    "duration": 8,
    "start_time": "2025-03-28T09:19:22.959Z"
   },
   {
    "duration": 13,
    "start_time": "2025-03-28T09:19:22.968Z"
   },
   {
    "duration": 5,
    "start_time": "2025-03-28T09:19:22.983Z"
   },
   {
    "duration": 5,
    "start_time": "2025-03-28T09:19:22.990Z"
   },
   {
    "duration": 18,
    "start_time": "2025-03-28T09:19:22.997Z"
   },
   {
    "duration": 7,
    "start_time": "2025-03-28T09:19:23.020Z"
   },
   {
    "duration": 31,
    "start_time": "2025-03-28T09:19:23.028Z"
   },
   {
    "duration": 6,
    "start_time": "2025-03-28T09:19:23.061Z"
   },
   {
    "duration": 18,
    "start_time": "2025-03-28T09:19:23.069Z"
   },
   {
    "duration": 13,
    "start_time": "2025-03-28T09:19:23.089Z"
   },
   {
    "duration": 184,
    "start_time": "2025-03-28T09:19:23.104Z"
   },
   {
    "duration": 10,
    "start_time": "2025-03-28T09:19:23.289Z"
   },
   {
    "duration": 171,
    "start_time": "2025-03-28T09:19:23.300Z"
   },
   {
    "duration": 8,
    "start_time": "2025-03-28T09:19:23.473Z"
   },
   {
    "duration": 17,
    "start_time": "2025-03-28T09:19:23.482Z"
   },
   {
    "duration": 122,
    "start_time": "2025-03-28T09:19:23.501Z"
   },
   {
    "duration": 90,
    "start_time": "2025-03-28T09:19:23.625Z"
   },
   {
    "duration": 195,
    "start_time": "2025-03-28T09:19:23.716Z"
   },
   {
    "duration": 9,
    "start_time": "2025-03-28T09:19:23.912Z"
   },
   {
    "duration": 35,
    "start_time": "2025-03-28T09:19:23.923Z"
   },
   {
    "duration": 161,
    "start_time": "2025-03-28T09:19:23.961Z"
   },
   {
    "duration": 198,
    "start_time": "2025-03-28T09:19:24.124Z"
   },
   {
    "duration": 171,
    "start_time": "2025-03-28T09:19:24.324Z"
   },
   {
    "duration": 228,
    "start_time": "2025-03-28T09:19:24.497Z"
   },
   {
    "duration": 13,
    "start_time": "2025-03-28T09:19:24.727Z"
   },
   {
    "duration": 169,
    "start_time": "2025-03-28T09:19:24.741Z"
   },
   {
    "duration": 202,
    "start_time": "2025-03-28T09:19:24.912Z"
   },
   {
    "duration": 159,
    "start_time": "2025-03-28T09:19:25.115Z"
   },
   {
    "duration": 10,
    "start_time": "2025-03-28T09:19:25.276Z"
   },
   {
    "duration": 18,
    "start_time": "2025-03-28T09:19:25.288Z"
   },
   {
    "duration": 3,
    "start_time": "2025-03-28T09:19:25.308Z"
   },
   {
    "duration": 4,
    "start_time": "2025-03-28T09:19:25.313Z"
   },
   {
    "duration": 47,
    "start_time": "2025-03-28T09:19:25.319Z"
   },
   {
    "duration": 16,
    "start_time": "2025-03-28T09:19:25.367Z"
   },
   {
    "duration": 14,
    "start_time": "2025-03-28T09:19:25.384Z"
   },
   {
    "duration": 221,
    "start_time": "2025-03-28T09:19:25.400Z"
   },
   {
    "duration": 21,
    "start_time": "2025-03-28T09:19:25.623Z"
   },
   {
    "duration": 220,
    "start_time": "2025-03-28T09:19:25.645Z"
   },
   {
    "duration": 200,
    "start_time": "2025-03-28T09:19:25.867Z"
   },
   {
    "duration": 213,
    "start_time": "2025-03-28T09:19:26.068Z"
   },
   {
    "duration": 13,
    "start_time": "2025-03-28T09:19:26.282Z"
   },
   {
    "duration": 14,
    "start_time": "2025-03-28T09:19:26.297Z"
   },
   {
    "duration": 45,
    "start_time": "2025-03-28T09:19:26.313Z"
   },
   {
    "duration": 14,
    "start_time": "2025-03-28T09:19:26.359Z"
   },
   {
    "duration": 4,
    "start_time": "2025-03-28T09:19:26.374Z"
   },
   {
    "duration": 9,
    "start_time": "2025-03-28T09:19:26.379Z"
   },
   {
    "duration": 6,
    "start_time": "2025-03-28T09:19:26.390Z"
   },
   {
    "duration": 3,
    "start_time": "2025-03-28T09:19:26.397Z"
   },
   {
    "duration": 4,
    "start_time": "2025-03-28T09:19:26.402Z"
   },
   {
    "duration": 5,
    "start_time": "2025-03-28T09:19:26.407Z"
   },
   {
    "duration": 44,
    "start_time": "2025-03-28T09:19:26.414Z"
   },
   {
    "duration": 4,
    "start_time": "2025-03-28T09:19:26.459Z"
   },
   {
    "duration": 5,
    "start_time": "2025-03-28T09:19:26.464Z"
   },
   {
    "duration": 7,
    "start_time": "2025-03-28T09:19:26.470Z"
   },
   {
    "duration": 14,
    "start_time": "2025-03-28T09:19:26.478Z"
   },
   {
    "duration": 9,
    "start_time": "2025-03-28T09:19:26.493Z"
   },
   {
    "duration": 19,
    "start_time": "2025-03-28T09:19:26.503Z"
   },
   {
    "duration": 8,
    "start_time": "2025-03-28T09:19:26.523Z"
   },
   {
    "duration": 11,
    "start_time": "2025-03-28T09:19:26.533Z"
   },
   {
    "duration": 3,
    "start_time": "2025-03-28T09:19:26.557Z"
   },
   {
    "duration": 6,
    "start_time": "2025-03-28T09:19:26.562Z"
   },
   {
    "duration": 147,
    "start_time": "2025-03-28T09:20:37.953Z"
   },
   {
    "duration": 142,
    "start_time": "2025-03-28T09:21:34.585Z"
   },
   {
    "duration": 184,
    "start_time": "2025-03-28T09:23:24.930Z"
   },
   {
    "duration": 314,
    "start_time": "2025-03-28T09:25:35.455Z"
   },
   {
    "duration": 184,
    "start_time": "2025-03-28T09:25:40.492Z"
   },
   {
    "duration": 203,
    "start_time": "2025-03-28T09:26:53.056Z"
   },
   {
    "duration": 203,
    "start_time": "2025-03-28T09:27:37.261Z"
   },
   {
    "duration": 170,
    "start_time": "2025-03-28T09:27:44.971Z"
   },
   {
    "duration": 177,
    "start_time": "2025-03-28T09:27:49.354Z"
   },
   {
    "duration": 185,
    "start_time": "2025-03-28T09:27:53.750Z"
   },
   {
    "duration": 122,
    "start_time": "2025-03-28T09:28:01.269Z"
   },
   {
    "duration": 200,
    "start_time": "2025-03-28T09:28:04.418Z"
   },
   {
    "duration": 111,
    "start_time": "2025-03-28T09:28:13.641Z"
   },
   {
    "duration": 177,
    "start_time": "2025-03-28T09:28:17.272Z"
   },
   {
    "duration": 5,
    "start_time": "2025-03-28T09:29:09.308Z"
   },
   {
    "duration": 110,
    "start_time": "2025-03-28T09:29:40.009Z"
   },
   {
    "duration": 2,
    "start_time": "2025-03-28T09:29:57.468Z"
   },
   {
    "duration": 2,
    "start_time": "2025-03-28T09:29:57.771Z"
   },
   {
    "duration": 5,
    "start_time": "2025-03-28T09:29:58.136Z"
   },
   {
    "duration": 3,
    "start_time": "2025-03-28T09:34:47.760Z"
   },
   {
    "duration": 104,
    "start_time": "2025-03-28T09:34:47.765Z"
   },
   {
    "duration": 7,
    "start_time": "2025-03-28T09:34:47.871Z"
   },
   {
    "duration": 12,
    "start_time": "2025-03-28T09:34:47.880Z"
   },
   {
    "duration": 20,
    "start_time": "2025-03-28T09:34:47.894Z"
   },
   {
    "duration": 26,
    "start_time": "2025-03-28T09:34:47.916Z"
   },
   {
    "duration": 65,
    "start_time": "2025-03-28T09:34:47.944Z"
   },
   {
    "duration": 7,
    "start_time": "2025-03-28T09:34:48.010Z"
   },
   {
    "duration": 5,
    "start_time": "2025-03-28T09:34:48.019Z"
   },
   {
    "duration": 20,
    "start_time": "2025-03-28T09:34:48.025Z"
   },
   {
    "duration": 16,
    "start_time": "2025-03-28T09:34:48.048Z"
   },
   {
    "duration": 136,
    "start_time": "2025-03-28T09:34:48.065Z"
   },
   {
    "duration": 6,
    "start_time": "2025-03-28T09:34:48.203Z"
   },
   {
    "duration": 10,
    "start_time": "2025-03-28T09:34:48.211Z"
   },
   {
    "duration": 10,
    "start_time": "2025-03-28T09:34:48.222Z"
   },
   {
    "duration": 6,
    "start_time": "2025-03-28T09:34:48.234Z"
   },
   {
    "duration": 103,
    "start_time": "2025-03-28T09:34:48.242Z"
   },
   {
    "duration": 19,
    "start_time": "2025-03-28T09:34:48.346Z"
   },
   {
    "duration": 4,
    "start_time": "2025-03-28T09:34:48.366Z"
   },
   {
    "duration": 8,
    "start_time": "2025-03-28T09:34:48.372Z"
   },
   {
    "duration": 12,
    "start_time": "2025-03-28T09:34:48.381Z"
   },
   {
    "duration": 6,
    "start_time": "2025-03-28T09:34:48.395Z"
   },
   {
    "duration": 5,
    "start_time": "2025-03-28T09:34:48.403Z"
   },
   {
    "duration": 8,
    "start_time": "2025-03-28T09:34:48.409Z"
   },
   {
    "duration": 5,
    "start_time": "2025-03-28T09:34:48.418Z"
   },
   {
    "duration": 37,
    "start_time": "2025-03-28T09:34:48.424Z"
   },
   {
    "duration": 8,
    "start_time": "2025-03-28T09:34:48.462Z"
   },
   {
    "duration": 4,
    "start_time": "2025-03-28T09:34:48.472Z"
   },
   {
    "duration": 5,
    "start_time": "2025-03-28T09:34:48.480Z"
   },
   {
    "duration": 11,
    "start_time": "2025-03-28T09:34:48.486Z"
   },
   {
    "duration": 4,
    "start_time": "2025-03-28T09:34:48.499Z"
   },
   {
    "duration": 12,
    "start_time": "2025-03-28T09:34:48.505Z"
   },
   {
    "duration": 168,
    "start_time": "2025-03-28T09:34:48.518Z"
   },
   {
    "duration": 8,
    "start_time": "2025-03-28T09:34:48.688Z"
   },
   {
    "duration": 198,
    "start_time": "2025-03-28T09:34:48.698Z"
   },
   {
    "duration": 7,
    "start_time": "2025-03-28T09:34:48.898Z"
   },
   {
    "duration": 14,
    "start_time": "2025-03-28T09:34:48.907Z"
   },
   {
    "duration": 116,
    "start_time": "2025-03-28T09:34:48.922Z"
   },
   {
    "duration": 87,
    "start_time": "2025-03-28T09:34:49.040Z"
   },
   {
    "duration": 285,
    "start_time": "2025-03-28T09:34:49.128Z"
   },
   {
    "duration": 8,
    "start_time": "2025-03-28T09:34:49.415Z"
   },
   {
    "duration": 18,
    "start_time": "2025-03-28T09:34:49.425Z"
   },
   {
    "duration": 156,
    "start_time": "2025-03-28T09:34:49.445Z"
   },
   {
    "duration": 176,
    "start_time": "2025-03-28T09:34:49.603Z"
   },
   {
    "duration": 163,
    "start_time": "2025-03-28T09:34:49.781Z"
   },
   {
    "duration": 151,
    "start_time": "2025-03-28T09:34:49.946Z"
   },
   {
    "duration": 14,
    "start_time": "2025-03-28T09:34:50.099Z"
   },
   {
    "duration": 146,
    "start_time": "2025-03-28T09:34:50.115Z"
   },
   {
    "duration": 182,
    "start_time": "2025-03-28T09:34:50.262Z"
   },
   {
    "duration": 151,
    "start_time": "2025-03-28T09:34:50.445Z"
   },
   {
    "duration": 150,
    "start_time": "2025-03-28T09:34:50.597Z"
   },
   {
    "duration": 16,
    "start_time": "2025-03-28T09:34:50.748Z"
   },
   {
    "duration": 16,
    "start_time": "2025-03-28T09:34:50.765Z"
   },
   {
    "duration": 3,
    "start_time": "2025-03-28T09:34:50.783Z"
   },
   {
    "duration": 4,
    "start_time": "2025-03-28T09:34:50.788Z"
   },
   {
    "duration": 16,
    "start_time": "2025-03-28T09:34:50.793Z"
   },
   {
    "duration": 14,
    "start_time": "2025-03-28T09:34:50.811Z"
   },
   {
    "duration": 36,
    "start_time": "2025-03-28T09:34:50.827Z"
   },
   {
    "duration": 178,
    "start_time": "2025-03-28T09:34:50.865Z"
   },
   {
    "duration": 24,
    "start_time": "2025-03-28T09:34:51.044Z"
   },
   {
    "duration": 196,
    "start_time": "2025-03-28T09:34:51.070Z"
   },
   {
    "duration": 195,
    "start_time": "2025-03-28T09:34:51.268Z"
   },
   {
    "duration": 196,
    "start_time": "2025-03-28T09:34:51.465Z"
   },
   {
    "duration": 13,
    "start_time": "2025-03-28T09:34:51.663Z"
   },
   {
    "duration": 11,
    "start_time": "2025-03-28T09:34:51.677Z"
   },
   {
    "duration": 45,
    "start_time": "2025-03-28T09:34:51.690Z"
   },
   {
    "duration": 13,
    "start_time": "2025-03-28T09:34:51.737Z"
   },
   {
    "duration": 4,
    "start_time": "2025-03-28T09:34:51.757Z"
   },
   {
    "duration": 99,
    "start_time": "2025-03-28T09:34:51.762Z"
   },
   {
    "duration": 13,
    "start_time": "2025-03-28T09:34:51.863Z"
   },
   {
    "duration": 6,
    "start_time": "2025-03-28T09:34:51.877Z"
   },
   {
    "duration": 10,
    "start_time": "2025-03-28T09:34:51.884Z"
   },
   {
    "duration": 18,
    "start_time": "2025-03-28T09:34:51.896Z"
   },
   {
    "duration": 11,
    "start_time": "2025-03-28T09:34:51.915Z"
   },
   {
    "duration": 12,
    "start_time": "2025-03-28T09:34:51.927Z"
   },
   {
    "duration": 10,
    "start_time": "2025-03-28T09:34:51.941Z"
   },
   {
    "duration": 13,
    "start_time": "2025-03-28T09:34:51.953Z"
   },
   {
    "duration": 10,
    "start_time": "2025-03-28T09:34:51.967Z"
   },
   {
    "duration": 5,
    "start_time": "2025-03-28T09:34:51.978Z"
   },
   {
    "duration": 25,
    "start_time": "2025-03-28T09:34:51.984Z"
   },
   {
    "duration": 12,
    "start_time": "2025-03-28T09:34:52.010Z"
   },
   {
    "duration": 18,
    "start_time": "2025-03-28T09:34:52.023Z"
   },
   {
    "duration": 14,
    "start_time": "2025-03-28T09:34:52.047Z"
   },
   {
    "duration": 6,
    "start_time": "2025-03-28T09:34:52.062Z"
   },
   {
    "duration": 2,
    "start_time": "2025-03-28T09:35:17.794Z"
   },
   {
    "duration": 316,
    "start_time": "2025-03-28T09:35:17.798Z"
   },
   {
    "duration": 9,
    "start_time": "2025-03-28T09:35:18.116Z"
   },
   {
    "duration": 4,
    "start_time": "2025-03-28T09:35:18.126Z"
   },
   {
    "duration": 9,
    "start_time": "2025-03-28T09:35:18.133Z"
   },
   {
    "duration": 20,
    "start_time": "2025-03-28T09:35:18.144Z"
   },
   {
    "duration": 67,
    "start_time": "2025-03-28T09:35:18.166Z"
   },
   {
    "duration": 8,
    "start_time": "2025-03-28T09:35:18.234Z"
   },
   {
    "duration": 106,
    "start_time": "2025-03-28T09:35:18.243Z"
   },
   {
    "duration": 16,
    "start_time": "2025-03-28T09:35:18.350Z"
   },
   {
    "duration": 22,
    "start_time": "2025-03-28T09:35:18.367Z"
   },
   {
    "duration": 58,
    "start_time": "2025-03-28T09:35:18.391Z"
   },
   {
    "duration": 7,
    "start_time": "2025-03-28T09:35:18.451Z"
   },
   {
    "duration": 3,
    "start_time": "2025-03-28T09:35:18.461Z"
   },
   {
    "duration": 18,
    "start_time": "2025-03-28T09:35:18.465Z"
   },
   {
    "duration": 23,
    "start_time": "2025-03-28T09:35:18.485Z"
   },
   {
    "duration": 27,
    "start_time": "2025-03-28T09:35:18.509Z"
   },
   {
    "duration": 19,
    "start_time": "2025-03-28T09:35:18.538Z"
   },
   {
    "duration": 4,
    "start_time": "2025-03-28T09:35:18.558Z"
   },
   {
    "duration": 22,
    "start_time": "2025-03-28T09:35:18.564Z"
   },
   {
    "duration": 12,
    "start_time": "2025-03-28T09:35:18.587Z"
   },
   {
    "duration": 5,
    "start_time": "2025-03-28T09:35:18.601Z"
   },
   {
    "duration": 5,
    "start_time": "2025-03-28T09:35:18.607Z"
   },
   {
    "duration": 8,
    "start_time": "2025-03-28T09:35:18.613Z"
   },
   {
    "duration": 4,
    "start_time": "2025-03-28T09:35:18.623Z"
   },
   {
    "duration": 29,
    "start_time": "2025-03-28T09:35:18.628Z"
   },
   {
    "duration": 6,
    "start_time": "2025-03-28T09:35:18.658Z"
   },
   {
    "duration": 8,
    "start_time": "2025-03-28T09:35:18.665Z"
   },
   {
    "duration": 6,
    "start_time": "2025-03-28T09:35:18.675Z"
   },
   {
    "duration": 7,
    "start_time": "2025-03-28T09:35:18.682Z"
   },
   {
    "duration": 14,
    "start_time": "2025-03-28T09:35:18.691Z"
   },
   {
    "duration": 12,
    "start_time": "2025-03-28T09:35:18.706Z"
   },
   {
    "duration": 171,
    "start_time": "2025-03-28T09:35:18.720Z"
   },
   {
    "duration": 8,
    "start_time": "2025-03-28T09:35:18.893Z"
   },
   {
    "duration": 165,
    "start_time": "2025-03-28T09:35:18.903Z"
   },
   {
    "duration": 8,
    "start_time": "2025-03-28T09:35:19.069Z"
   },
   {
    "duration": 22,
    "start_time": "2025-03-28T09:35:19.078Z"
   },
   {
    "duration": 229,
    "start_time": "2025-03-28T09:35:19.102Z"
   },
   {
    "duration": 81,
    "start_time": "2025-03-28T09:35:19.332Z"
   },
   {
    "duration": 174,
    "start_time": "2025-03-28T09:35:19.415Z"
   },
   {
    "duration": 7,
    "start_time": "2025-03-28T09:35:19.594Z"
   },
   {
    "duration": 17,
    "start_time": "2025-03-28T09:35:19.603Z"
   },
   {
    "duration": 147,
    "start_time": "2025-03-28T09:35:19.621Z"
   },
   {
    "duration": 180,
    "start_time": "2025-03-28T09:35:19.770Z"
   },
   {
    "duration": 157,
    "start_time": "2025-03-28T09:35:19.952Z"
   },
   {
    "duration": 140,
    "start_time": "2025-03-28T09:35:20.110Z"
   },
   {
    "duration": 12,
    "start_time": "2025-03-28T09:35:20.256Z"
   },
   {
    "duration": 200,
    "start_time": "2025-03-28T09:35:20.270Z"
   },
   {
    "duration": 181,
    "start_time": "2025-03-28T09:35:20.472Z"
   },
   {
    "duration": 142,
    "start_time": "2025-03-28T09:35:20.656Z"
   },
   {
    "duration": 144,
    "start_time": "2025-03-28T09:35:20.799Z"
   },
   {
    "duration": 13,
    "start_time": "2025-03-28T09:35:20.945Z"
   },
   {
    "duration": 23,
    "start_time": "2025-03-28T09:35:20.960Z"
   },
   {
    "duration": 3,
    "start_time": "2025-03-28T09:35:20.985Z"
   },
   {
    "duration": 38,
    "start_time": "2025-03-28T09:35:20.989Z"
   },
   {
    "duration": 27,
    "start_time": "2025-03-28T09:35:21.029Z"
   },
   {
    "duration": 19,
    "start_time": "2025-03-28T09:35:21.057Z"
   },
   {
    "duration": 15,
    "start_time": "2025-03-28T09:35:21.078Z"
   },
   {
    "duration": 185,
    "start_time": "2025-03-28T09:35:21.095Z"
   },
   {
    "duration": 19,
    "start_time": "2025-03-28T09:35:21.281Z"
   },
   {
    "duration": 202,
    "start_time": "2025-03-28T09:35:21.302Z"
   },
   {
    "duration": 184,
    "start_time": "2025-03-28T09:35:21.506Z"
   },
   {
    "duration": 194,
    "start_time": "2025-03-28T09:35:21.691Z"
   },
   {
    "duration": 11,
    "start_time": "2025-03-28T09:35:21.887Z"
   },
   {
    "duration": 6,
    "start_time": "2025-03-28T09:35:21.899Z"
   },
   {
    "duration": 35,
    "start_time": "2025-03-28T09:35:21.906Z"
   },
   {
    "duration": 24,
    "start_time": "2025-03-28T09:35:21.942Z"
   },
   {
    "duration": 4,
    "start_time": "2025-03-28T09:35:21.967Z"
   },
   {
    "duration": 11,
    "start_time": "2025-03-28T09:35:21.972Z"
   },
   {
    "duration": 8,
    "start_time": "2025-03-28T09:35:21.985Z"
   },
   {
    "duration": 12,
    "start_time": "2025-03-28T09:35:21.994Z"
   },
   {
    "duration": 5,
    "start_time": "2025-03-28T09:35:22.007Z"
   },
   {
    "duration": 8,
    "start_time": "2025-03-28T09:35:22.013Z"
   },
   {
    "duration": 11,
    "start_time": "2025-03-28T09:35:22.022Z"
   },
   {
    "duration": 14,
    "start_time": "2025-03-28T09:35:22.035Z"
   },
   {
    "duration": 3,
    "start_time": "2025-03-28T09:35:22.050Z"
   },
   {
    "duration": 4,
    "start_time": "2025-03-28T09:35:22.054Z"
   },
   {
    "duration": 5,
    "start_time": "2025-03-28T09:35:22.060Z"
   },
   {
    "duration": 3,
    "start_time": "2025-03-28T09:35:22.066Z"
   },
   {
    "duration": 3,
    "start_time": "2025-03-28T09:35:22.070Z"
   },
   {
    "duration": 10,
    "start_time": "2025-03-28T09:35:22.074Z"
   },
   {
    "duration": 24,
    "start_time": "2025-03-28T09:35:22.086Z"
   },
   {
    "duration": 3,
    "start_time": "2025-03-28T09:35:22.111Z"
   },
   {
    "duration": 6,
    "start_time": "2025-03-28T09:35:22.116Z"
   },
   {
    "duration": 1303,
    "start_time": "2025-03-28T13:30:16.916Z"
   },
   {
    "duration": 48,
    "start_time": "2025-03-28T13:30:18.221Z"
   },
   {
    "duration": 12,
    "start_time": "2025-03-28T13:30:18.271Z"
   },
   {
    "duration": 3,
    "start_time": "2025-03-28T13:30:18.286Z"
   },
   {
    "duration": 12,
    "start_time": "2025-03-28T13:30:18.291Z"
   },
   {
    "duration": 21,
    "start_time": "2025-03-28T13:30:18.307Z"
   },
   {
    "duration": 126,
    "start_time": "2025-03-28T13:30:18.330Z"
   },
   {
    "duration": 9,
    "start_time": "2025-03-28T13:30:18.458Z"
   },
   {
    "duration": 10,
    "start_time": "2025-03-28T13:30:18.468Z"
   },
   {
    "duration": 10,
    "start_time": "2025-03-28T13:30:18.482Z"
   },
   {
    "duration": 29,
    "start_time": "2025-03-28T13:30:18.494Z"
   },
   {
    "duration": 34,
    "start_time": "2025-03-28T13:30:18.525Z"
   },
   {
    "duration": 7,
    "start_time": "2025-03-28T13:30:18.560Z"
   },
   {
    "duration": 10,
    "start_time": "2025-03-28T13:30:18.569Z"
   },
   {
    "duration": 14,
    "start_time": "2025-03-28T13:30:18.581Z"
   },
   {
    "duration": 8,
    "start_time": "2025-03-28T13:30:18.597Z"
   },
   {
    "duration": 25,
    "start_time": "2025-03-28T13:30:18.606Z"
   },
   {
    "duration": 21,
    "start_time": "2025-03-28T13:30:18.633Z"
   },
   {
    "duration": 6,
    "start_time": "2025-03-28T13:30:18.655Z"
   },
   {
    "duration": 8,
    "start_time": "2025-03-28T13:30:18.662Z"
   },
   {
    "duration": 14,
    "start_time": "2025-03-28T13:30:18.672Z"
   },
   {
    "duration": 21,
    "start_time": "2025-03-28T13:30:18.688Z"
   },
   {
    "duration": 7,
    "start_time": "2025-03-28T13:30:18.711Z"
   },
   {
    "duration": 7,
    "start_time": "2025-03-28T13:30:18.720Z"
   },
   {
    "duration": 4,
    "start_time": "2025-03-28T13:30:18.728Z"
   },
   {
    "duration": 17,
    "start_time": "2025-03-28T13:30:18.734Z"
   },
   {
    "duration": 25,
    "start_time": "2025-03-28T13:30:18.752Z"
   },
   {
    "duration": 4,
    "start_time": "2025-03-28T13:30:18.781Z"
   },
   {
    "duration": 7,
    "start_time": "2025-03-28T13:30:18.786Z"
   },
   {
    "duration": 13,
    "start_time": "2025-03-28T13:30:18.795Z"
   },
   {
    "duration": 22,
    "start_time": "2025-03-28T13:30:18.810Z"
   },
   {
    "duration": 5,
    "start_time": "2025-03-28T13:30:18.833Z"
   },
   {
    "duration": 153,
    "start_time": "2025-03-28T13:30:18.839Z"
   },
   {
    "duration": 9,
    "start_time": "2025-03-28T13:30:18.993Z"
   },
   {
    "duration": 164,
    "start_time": "2025-03-28T13:30:19.006Z"
   },
   {
    "duration": 9,
    "start_time": "2025-03-28T13:30:19.172Z"
   },
   {
    "duration": 26,
    "start_time": "2025-03-28T13:30:19.182Z"
   },
   {
    "duration": 113,
    "start_time": "2025-03-28T13:30:19.209Z"
   },
   {
    "duration": 85,
    "start_time": "2025-03-28T13:30:19.323Z"
   },
   {
    "duration": 184,
    "start_time": "2025-03-28T13:30:19.409Z"
   },
   {
    "duration": 19,
    "start_time": "2025-03-28T13:30:19.596Z"
   },
   {
    "duration": 17,
    "start_time": "2025-03-28T13:30:19.617Z"
   },
   {
    "duration": 163,
    "start_time": "2025-03-28T13:30:19.636Z"
   },
   {
    "duration": 186,
    "start_time": "2025-03-28T13:30:19.801Z"
   },
   {
    "duration": 160,
    "start_time": "2025-03-28T13:30:19.989Z"
   },
   {
    "duration": 219,
    "start_time": "2025-03-28T13:30:20.150Z"
   },
   {
    "duration": 14,
    "start_time": "2025-03-28T13:30:20.371Z"
   },
   {
    "duration": 154,
    "start_time": "2025-03-28T13:30:20.386Z"
   },
   {
    "duration": 182,
    "start_time": "2025-03-28T13:30:20.542Z"
   },
   {
    "duration": 154,
    "start_time": "2025-03-28T13:30:20.726Z"
   },
   {
    "duration": 162,
    "start_time": "2025-03-28T13:30:20.882Z"
   },
   {
    "duration": 11,
    "start_time": "2025-03-28T13:30:21.045Z"
   },
   {
    "duration": 23,
    "start_time": "2025-03-28T13:30:21.057Z"
   },
   {
    "duration": 4,
    "start_time": "2025-03-28T13:30:21.081Z"
   },
   {
    "duration": 4,
    "start_time": "2025-03-28T13:30:21.107Z"
   },
   {
    "duration": 15,
    "start_time": "2025-03-28T13:30:21.113Z"
   },
   {
    "duration": 16,
    "start_time": "2025-03-28T13:30:21.129Z"
   },
   {
    "duration": 13,
    "start_time": "2025-03-28T13:30:21.147Z"
   },
   {
    "duration": 237,
    "start_time": "2025-03-28T13:30:21.161Z"
   },
   {
    "duration": 24,
    "start_time": "2025-03-28T13:30:21.399Z"
   },
   {
    "duration": 190,
    "start_time": "2025-03-28T13:30:21.425Z"
   },
   {
    "duration": 185,
    "start_time": "2025-03-28T13:30:21.616Z"
   },
   {
    "duration": 207,
    "start_time": "2025-03-28T13:30:21.803Z"
   },
   {
    "duration": 13,
    "start_time": "2025-03-28T13:30:22.012Z"
   },
   {
    "duration": 5,
    "start_time": "2025-03-28T13:30:22.026Z"
   },
   {
    "duration": 32,
    "start_time": "2025-03-28T13:30:22.032Z"
   },
   {
    "duration": 12,
    "start_time": "2025-03-28T13:30:22.066Z"
   },
   {
    "duration": 33,
    "start_time": "2025-03-28T13:30:22.080Z"
   },
   {
    "duration": 6,
    "start_time": "2025-03-28T13:30:22.115Z"
   },
   {
    "duration": 10,
    "start_time": "2025-03-28T13:30:22.122Z"
   },
   {
    "duration": 4,
    "start_time": "2025-03-28T13:30:22.133Z"
   },
   {
    "duration": 4,
    "start_time": "2025-03-28T13:30:22.139Z"
   },
   {
    "duration": 3,
    "start_time": "2025-03-28T13:30:22.144Z"
   },
   {
    "duration": 6,
    "start_time": "2025-03-28T13:30:22.148Z"
   },
   {
    "duration": 6,
    "start_time": "2025-03-28T13:30:22.155Z"
   },
   {
    "duration": 3,
    "start_time": "2025-03-28T13:30:22.163Z"
   },
   {
    "duration": 4,
    "start_time": "2025-03-28T13:30:22.167Z"
   },
   {
    "duration": 34,
    "start_time": "2025-03-28T13:30:22.173Z"
   },
   {
    "duration": 3,
    "start_time": "2025-03-28T13:30:22.208Z"
   },
   {
    "duration": 16,
    "start_time": "2025-03-28T13:30:22.213Z"
   },
   {
    "duration": 6,
    "start_time": "2025-03-28T13:30:22.231Z"
   },
   {
    "duration": 3,
    "start_time": "2025-03-28T13:30:22.243Z"
   },
   {
    "duration": 2,
    "start_time": "2025-03-28T13:30:22.248Z"
   },
   {
    "duration": 11,
    "start_time": "2025-03-28T13:30:22.252Z"
   }
  ],
  "kernelspec": {
   "display_name": "Python 3 (ipykernel)",
   "language": "python",
   "name": "python3"
  },
  "language_info": {
   "codemirror_mode": {
    "name": "ipython",
    "version": 3
   },
   "file_extension": ".py",
   "mimetype": "text/x-python",
   "name": "python",
   "nbconvert_exporter": "python",
   "pygments_lexer": "ipython3",
   "version": "3.11.7"
  },
  "toc": {
   "base_numbering": 1,
   "nav_menu": {},
   "number_sections": true,
   "sideBar": true,
   "skip_h1_title": true,
   "title_cell": "Table of Contents",
   "title_sidebar": "Contents",
   "toc_cell": false,
   "toc_position": {},
   "toc_section_display": true,
   "toc_window_display": false
  }
 },
 "nbformat": 4,
 "nbformat_minor": 5
}
